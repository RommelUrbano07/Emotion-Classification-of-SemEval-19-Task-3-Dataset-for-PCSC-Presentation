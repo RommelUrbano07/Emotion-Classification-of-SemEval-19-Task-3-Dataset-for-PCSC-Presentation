{
  "nbformat": 4,
  "nbformat_minor": 0,
  "metadata": {
    "accelerator": "GPU",
    "colab": {
      "name": "LSTM_3Class_Project.ipynb",
      "provenance": [],
      "collapsed_sections": [
        "Qd5TJkehaWD7",
        "MssB-8729D65",
        "CDFx9-zp-dyt",
        "2uauCFeluZui",
        "VczXcS6Iv6Lt",
        "bqf9kHwDaWEK",
        "KnhqBGU9aWEQ",
        "xAlv9Y7WaWEc",
        "Rp8_oI_A91pO",
        "rpD7Lw0vdmvL"
      ]
    },
    "kernelspec": {
      "display_name": "Python 3",
      "language": "python",
      "name": "python3"
    },
    "language_info": {
      "codemirror_mode": {
        "name": "ipython",
        "version": 3
      },
      "file_extension": ".py",
      "mimetype": "text/x-python",
      "name": "python",
      "nbconvert_exporter": "python",
      "pygments_lexer": "ipython3",
      "version": "3.7.3"
    }
  },
  "cells": [
    {
      "cell_type": "code",
      "metadata": {
        "id": "fHAj_wpfbpji"
      },
      "source": [
        "from google.colab import drive\n",
        "drive.mount('/content/drive')"
      ],
      "execution_count": null,
      "outputs": []
    },
    {
      "cell_type": "markdown",
      "metadata": {
        "id": "Qd5TJkehaWD7"
      },
      "source": [
        "# ***Data/Library Import***"
      ]
    },
    {
      "cell_type": "code",
      "metadata": {
        "id": "TyU2wyAvaWEC"
      },
      "source": [
        "#library imports\n",
        "import torch\n",
        "import torch.nn as nn\n",
        "import pandas as pd\n",
        "import numpy as np\n",
        "import re \n",
        "import spacy\n",
        "import seaborn as sns\n",
        "from collections import Counter\n",
        "from torch.utils.data import Dataset, DataLoader\n",
        "import torch.nn.functional as F\n",
        "import string\n",
        "from torch.nn.utils.rnn import pack_padded_sequence, pad_packed_sequence\n",
        "from sklearn.metrics import mean_squared_error\n",
        "import random\n",
        "import math"
      ],
      "execution_count": null,
      "outputs": []
    },
    {
      "cell_type": "code",
      "metadata": {
        "colab": {
          "base_uri": "https://localhost:8080/"
        },
        "id": "34rtu6Q0aWEK",
        "outputId": "edf0a301-c6ca-4cd9-c2e1-72507c8a405c"
      },
      "source": [
        "SEED = 1234\n",
        "torch.manual_seed(SEED)\n",
        "#loading the train data by using the \"tab\" or \\t as a separator \n",
        "reviews = pd.read_csv(\"/content/drive/MyDrive/DL_Project_train.txt\",sep=\"\\t\")\n",
        "print(reviews.shape)\n",
        "reviews.head(10)"
      ],
      "execution_count": null,
      "outputs": [
        {
          "output_type": "stream",
          "text": [
            "(30160, 5)\n"
          ],
          "name": "stdout"
        },
        {
          "output_type": "execute_result",
          "data": {
            "text/html": [
              "<div>\n",
              "<style scoped>\n",
              "    .dataframe tbody tr th:only-of-type {\n",
              "        vertical-align: middle;\n",
              "    }\n",
              "\n",
              "    .dataframe tbody tr th {\n",
              "        vertical-align: top;\n",
              "    }\n",
              "\n",
              "    .dataframe thead th {\n",
              "        text-align: right;\n",
              "    }\n",
              "</style>\n",
              "<table border=\"1\" class=\"dataframe\">\n",
              "  <thead>\n",
              "    <tr style=\"text-align: right;\">\n",
              "      <th></th>\n",
              "      <th>id</th>\n",
              "      <th>turn1</th>\n",
              "      <th>turn2</th>\n",
              "      <th>turn3</th>\n",
              "      <th>label</th>\n",
              "    </tr>\n",
              "  </thead>\n",
              "  <tbody>\n",
              "    <tr>\n",
              "      <th>0</th>\n",
              "      <td>0</td>\n",
              "      <td>Don't worry  I'm girl</td>\n",
              "      <td>hmm how do I know if you are</td>\n",
              "      <td>What's ur name?</td>\n",
              "      <td>others</td>\n",
              "    </tr>\n",
              "    <tr>\n",
              "      <th>1</th>\n",
              "      <td>1</td>\n",
              "      <td>When did I?</td>\n",
              "      <td>saw many times i think -_-</td>\n",
              "      <td>No. I never saw you</td>\n",
              "      <td>angry</td>\n",
              "    </tr>\n",
              "    <tr>\n",
              "      <th>2</th>\n",
              "      <td>2</td>\n",
              "      <td>By</td>\n",
              "      <td>by Google Chrome</td>\n",
              "      <td>Where you live</td>\n",
              "      <td>others</td>\n",
              "    </tr>\n",
              "    <tr>\n",
              "      <th>3</th>\n",
              "      <td>3</td>\n",
              "      <td>U r ridiculous</td>\n",
              "      <td>I might be ridiculous but I am telling the truth.</td>\n",
              "      <td>U little disgusting whore</td>\n",
              "      <td>angry</td>\n",
              "    </tr>\n",
              "    <tr>\n",
              "      <th>4</th>\n",
              "      <td>4</td>\n",
              "      <td>Just for time pass</td>\n",
              "      <td>wt do u do 4 a living then</td>\n",
              "      <td>Maybe</td>\n",
              "      <td>others</td>\n",
              "    </tr>\n",
              "    <tr>\n",
              "      <th>5</th>\n",
              "      <td>5</td>\n",
              "      <td>I'm a dog person</td>\n",
              "      <td>youre so rude</td>\n",
              "      <td>Whaaaat why</td>\n",
              "      <td>others</td>\n",
              "    </tr>\n",
              "    <tr>\n",
              "      <th>6</th>\n",
              "      <td>6</td>\n",
              "      <td>So whatsup</td>\n",
              "      <td>Nothing much. Sitting sipping and watching TV....</td>\n",
              "      <td>What are you watching on tv?</td>\n",
              "      <td>others</td>\n",
              "    </tr>\n",
              "    <tr>\n",
              "      <th>7</th>\n",
              "      <td>7</td>\n",
              "      <td>Ok</td>\n",
              "      <td>ok im back!!</td>\n",
              "      <td>So, how are u</td>\n",
              "      <td>others</td>\n",
              "    </tr>\n",
              "    <tr>\n",
              "      <th>8</th>\n",
              "      <td>8</td>\n",
              "      <td>Really?</td>\n",
              "      <td>really really really really really</td>\n",
              "      <td>Y saying so many times...i can hear you</td>\n",
              "      <td>others</td>\n",
              "    </tr>\n",
              "    <tr>\n",
              "      <th>9</th>\n",
              "      <td>9</td>\n",
              "      <td>Bay</td>\n",
              "      <td>in the bay</td>\n",
              "      <td>😘 love you</td>\n",
              "      <td>others</td>\n",
              "    </tr>\n",
              "  </tbody>\n",
              "</table>\n",
              "</div>"
            ],
            "text/plain": [
              "   id                  turn1  ...                                    turn3   label\n",
              "0   0  Don't worry  I'm girl  ...                          What's ur name?  others\n",
              "1   1            When did I?  ...                      No. I never saw you   angry\n",
              "2   2                     By  ...                           Where you live  others\n",
              "3   3         U r ridiculous  ...                U little disgusting whore   angry\n",
              "4   4     Just for time pass  ...                                    Maybe  others\n",
              "5   5       I'm a dog person  ...                              Whaaaat why  others\n",
              "6   6             So whatsup  ...             What are you watching on tv?  others\n",
              "7   7                     Ok  ...                            So, how are u  others\n",
              "8   8                Really?  ...  Y saying so many times...i can hear you  others\n",
              "9   9                    Bay  ...                               😘 love you  others\n",
              "\n",
              "[10 rows x 5 columns]"
            ]
          },
          "metadata": {
            "tags": []
          },
          "execution_count": 40
        }
      ]
    },
    {
      "cell_type": "code",
      "metadata": {
        "colab": {
          "base_uri": "https://localhost:8080/"
        },
        "id": "Ua03TknGaWEK",
        "outputId": "e1ea911a-2dd6-436e-a063-3b1c8bbcfa42"
      },
      "source": [
        "#concatination of turn 1, turn 2, turn 3 to create a single column of text\n",
        "reviews['review'] = reviews['turn1'] + ' ' + reviews['turn2']+' '+reviews['turn3']\n",
        "\n",
        "#resetting the dataframe index caused by data partitioning\n",
        "reviews = reviews.sample(frac=1).reset_index(drop=True)\n",
        "print(reviews.shape)"
      ],
      "execution_count": null,
      "outputs": [
        {
          "output_type": "stream",
          "text": [
            "(30160, 6)\n"
          ],
          "name": "stdout"
        }
      ]
    },
    {
      "cell_type": "markdown",
      "metadata": {
        "id": "MssB-8729D65"
      },
      "source": [
        "# ***DATA ANALYSIS***"
      ]
    },
    {
      "cell_type": "code",
      "metadata": {
        "id": "BJegCSSN9OzP"
      },
      "source": [
        "dataset=reviews"
      ],
      "execution_count": null,
      "outputs": []
    },
    {
      "cell_type": "code",
      "metadata": {
        "colab": {
          "base_uri": "https://localhost:8080/",
          "height": 605
        },
        "id": "4LD0hm0i9S6O",
        "outputId": "6be609fb-0bbd-46fd-ecf4-517011611db9"
      },
      "source": [
        "#Visualization of the distribution on the train data\n",
        "print(dataset['label'].value_counts() , '\\n' )\n",
        "#Counting Target Variable Distribution\n",
        "print( (dataset['label'].value_counts()/len(dataset)) * 100 , '\\n' )\n",
        "#Counting Target Variable Distribution\n",
        "\n",
        "sns.displot(dataset['label'])\n",
        "#Seaborn Histogram Plot of Target Variable Distribution"
      ],
      "execution_count": null,
      "outputs": [
        {
          "output_type": "stream",
          "text": [
            "others    14948\n",
            "angry      5506\n",
            "sad        5463\n",
            "happy      4243\n",
            "Name: label, dtype: int64 \n",
            "\n",
            "others    49.562334\n",
            "angry     18.255968\n",
            "sad       18.113395\n",
            "happy     14.068302\n",
            "Name: label, dtype: float64 \n",
            "\n"
          ],
          "name": "stdout"
        },
        {
          "output_type": "execute_result",
          "data": {
            "text/plain": [
              "<seaborn.axisgrid.FacetGrid at 0x7f59d21ea290>"
            ]
          },
          "metadata": {
            "tags": []
          },
          "execution_count": 43
        },
        {
          "output_type": "display_data",
          "data": {
            "image/png": "[encoded data removed]",
            "text/plain": [
              "<Figure size 360x360 with 1 Axes>"
            ]
          },
          "metadata": {
            "tags": [],
            "needs_background": "light"
          }
        }
      ]
    },
    {
      "cell_type": "code",
      "metadata": {
        "colab": {
          "base_uri": "https://localhost:8080/"
        },
        "id": "P_-ATMmt9xkm",
        "outputId": "226ca3cb-9f42-474a-a821-ef98714fbf63"
      },
      "source": [
        "#getting all the total unique words count of all the turns (turn 1, turn 2, turn 3)\n",
        "unique_words_all_turns=[]\n",
        "temp_list=dataset['turn1'].append(dataset['turn2'].append(dataset['turn3'])) #appending every turn into the variable in order to access each turns.\n",
        "#accessing the temp_list that contains the data for all turn and counts the total unique words.\n",
        "for word in temp_list:\n",
        "  temp = word.split(' ')\n",
        "  for word in temp:\n",
        "    if word not in unique_words_all_turns:\n",
        "      unique_words_all_turns.append(word)\n",
        "print('Unique word size for ALL TURNS:', len(unique_words_all_turns))\n",
        "#prints out the total frequency of all the unique words\n",
        "#word_count_value.append(len(unique_words_all_turns))"
      ],
      "execution_count": null,
      "outputs": [
        {
          "output_type": "stream",
          "text": [
            "Unique word size for ALL TURNS: 33025\n"
          ],
          "name": "stdout"
        }
      ]
    },
    {
      "cell_type": "code",
      "metadata": {
        "id": "cWKqzSfD905j",
        "colab": {
          "base_uri": "https://localhost:8080/"
        },
        "outputId": "ee0ecb9c-1d8f-4de1-d913-ed7011d73c9b"
      },
      "source": [
        "#this function simply outputs the unique word count/size of turn 1\n",
        "word_count_turns=[]\n",
        "temp_list=dataset['turn1'] #assigning the turn 1 data into a variable\n",
        "for word in temp_list: #the process on which every word is counted.\n",
        "  temp = word.split(' ')\n",
        "  for word in temp:\n",
        "    if word not in word_count_turns:\n",
        "      word_count_turns.append(word)\n",
        "print('Unique word size for FIRST TURN:', len(word_count_turns)) #prints out the unique word count of turn 1\n",
        "#word_count_value.append(len(word_count_turns))"
      ],
      "execution_count": null,
      "outputs": [
        {
          "output_type": "stream",
          "text": [
            "Unique word size for FIRST TURN: 13146\n"
          ],
          "name": "stdout"
        }
      ]
    },
    {
      "cell_type": "code",
      "metadata": {
        "id": "UR2tT_oy93Sr",
        "colab": {
          "base_uri": "https://localhost:8080/"
        },
        "outputId": "fc22ed1e-df1d-4f28-c418-4d8bdf0b10c5"
      },
      "source": [
        "#this function simply outputs the unique word count/size of turn 2\n",
        "word_count_turns=[]\n",
        "temp_list=dataset['turn2']  #assigning the turn 2 data into a variable\n",
        "for word in temp_list: #the process on which every word is counted.\n",
        "  temp = word.split(' ')\n",
        "  for word in temp:\n",
        "    if word not in word_count_turns:\n",
        "      word_count_turns.append(word)\n",
        "print('Unique word size for SECOND TURN:', len(word_count_turns)) #prints out the unique word count of turn 2\n",
        "#word_count_value.append(len(word_count_turns))"
      ],
      "execution_count": null,
      "outputs": [
        {
          "output_type": "stream",
          "text": [
            "Unique word size for SECOND TURN: 19398\n"
          ],
          "name": "stdout"
        }
      ]
    },
    {
      "cell_type": "code",
      "metadata": {
        "id": "FNaA83oU95Gb",
        "colab": {
          "base_uri": "https://localhost:8080/"
        },
        "outputId": "6b5b2b81-1233-48fc-8898-fe2ad3b1c429"
      },
      "source": [
        "#this function simply outputs the unique word count/size of turn 3\n",
        "word_count_turns=[]\n",
        "temp_list=dataset['turn3'] #assigning the turn 3 data into a variable\n",
        "for word in temp_list: #the process on which every word is counted.\n",
        "  temp = word.split(' ')\n",
        "  for word in temp:\n",
        "    if word not in word_count_turns:\n",
        "      word_count_turns.append(word)\n",
        "print('Unique word size for THIRD TURN:', len(word_count_turns)) #prints out the unique word count of turn 3\n",
        "#word_count_value.append(len(word_count_turns))"
      ],
      "execution_count": null,
      "outputs": [
        {
          "output_type": "stream",
          "text": [
            "Unique word size for THIRD TURN: 12778\n"
          ],
          "name": "stdout"
        }
      ]
    },
    {
      "cell_type": "code",
      "metadata": {
        "id": "3smAIkDk95f1",
        "colab": {
          "base_uri": "https://localhost:8080/",
          "height": 244
        },
        "outputId": "f54a988f-d4b2-4ddb-e7dd-b0ef8e1e9602"
      },
      "source": [
        "#shows the visualization and comparison of the word frequency of turn 1, turn 2, and turn 3.\n",
        "import plotly as py\n",
        "import plotly.graph_objects as go\n",
        "\n",
        "data = [go.Bar(\n",
        "            x = ['all','turn1','turn2','turn3'],\n",
        "            y = word_count_value,\n",
        "            marker = dict(colorscale = 'darkmint',\n",
        "                         color = word_count_value\n",
        "                         ),\n",
        "            text = 'Word counts'\n",
        "    )]\n",
        "\n",
        "layout = go.Layout(\n",
        "    title='Word Count Comparison (Turn 1, Turn 2, Turn 3)'\n",
        ")\n",
        "\n",
        "fig = go.Figure(data=data, layout = layout)\n",
        "fig.show()"
      ],
      "execution_count": null,
      "outputs": [
        {
          "output_type": "error",
          "ename": "NameError",
          "evalue": "ignored",
          "traceback": [
            "\u001b[0;31m---------------------------------------------------------------------------\u001b[0m",
            "\u001b[0;31mNameError\u001b[0m                                 Traceback (most recent call last)",
            "\u001b[0;32m<ipython-input-48-0dcbf6adbd3e>\u001b[0m in \u001b[0;36m<module>\u001b[0;34m()\u001b[0m\n\u001b[1;32m      5\u001b[0m data = [go.Bar(\n\u001b[1;32m      6\u001b[0m             \u001b[0mx\u001b[0m \u001b[0;34m=\u001b[0m \u001b[0;34m[\u001b[0m\u001b[0;34m'all'\u001b[0m\u001b[0;34m,\u001b[0m\u001b[0;34m'turn1'\u001b[0m\u001b[0;34m,\u001b[0m\u001b[0;34m'turn2'\u001b[0m\u001b[0;34m,\u001b[0m\u001b[0;34m'turn3'\u001b[0m\u001b[0;34m]\u001b[0m\u001b[0;34m,\u001b[0m\u001b[0;34m\u001b[0m\u001b[0;34m\u001b[0m\u001b[0m\n\u001b[0;32m----> 7\u001b[0;31m             \u001b[0my\u001b[0m \u001b[0;34m=\u001b[0m \u001b[0mword_count_value\u001b[0m\u001b[0;34m,\u001b[0m\u001b[0;34m\u001b[0m\u001b[0;34m\u001b[0m\u001b[0m\n\u001b[0m\u001b[1;32m      8\u001b[0m             marker = dict(colorscale = 'darkmint',\n\u001b[1;32m      9\u001b[0m                          \u001b[0mcolor\u001b[0m \u001b[0;34m=\u001b[0m \u001b[0mword_count_value\u001b[0m\u001b[0;34m\u001b[0m\u001b[0;34m\u001b[0m\u001b[0m\n",
            "\u001b[0;31mNameError\u001b[0m: name 'word_count_value' is not defined"
          ]
        }
      ]
    },
    {
      "cell_type": "code",
      "metadata": {
        "id": "V72R98yA96pg"
      },
      "source": [
        "# this funtion prints out and visualizes the top 10 unigrams for turn 1 (or the top 10 most used words in turn 1)\n",
        "words = dataset['turn1'].str.split(expand = True).unstack().value_counts() #accessing the dataset turn 1 and assigning it into a variable\n",
        "\n",
        "print(words.index.values[0:10],) #getting the top 10 words with the highest frequency\n",
        "print(words.values[0:10]) #getting the actual value or frequency of the top 10 unigrams.\n",
        "\n",
        "import plotly as py\n",
        "import plotly.graph_objects as go\n",
        "\n",
        "#visualizes the top unigrams in descending order (starting from the frequently used words down to less used word) together with the actual count of each word.\n",
        "data = [go.Bar(\n",
        "            x = words.index.values[0:10],\n",
        "            y = words.values[0:10],\n",
        "            marker = dict(colorscale = 'magma',\n",
        "                         color = words.values[0:160]\n",
        "                         ),\n",
        "            text = 'Word counts'\n",
        "    )]\n",
        "\n",
        "layout = go.Layout(\n",
        "    title='Top 10 Words (Turn 1)'\n",
        ")\n",
        "\n",
        "fig = go.Figure(data=data, layout = layout)\n",
        "fig.show()"
      ],
      "execution_count": null,
      "outputs": []
    },
    {
      "cell_type": "code",
      "metadata": {
        "id": "Rem4i0jF978j"
      },
      "source": [
        "# this funtion prints out and visualizes the top 10 unigrams for turn 2 (or the top 10 most used words in turn 2)\n",
        "words = dataset['turn2'].str.split(expand = True).unstack().value_counts() #accessing the dataset turn 2 and assigning it into a variable\n",
        "\n",
        "\n",
        "print(words.index.values[0:10],)#getting the top 10 words with the highest frequency\n",
        "print(words.values[0:10]) #getting the actual value or frequency of the top 10 unigrams.\n",
        "\n",
        "#visualizes the top unigrams in descending order (starting from the frequently used words down to less used word) together with the actual count of each word.\n",
        "import plotly as py\n",
        "import plotly.graph_objects as go\n",
        "\n",
        "data = [go.Bar(\n",
        "            x = words.index.values[0:10],\n",
        "            y = words.values[0:10],\n",
        "            marker = dict(colorscale = 'magenta',\n",
        "                         color = words.values[0:160]\n",
        "                         ),\n",
        "            text = 'Word counts'\n",
        "    )]\n",
        "\n",
        "layout = go.Layout(\n",
        "    title='Top 10 Words (Turn 2)'\n",
        ")\n",
        "\n",
        "fig = go.Figure(data=data, layout = layout)\n",
        "fig.show()"
      ],
      "execution_count": null,
      "outputs": []
    },
    {
      "cell_type": "code",
      "metadata": {
        "id": "Za4ypufq99gM"
      },
      "source": [
        "# this funtion prints out and visualizes the top 10 unigrams for turn 3 (or the top 10 most used words in turn 3)\n",
        "words = dataset['turn3'].str.split(expand = True).unstack().value_counts() #accessing the dataset turn 3 and assigning it into a variable\n",
        "\n",
        "\n",
        "print(words.index.values[0:10],) #getting the top 10 words with the highest frequency\n",
        "print(words.values[0:10]) #getting the actual value or frequency of the top 10 unigrams.\n",
        "#visualizes the top unigrams in descending order (starting from the frequently used words down to less used word) together with the actual count of each word.\n",
        "import plotly as py\n",
        "import plotly.graph_objects as go\n",
        "\n",
        "data = [go.Bar(\n",
        "            x = words.index.values[0:10],\n",
        "            y = words.values[0:10],\n",
        "            marker = dict(colorscale = 'rainbow',\n",
        "                         color = words.values[0:160]\n",
        "                         ),\n",
        "            text = 'Word counts'\n",
        "    )]\n",
        "\n",
        "layout = go.Layout(\n",
        "    title='Top 10 Words (Turn 3)'\n",
        ")\n",
        "\n",
        "fig = go.Figure(data=data, layout = layout)\n",
        "fig.show()"
      ],
      "execution_count": null,
      "outputs": []
    },
    {
      "cell_type": "code",
      "metadata": {
        "id": "BypVqeq79_U5"
      },
      "source": [
        "## this funtion prints out and visualizes the top 20 unigrams for all turns (or the top 20 most used words in all turns)\n",
        "words = dataset['turn1'].append(dataset['turn2'].append(dataset['turn3'])).str.split(expand = True).unstack().value_counts() #accessing the dataset of all turns and assign it into a variable\n",
        "\n",
        "print(words.index.values[0:20]) #getting the top 20 words with the highest frequency\n",
        "print(words.values[0:20]) #getting the actual value or frequency of the top 20 unigrams.\n",
        "#visualizes the top unigrams in descending order (starting from the frequently used words down to less used word) together with the actual count of each word.\n",
        "import plotly as py\n",
        "import plotly.graph_objects as go\n",
        "\n",
        "data = [go.Bar(\n",
        "            x = words.index.values[0:20],\n",
        "            y = words.values[0:20],\n",
        "            marker = dict(colorscale = 'darkmint',\n",
        "                         color = words.values[0:160]\n",
        "                         ),\n",
        "            text = 'Word counts'\n",
        "    )]\n",
        "\n",
        "layout = go.Layout(\n",
        "    title='Top 20 Words (All Turns)'\n",
        ")\n",
        "\n",
        "fig = go.Figure(data=data, layout = layout)\n",
        "fig.show()\n"
      ],
      "execution_count": null,
      "outputs": []
    },
    {
      "cell_type": "code",
      "metadata": {
        "id": "8Cdba8fo-Aez"
      },
      "source": [
        "#organizing the dataset depending on the label (happy, sad, angry, or others)\n",
        "df = dataset.groupby('label') \n",
        "happy = df.get_group('happy')\n",
        "sad = df.get_group('sad')\n",
        "angry = df.get_group('angry')\n",
        "others = df.get_group('others')"
      ],
      "execution_count": null,
      "outputs": []
    },
    {
      "cell_type": "code",
      "metadata": {
        "id": "j9OjKb72-GQH"
      },
      "source": [
        "#counts the overall data under the \"Happy Class\" in turn 1\n",
        "value1=0\n",
        "temp_list=happy['turn1']\n",
        "for word in temp_list:\n",
        "  value1+=1\n",
        "print('Records for Happy Class:', value1)"
      ],
      "execution_count": null,
      "outputs": []
    },
    {
      "cell_type": "code",
      "metadata": {
        "id": "BVDQWqdB-Gp4"
      },
      "source": [
        "#counts the overall data under the \"Sad Class\" in turn 1\n",
        "value2=0\n",
        "temp_list=sad['turn1']\n",
        "for word in temp_list:\n",
        "  value2+=1\n",
        "print('Records for Sad Class:', value2)"
      ],
      "execution_count": null,
      "outputs": []
    },
    {
      "cell_type": "code",
      "metadata": {
        "id": "URobL5Zo-Gzx"
      },
      "source": [
        "#counts the overall data under the \"Angry Class\" in turn 1\n",
        "value3=0\n",
        "temp_list=angry['turn1']\n",
        "for word in temp_list:\n",
        "  value3+=1\n",
        "print('Records for Angry Class:', value3)"
      ],
      "execution_count": null,
      "outputs": []
    },
    {
      "cell_type": "code",
      "metadata": {
        "id": "hxPEFgyT-G2y"
      },
      "source": [
        "#counts the overall data under the \"Others Class\" in turn 1\n",
        "value4=0\n",
        "temp_list=others['turn1']\n",
        "for word in temp_list:\n",
        "  value4+=1\n",
        "print('Records for Others Class:', value4)"
      ],
      "execution_count": null,
      "outputs": []
    },
    {
      "cell_type": "code",
      "metadata": {
        "id": "7j_QeTeZ-Kwb"
      },
      "source": [
        "#function on getting the top 20 words in under the \"Happy Class\" on all turn (turn 1, turn 2, turn 3)\n",
        "words = happy['turn1'].append(happy['turn2'].append(happy['turn3'])).str.split(expand = True).unstack().value_counts()#accessing all turns\n",
        "\n",
        "print(words.index.values[0:20])#getting the top 20 words with the highest frequency\n",
        "print(words.values[0:20]) #getting the actual value or frequency of the top 20 unigrams.\n",
        "\n",
        "#visualizes the top unigrams in descending order (starting from the frequently used words down to less used word) together with the actual count of each word.\n",
        "import plotly as py\n",
        "import plotly.graph_objects as go\n",
        "\n",
        "data = [go.Bar(\n",
        "            x = words.index.values[0:20],\n",
        "            y = words.values[0:20],\n",
        "            marker = dict(colorscale = 'darkmint',\n",
        "                         color = words.values[0:160]\n",
        "                         ),\n",
        "            text = 'Word counts'\n",
        "    )]\n",
        "\n",
        "layout = go.Layout(\n",
        "    title='Top 20 Words on Happy Class (All Turns)'\n",
        ")\n",
        "\n",
        "fig = go.Figure(data=data, layout = layout)\n",
        "fig.show()"
      ],
      "execution_count": null,
      "outputs": []
    },
    {
      "cell_type": "code",
      "metadata": {
        "id": "LGJnFaLM-K49"
      },
      "source": [
        "#function on getting the top 20 words in under the \"Sad Class\" on all turn (turn 1, turn 2, turn 3)\n",
        "words = sad['turn1'].append(sad['turn2'].append(sad['turn3'])).str.split(expand = True).unstack().value_counts() #accessing all turns\n",
        "\n",
        "print(words.index.values[0:20])#getting the top 20 words with the highest frequency\n",
        "print(words.values[0:20]) #getting the actual value or frequency of the top 20 unigrams.\n",
        "\n",
        "#visualizes the top unigrams in descending order (starting from the frequently used words down to less used word) together with the actual count of each word.\n",
        "\n",
        "import plotly as py\n",
        "import plotly.graph_objects as go\n",
        "\n",
        "data = [go.Bar(\n",
        "            x = words.index.values[0:20],\n",
        "            y = words.values[0:20],\n",
        "            marker = dict(colorscale = 'darkmint',\n",
        "                         color = words.values[0:160]\n",
        "                         ),\n",
        "            text = 'Word counts'\n",
        "    )]\n",
        "\n",
        "layout = go.Layout(\n",
        "    title='Top 20 Words on Sad Class (All Turns)'\n",
        ")\n",
        "\n",
        "fig = go.Figure(data=data, layout = layout)\n",
        "fig.show()"
      ],
      "execution_count": null,
      "outputs": []
    },
    {
      "cell_type": "code",
      "metadata": {
        "id": "8KAhrXIs-N32"
      },
      "source": [
        "#function on getting the top 20 words in under the \"Angry Class\" on all turn (turn 1, turn 2, turn 3)\n",
        "words = angry['turn1'].append(angry['turn2'].append(angry['turn3'])).str.split(expand = True).unstack().value_counts() #accessing all turns\n",
        "\n",
        "print(words.index.values[0:20])#getting the top 20 words with the highest frequency\n",
        "print(words.values[0:20]) #getting the actual value or frequency of the top 20 unigrams.\n",
        "\n",
        "#visualizes the top unigrams in descending order (starting from the frequently used words down to less used word) together with the actual count of each word.\n",
        "import plotly as py\n",
        "import plotly.graph_objects as go\n",
        "\n",
        "data = [go.Bar(\n",
        "            x = words.index.values[0:20],\n",
        "            y = words.values[0:20],\n",
        "            marker = dict(colorscale = 'darkmint',\n",
        "                         color = words.values[0:160]\n",
        "                         ),\n",
        "            text = 'Word counts'\n",
        "    )]\n",
        "\n",
        "layout = go.Layout(\n",
        "    title='Top 20 Words on Angry Class (All Turns)'\n",
        ")\n",
        "\n",
        "fig = go.Figure(data=data, layout = layout)\n",
        "fig.show()"
      ],
      "execution_count": null,
      "outputs": []
    },
    {
      "cell_type": "code",
      "metadata": {
        "id": "2Zh4Znww-PEt"
      },
      "source": [
        "#function on getting the top 20 words in under the \"Others Class\" on all turn (turn 1, turn 2, turn 3)\n",
        "words = others['turn1'].append(others['turn2'].append(others['turn3'])).str.split(expand = True).unstack().value_counts()#accessing all turns\n",
        "\n",
        "print(words.index.values[0:20])#getting the top 20 words with the highest frequency\n",
        "print(words.values[0:20]) #getting the actual value or frequency of the top 20 unigrams.\n",
        "\n",
        "#visualizes the top unigrams in descending order (starting from the frequently used words down to less used word) together with the actual count of each word.\n",
        "\n",
        "import plotly as py\n",
        "import plotly.graph_objects as go\n",
        "\n",
        "data = [go.Bar(\n",
        "            x = words.index.values[0:20],\n",
        "            y = words.values[0:20],\n",
        "            marker = dict(colorscale = 'darkmint',\n",
        "                         color = words.values[0:160]\n",
        "                         ),\n",
        "            text = 'Word counts'\n",
        "    )]\n",
        "\n",
        "layout = go.Layout(\n",
        "    title='Top 20 Words on Others Class (All Turns)'\n",
        ")\n",
        "\n",
        "fig = go.Figure(data=data, layout = layout)\n",
        "fig.show()\n"
      ],
      "execution_count": null,
      "outputs": []
    },
    {
      "cell_type": "code",
      "metadata": {
        "id": "Srq9L5lY-Rb0"
      },
      "source": [
        "#INSTALLING ADVERTOOLS - productivity and analysis tools used to analyze text and content\n",
        "pip install advertools"
      ],
      "execution_count": null,
      "outputs": []
    },
    {
      "cell_type": "code",
      "metadata": {
        "id": "j1OrfmMa-Rmw"
      },
      "source": [
        "#Advertools is used to extract and analyze the emojis in the data\n",
        "import advertools as adv\n",
        "emoji_summary = adv.extract_emoji(dataset['turn1'].append(dataset['turn2'].append(dataset['turn3'])))\n",
        "#List of dictionary keys such as ['emoji', 'emoji_text', 'emoji_flat', 'emoji_flat_text',\n",
        "#'emoji_counts', 'emoji_freq', 'top_emoji', 'top_emoji_text', 'top_emoji_groups', 'top_emoji_sub_groups', 'overview']\n",
        "#These keys are used to analyze the emojis in your data\n",
        "emoji_summary.keys()\n",
        "#Shows the distribution of all emojis in the data in a descending order (emoji, frequency) \n",
        "emoji_summary['top_emoji']"
      ],
      "execution_count": null,
      "outputs": []
    },
    {
      "cell_type": "code",
      "metadata": {
        "id": "av0n1qIp-RyZ"
      },
      "source": [
        "#Overview of the emojis in the dataset\n",
        "emoji_summary['overview']"
      ],
      "execution_count": null,
      "outputs": []
    },
    {
      "cell_type": "code",
      "metadata": {
        "id": "i1zXR1CK-R0W"
      },
      "source": [
        "#Almost the same with 'top_emoji' but this time the emoji name is included (emoji, emoji name, frequency) and it is still in descending order\n",
        "for emoji, text in (zip([x[0] for x in emoji_summary['top_emoji']], \n",
        "emoji_summary['top_emoji_text'], )):\n",
        "  print(emoji,*text, sep=' ')"
      ],
      "execution_count": null,
      "outputs": []
    },
    {
      "cell_type": "code",
      "metadata": {
        "id": "5-mEYQpd-R5P"
      },
      "source": [
        "#Visualization of the distribution of the top 20 emoji regardless of the emotion class, it shows the emoji name along with its frequency.\n",
        "import matplotlib.pyplot as plt\n",
        "fig, ax = plt.subplots(facecolor='#eeeeee')\n",
        "fig.set_size_inches((9, 9))\n",
        "ax.set_frame_on(False)\n",
        "ax.barh([x[0] for x in emoji_summary['top_emoji_text'][:20]][::-1],\n",
        "[x[1] for x in emoji_summary['top_emoji_text'][:20]][::-1])\n",
        "ax.tick_params(labelsize=14)\n",
        "ax.set_title('Top 20 Emoji', fontsize=18)\n",
        "ax.grid()\n",
        "fig.savefig(ax.get_title() + '.png', \n",
        "facecolor='#eeeeee',dpi=120,\n",
        "bbox_inches='tight')\n",
        "plt.show()"
      ],
      "execution_count": null,
      "outputs": []
    },
    {
      "cell_type": "markdown",
      "metadata": {
        "id": "CiUDIUuUgWop"
      },
      "source": [
        "**Top Emojis Per Emotion Class**\n",
        "\n"
      ]
    },
    {
      "cell_type": "code",
      "metadata": {
        "id": "bpz6ovfLhoLc"
      },
      "source": [
        "#Grouping the dataset according to each label/emotion class (Happy, Sad, Angry, and Others)\n",
        "#In order to extract the top emojis per emotion class\n",
        "df = dataset.groupby('label') \n",
        "happy = df.get_group('happy')\n",
        "sad = df.get_group('sad')\n",
        "angry = df.get_group('angry')\n",
        "others = df.get_group('others')"
      ],
      "execution_count": null,
      "outputs": []
    },
    {
      "cell_type": "code",
      "metadata": {
        "id": "bn1k3SsI-R7i"
      },
      "source": [
        "#Happy Emotion Class\n",
        "print('Top Emojis (Happy Emotion Class)')\n",
        "happy_summary = adv.extract_emoji(happy['turn1'].append(happy['turn2'].append(happy['turn3'])))\n",
        "happy_summary['top_emoji']"
      ],
      "execution_count": null,
      "outputs": []
    },
    {
      "cell_type": "code",
      "metadata": {
        "id": "fCRU6IZL-R9Z"
      },
      "source": [
        "#Sad Emotion Class\n",
        "print('Top Emojis (Sad Emotion Class)')\n",
        "sad_summary = adv.extract_emoji(sad['turn1'].append(sad['turn2'].append(sad['turn3'])))\n",
        "sad_summary['top_emoji']"
      ],
      "execution_count": null,
      "outputs": []
    },
    {
      "cell_type": "code",
      "metadata": {
        "id": "lamSxh-i-aNV"
      },
      "source": [
        "#Angry Emotion Class\n",
        "print('Top Emojis (Angry Emotion Class)')\n",
        "angry_summary = adv.extract_emoji(angry['turn1'].append(angry['turn2'].append(angry['turn3'])))\n",
        "angry_summary['top_emoji']"
      ],
      "execution_count": null,
      "outputs": []
    },
    {
      "cell_type": "code",
      "metadata": {
        "id": "R1lAi9Up-R_a"
      },
      "source": [
        "#Others Emotion Class\n",
        "print('Top Emojis (Others)')\n",
        "others_summary = adv.extract_emoji(others['turn1'].append(others['turn2'].append(others['turn3'])))\n",
        "others_summary['top_emoji']"
      ],
      "execution_count": null,
      "outputs": []
    },
    {
      "cell_type": "markdown",
      "metadata": {
        "id": "CDFx9-zp-dyt"
      },
      "source": [
        "# ***DATA CLEANING METHODS***"
      ]
    },
    {
      "cell_type": "code",
      "metadata": {
        "id": "wjzUBugu-f7Z"
      },
      "source": [
        "#DATA PRE-PROCESSING\n",
        "import re\n",
        "from textblob import TextBlob\n",
        "from string import punctuation\n",
        "\n",
        "#correcting some mispelled stop words suchs as u to you, r to are, and y to why\n",
        "def correct_u_r_y(turn_text):\n",
        "  temp=turn_text.split(\" \")\n",
        "  for i in range (0,len(temp)):\n",
        "    temp[i]=re.sub('^[U]$','You',temp[i])\n",
        "    temp[i]=re.sub('^[u]$','you',temp[i])\n",
        "    temp[i]=re.sub('^[R]$','Are',temp[i])\n",
        "    temp[i]=re.sub('^[r]$','are',temp[i])\n",
        "    temp[i]=re.sub('^[Y]$','Why',temp[i]) \n",
        "    temp[i]=re.sub('^[y]$','why',temp[i])\n",
        "    temp[i]=re.sub('^(Ur)$','Your',temp[i])\n",
        "    temp[i]=re.sub('^(ur)$','your',temp[i])\n",
        "    temp[i]=re.sub('^(UR)$','YOUR',temp[i])\n",
        "    # temp[i] = temp[i].str.replace(\"\\s{2,}\", \" \")\n",
        "  filtered_sentence = (\" \").join(temp)\n",
        "  return filtered_sentence\n",
        "\n",
        "#correcting all mispelled words using TextBlob\n",
        "def correct_spelling(turn_text):\n",
        "  temp=turn_text.split(\" \")\n",
        "  for i in range (0,len(temp)):\n",
        "    textBlb = TextBlob(temp[i])            \n",
        "    textCorrected = textBlb.correct()\n",
        "    temp[i]=str(textCorrected)\n",
        "  filtered_sentence = (\" \").join(temp)\n",
        "  return filtered_sentence\n",
        "\n",
        "#replacing repeated close parenthesis into their single instances :))) -> :) )\n",
        "def reduce_characters(turn_text):\n",
        "  charList=set(punctuation)\n",
        "  for i in charList:\n",
        "    regex=\"(\\\\\" +i+\"\\\\\"+i+\"+)\"\n",
        "    turn_text=re.sub( regex, \"\\\\\"+i, turn_text)\n",
        "  return turn_text"
      ],
      "execution_count": null,
      "outputs": []
    },
    {
      "cell_type": "code",
      "metadata": {
        "id": "uezSt_Q8-pt_"
      },
      "source": [
        "#DOWNLOADING THE STOP WORDS using NLTK\n",
        "import nltk\n",
        "nltk.download('stopwords')\n",
        "nltk.download('punkt')\n",
        "from nltk.corpus import stopwords\n",
        "from nltk.tokenize import word_tokenize\n",
        "\n",
        "stop = set(stopwords.words('english'))\n",
        "\n",
        "#STOP WORDS REMOVAL - based on the list of stop words provided by NLTK\n",
        "def stop_words_removal(turn_text):\n",
        "  turn_text= turn_text.lower().split(\" \")\n",
        "  turn_text = [word for word in turn_text if word not in stop]\n",
        "  filtered_sentence = (\" \").join(turn_text)\n",
        "  return filtered_sentence\n",
        "\n",
        "#STEMMING - reducing the word to its root form\n",
        "from nltk.stem.snowball import SnowballStemmer\n",
        "\n",
        "def stemming_words(turn_text):\n",
        "  stemmer = SnowballStemmer(language='english')\n",
        "  turn_text= stemmer.stem(turn_text)\n",
        "  return turn_text"
      ],
      "execution_count": null,
      "outputs": []
    },
    {
      "cell_type": "code",
      "metadata": {
        "id": "GjlVdjkx-q9Q"
      },
      "source": [
        "#DOWNLOADING WORDNET using NLTK - English lexical database\n",
        "import nltk\n",
        "nltk.download('wordnet')\n",
        "from nltk.stem import WordNetLemmatizer \n",
        "\n",
        "#LOWER CASING STRINGS\n",
        "def lower_case (turn_text):\n",
        "  string = turn_text\n",
        "  return string.lower()\n",
        "\n",
        "#LEMMATIZATION - is like stemming but looks at the meaning of the word rather than the form of the word\n",
        "def lemmatization(turn_text):\n",
        "  lemmatizer = WordNetLemmatizer()\n",
        "  return lemmatizer.lemmatize(turn_text)"
      ],
      "execution_count": null,
      "outputs": []
    },
    {
      "cell_type": "code",
      "metadata": {
        "id": "eqv66kin-sUz"
      },
      "source": [
        "#All the data pre-processing methods are in a sequential order (depending on its use) combined into one function called 'cleaning'\n",
        "def cleaning(turn):\n",
        "  # turn=turn.apply(lambda x : [reduce_characters(item) for item in x])\n",
        "  # print(1)\n",
        "  turn=turn.apply(lambda x : [lower_case(item) for item in x])\n",
        "  print(2)\n",
        "  # turn=turn.apply(lambda x : [stemming_words(item) for item in x])\n",
        "  # print(3)\n",
        "  # turn=turn.apply(lambda x : [correct_u_r_y(item) for item in x])\n",
        "  # print(4)\n",
        "  # turn=turn.apply(lambda x : [correct_spelling(item) for item in x])\n",
        "  # print(5)\n",
        "  turn=turn.apply(lambda x : [stop_words_removal(item) for item in x])\n",
        "  print(6)\n",
        "  # turn=turn.apply(lambda x : [lemmatization(item) for item in x])\n",
        "  # print(7)\n",
        "  return turn"
      ],
      "execution_count": null,
      "outputs": []
    },
    {
      "cell_type": "markdown",
      "metadata": {
        "id": "2uauCFeluZui"
      },
      "source": [
        "# ***RUN THIS TO CLEAN DATA, ELSE LEAVE ALONE***"
      ]
    },
    {
      "cell_type": "code",
      "metadata": {
        "id": "sV1BjMPouZcW"
      },
      "source": [
        "reviews['review']=cleaning(reviews['review'].to_frame())"
      ],
      "execution_count": null,
      "outputs": []
    },
    {
      "cell_type": "markdown",
      "metadata": {
        "id": "VczXcS6Iv6Lt"
      },
      "source": [
        "# ***Create Dataset 1-3***"
      ]
    },
    {
      "cell_type": "code",
      "metadata": {
        "colab": {
          "base_uri": "https://localhost:8080/"
        },
        "id": "dpGk7eNQv_z9",
        "outputId": "8137364d-8b5a-47ee-f504-6d4cd7e6374c"
      },
      "source": [
        "others=reviews[reviews['label']==\"others\"]\n",
        "happy=reviews[reviews['label']==\"happy\"]\n",
        "angry=reviews[reviews['label']==\"angry\"]\n",
        "sad=reviews[reviews['label']==\"sad\"]\n",
        "print(len(others))"
      ],
      "execution_count": null,
      "outputs": [
        {
          "output_type": "stream",
          "text": [
            "14948\n"
          ],
          "name": "stdout"
        }
      ]
    },
    {
      "cell_type": "code",
      "metadata": {
        "colab": {
          "base_uri": "https://localhost:8080/",
          "height": 407
        },
        "id": "WcC2VfqFyfNN",
        "outputId": "5483b1c8-7263-418e-d217-582762d33927"
      },
      "source": [
        "dataset1=pd.concat([happy,angry,sad,others[0:4982]])\n",
        "dataset2=pd.concat([happy,angry,sad,others[4982:9964]])\n",
        "dataset3=pd.concat([happy,angry,sad,others[9964:]])\n",
        "\n",
        "dataset1.sample(frac=1).reset_index(drop=True)\n",
        "dataset2.sample(frac=1).reset_index(drop=True)\n",
        "dataset3.sample(frac=1).reset_index(drop=True)"
      ],
      "execution_count": null,
      "outputs": [
        {
          "output_type": "execute_result",
          "data": {
            "text/html": [
              "<div>\n",
              "<style scoped>\n",
              "    .dataframe tbody tr th:only-of-type {\n",
              "        vertical-align: middle;\n",
              "    }\n",
              "\n",
              "    .dataframe tbody tr th {\n",
              "        vertical-align: top;\n",
              "    }\n",
              "\n",
              "    .dataframe thead th {\n",
              "        text-align: right;\n",
              "    }\n",
              "</style>\n",
              "<table border=\"1\" class=\"dataframe\">\n",
              "  <thead>\n",
              "    <tr style=\"text-align: right;\">\n",
              "      <th></th>\n",
              "      <th>id</th>\n",
              "      <th>turn1</th>\n",
              "      <th>turn2</th>\n",
              "      <th>turn3</th>\n",
              "      <th>label</th>\n",
              "      <th>review</th>\n",
              "    </tr>\n",
              "  </thead>\n",
              "  <tbody>\n",
              "    <tr>\n",
              "      <th>0</th>\n",
              "      <td>500</td>\n",
              "      <td>So sad</td>\n",
              "      <td>it's a sad sad situation</td>\n",
              "      <td>I am alone</td>\n",
              "      <td>sad</td>\n",
              "      <td>sad sad sad situation alone</td>\n",
              "    </tr>\n",
              "    <tr>\n",
              "      <th>1</th>\n",
              "      <td>674</td>\n",
              "      <td>Why??</td>\n",
              "      <td>Always you are judging me. :'( But I &lt;3 you ra.</td>\n",
              "      <td>Wow lv u to??</td>\n",
              "      <td>happy</td>\n",
              "      <td>why?? always judging me. :'( &lt;3 ra. wow lv u to??</td>\n",
              "    </tr>\n",
              "    <tr>\n",
              "      <th>2</th>\n",
              "      <td>23602</td>\n",
              "      <td>I don't like chocolate</td>\n",
              "      <td>WASTE?!?!?! I love chocolate sandwich! Ever tr...</td>\n",
              "      <td>I hate them... I hate you</td>\n",
              "      <td>angry</td>\n",
              "      <td>like chocolate waste?!?!?! love chocolate sand...</td>\n",
              "    </tr>\n",
              "    <tr>\n",
              "      <th>3</th>\n",
              "      <td>20182</td>\n",
              "      <td>OK dear really</td>\n",
              "      <td>You're welcome. 👍</td>\n",
              "      <td>I like it</td>\n",
              "      <td>happy</td>\n",
              "      <td>ok dear really  welcome. 👍 like</td>\n",
              "    </tr>\n",
              "    <tr>\n",
              "      <th>4</th>\n",
              "      <td>7429</td>\n",
              "      <td>Are you dumb?</td>\n",
              "      <td>so as you</td>\n",
              "      <td>😠😠</td>\n",
              "      <td>angry</td>\n",
              "      <td>dumb? 😠😠</td>\n",
              "    </tr>\n",
              "    <tr>\n",
              "      <th>...</th>\n",
              "      <td>...</td>\n",
              "      <td>...</td>\n",
              "      <td>...</td>\n",
              "      <td>...</td>\n",
              "      <td>...</td>\n",
              "      <td>...</td>\n",
              "    </tr>\n",
              "    <tr>\n",
              "      <th>20191</th>\n",
              "      <td>24375</td>\n",
              "      <td>yes</td>\n",
              "      <td>ID DANCE AWAY FROM THEM</td>\n",
              "      <td>not  dance sexy chat</td>\n",
              "      <td>others</td>\n",
              "      <td>yes id dance away  dance sexy chat</td>\n",
              "    </tr>\n",
              "    <tr>\n",
              "      <th>20192</th>\n",
              "      <td>23760</td>\n",
              "      <td>In India or out of India</td>\n",
              "      <td>Hi, Please refer to my answer to What are some...</td>\n",
              "      <td>AgrA</td>\n",
              "      <td>others</td>\n",
              "      <td>india india hi, please refer answer travel des...</td>\n",
              "    </tr>\n",
              "    <tr>\n",
              "      <th>20193</th>\n",
              "      <td>21905</td>\n",
              "      <td>Who is rude</td>\n",
              "      <td>I'm not being rude</td>\n",
              "      <td>Ok by</td>\n",
              "      <td>angry</td>\n",
              "      <td>rude i'm rude ok</td>\n",
              "    </tr>\n",
              "    <tr>\n",
              "      <th>20194</th>\n",
              "      <td>23450</td>\n",
              "      <td>Legends of tomorrow</td>\n",
              "      <td>best of luck for tomorrow</td>\n",
              "      <td>Riverdale</td>\n",
              "      <td>others</td>\n",
              "      <td>legends tomorrow best luck tomorrow riverdale</td>\n",
              "    </tr>\n",
              "    <tr>\n",
              "      <th>20195</th>\n",
              "      <td>22660</td>\n",
              "      <td>Why not nice</td>\n",
              "      <td>you don't speak because you're rude! 😾</td>\n",
              "      <td>You are rude</td>\n",
              "      <td>angry</td>\n",
              "      <td>nice speak rude! 😾 rude</td>\n",
              "    </tr>\n",
              "  </tbody>\n",
              "</table>\n",
              "<p>20196 rows × 6 columns</p>\n",
              "</div>"
            ],
            "text/plain": [
              "          id  ...                                             review\n",
              "0        500  ...                        sad sad sad situation alone\n",
              "1        674  ...  why?? always judging me. :'( <3 ra. wow lv u to??\n",
              "2      23602  ...  like chocolate waste?!?!?! love chocolate sand...\n",
              "3      20182  ...                   ok dear really  welcome. 👍 like \n",
              "4       7429  ...                                           dumb? 😠😠\n",
              "...      ...  ...                                                ...\n",
              "20191  24375  ...                 yes id dance away  dance sexy chat\n",
              "20192  23760  ...  india india hi, please refer answer travel des...\n",
              "20193  21905  ...                                   rude i'm rude ok\n",
              "20194  23450  ...      legends tomorrow best luck tomorrow riverdale\n",
              "20195  22660  ...                            nice speak rude! 😾 rude\n",
              "\n",
              "[20196 rows x 6 columns]"
            ]
          },
          "metadata": {
            "tags": []
          },
          "execution_count": 11
        }
      ]
    },
    {
      "cell_type": "code",
      "metadata": {
        "colab": {
          "base_uri": "https://localhost:8080/"
        },
        "id": "P1KhJimq6cp3",
        "outputId": "2fe4f64c-1509-4643-f689-d55898da0c23"
      },
      "source": [
        "print(len(dataset1[dataset1.label==\"others\"]))\n",
        "print(len(dataset2[dataset2.label==\"others\"]))\n",
        "print(len(dataset3[dataset3.label==\"others\"]))"
      ],
      "execution_count": null,
      "outputs": [
        {
          "output_type": "stream",
          "text": [
            "4982\n",
            "4982\n",
            "4984\n"
          ],
          "name": "stdout"
        }
      ]
    },
    {
      "cell_type": "markdown",
      "metadata": {
        "id": "3fet3AcI9BQA"
      },
      "source": [
        "# ***SELECT WHICH DATASET TO USE***"
      ]
    },
    {
      "cell_type": "code",
      "metadata": {
        "id": "DaY0issf9FkX"
      },
      "source": [
        "# reviews=dataset1\n",
        "reviews=dataset2\n",
        "# reviews=dataset3"
      ],
      "execution_count": null,
      "outputs": []
    },
    {
      "cell_type": "markdown",
      "metadata": {
        "id": "bqf9kHwDaWEK"
      },
      "source": [
        "# ***Data Partitioning and Pre-Processing***"
      ]
    },
    {
      "cell_type": "code",
      "metadata": {
        "colab": {
          "base_uri": "https://localhost:8080/",
          "height": 307
        },
        "id": "RuWxDA8XaWEL",
        "outputId": "255ebeba-06b8-4d03-91c2-531e6cc34960"
      },
      "source": [
        "#getting the text (review) and the emotion label (rating)\n",
        "reviews = reviews[['review', 'label']]\n",
        "reviews.columns = ['review', 'rating']\n",
        "# calculating sentence lengths\n",
        "reviews['review_length'] = reviews['review'].apply(lambda x: len(x.split()))\n",
        "reviews.head()"
      ],
      "execution_count": null,
      "outputs": [
        {
          "output_type": "stream",
          "text": [
            "/usr/local/lib/python3.7/dist-packages/ipykernel_launcher.py:5: SettingWithCopyWarning: \n",
            "A value is trying to be set on a copy of a slice from a DataFrame.\n",
            "Try using .loc[row_indexer,col_indexer] = value instead\n",
            "\n",
            "See the caveats in the documentation: https://pandas.pydata.org/pandas-docs/stable/user_guide/indexing.html#returning-a-view-versus-a-copy\n",
            "  \"\"\"\n"
          ],
          "name": "stderr"
        },
        {
          "output_type": "execute_result",
          "data": {
            "text/html": [
              "<div>\n",
              "<style scoped>\n",
              "    .dataframe tbody tr th:only-of-type {\n",
              "        vertical-align: middle;\n",
              "    }\n",
              "\n",
              "    .dataframe tbody tr th {\n",
              "        vertical-align: top;\n",
              "    }\n",
              "\n",
              "    .dataframe thead th {\n",
              "        text-align: right;\n",
              "    }\n",
              "</style>\n",
              "<table border=\"1\" class=\"dataframe\">\n",
              "  <thead>\n",
              "    <tr style=\"text-align: right;\">\n",
              "      <th></th>\n",
              "      <th>review</th>\n",
              "      <th>rating</th>\n",
              "      <th>review_length</th>\n",
              "    </tr>\n",
              "  </thead>\n",
              "  <tbody>\n",
              "    <tr>\n",
              "      <th>1</th>\n",
              "      <td>today news whats good news 😂</td>\n",
              "      <td>happy</td>\n",
              "      <td>6</td>\n",
              "    </tr>\n",
              "    <tr>\n",
              "      <th>4</th>\n",
              "      <td>really get married  get married. parents happy...</td>\n",
              "      <td>happy</td>\n",
              "      <td>10</td>\n",
              "    </tr>\n",
              "    <tr>\n",
              "      <th>17</th>\n",
              "      <td>street cat named bob meow... ;-) 😂</td>\n",
              "      <td>happy</td>\n",
              "      <td>7</td>\n",
              "    </tr>\n",
              "    <tr>\n",
              "      <th>18</th>\n",
              "      <td>u r sweetest &lt;3 thanks sweet ☺ 😘😘😘</td>\n",
              "      <td>happy</td>\n",
              "      <td>8</td>\n",
              "    </tr>\n",
              "    <tr>\n",
              "      <th>30</th>\n",
              "      <td>dragon ball z dragon ball gt super</td>\n",
              "      <td>happy</td>\n",
              "      <td>7</td>\n",
              "    </tr>\n",
              "  </tbody>\n",
              "</table>\n",
              "</div>"
            ],
            "text/plain": [
              "                                               review rating  review_length\n",
              "1                        today news whats good news 😂  happy              6\n",
              "4   really get married  get married. parents happy...  happy             10\n",
              "17                 street cat named bob meow... ;-) 😂  happy              7\n",
              "18                 u r sweetest <3 thanks sweet ☺ 😘😘😘  happy              8\n",
              "30                 dragon ball z dragon ball gt super  happy              7"
            ]
          },
          "metadata": {
            "tags": []
          },
          "execution_count": 14
        }
      ]
    },
    {
      "cell_type": "code",
      "metadata": {
        "colab": {
          "base_uri": "https://localhost:8080/"
        },
        "id": "M2IAdwkMaWEL",
        "outputId": "81907053-4b90-4fe8-9a09-1fbe9302faed"
      },
      "source": [
        "#convertion of the classes into numerical format\n",
        "zero_numbering = {'happy':0, 'sad':1, 'angry':2,\"others\":3}\n",
        "reviews['rating'] = reviews['rating'].apply(lambda x: zero_numbering[x])"
      ],
      "execution_count": null,
      "outputs": [
        {
          "output_type": "stream",
          "text": [
            "/usr/local/lib/python3.7/dist-packages/ipykernel_launcher.py:3: SettingWithCopyWarning: \n",
            "A value is trying to be set on a copy of a slice from a DataFrame.\n",
            "Try using .loc[row_indexer,col_indexer] = value instead\n",
            "\n",
            "See the caveats in the documentation: https://pandas.pydata.org/pandas-docs/stable/user_guide/indexing.html#returning-a-view-versus-a-copy\n",
            "  This is separate from the ipykernel package so we can avoid doing imports until\n"
          ],
          "name": "stderr"
        }
      ]
    },
    {
      "cell_type": "code",
      "metadata": {
        "colab": {
          "base_uri": "https://localhost:8080/"
        },
        "id": "RyDDQgv0aWEL",
        "outputId": "6fc27761-f4ed-4ae9-d99d-a506dd1107ab"
      },
      "source": [
        "#mean sentence length\n",
        "np.mean(reviews['review_length'])"
      ],
      "execution_count": null,
      "outputs": [
        {
          "output_type": "execute_result",
          "data": {
            "text/plain": [
              "7.5752624282036045"
            ]
          },
          "metadata": {
            "tags": []
          },
          "execution_count": 16
        }
      ]
    },
    {
      "cell_type": "code",
      "metadata": {
        "id": "YmPYcyo2aWEM"
      },
      "source": [
        "#tokenization\n",
        "tok = spacy.load('en')\n",
        "def tokenize (text):\n",
        "    return [token.text for token in tok.tokenizer(text)]"
      ],
      "execution_count": null,
      "outputs": []
    },
    {
      "cell_type": "code",
      "metadata": {
        "id": "xYBQL9j5aWEN"
      },
      "source": [
        "#count number of occurences of each word\n",
        "counts = Counter()\n",
        "for index, row in reviews.iterrows():\n",
        "    counts.update(tokenize(row['review']))"
      ],
      "execution_count": null,
      "outputs": []
    },
    {
      "cell_type": "code",
      "metadata": {
        "id": "jzZYr1WmaWEN"
      },
      "source": [
        "#creating vocabulary\n",
        "vocab2index = {\"\":0, \"UNK\":1}\n",
        "words = [\"\", \"UNK\"]\n",
        "for word in counts:\n",
        "    vocab2index[word] = len(words)\n",
        "    words.append(word)"
      ],
      "execution_count": null,
      "outputs": []
    },
    {
      "cell_type": "code",
      "metadata": {
        "id": "KK4irekoaWEO"
      },
      "source": [
        "#sentence encoding where the creation of the vocab2index\n",
        "#format Word:Number of Occurence i.e: You:100\n",
        "#and word list is made\n",
        "def encode_sentence(text, vocab2index, N=70):\n",
        "    tokenized = tokenize(text)\n",
        "    encoded = np.zeros(N, dtype=int)\n",
        "    enc1 = np.array([vocab2index.get(word, vocab2index[\"UNK\"]) for word in tokenized])\n",
        "    length = min(N, len(enc1))\n",
        "    encoded[:length] = enc1[:length]\n",
        "    return encoded, length"
      ],
      "execution_count": null,
      "outputs": []
    },
    {
      "cell_type": "code",
      "metadata": {
        "colab": {
          "base_uri": "https://localhost:8080/",
          "height": 364
        },
        "id": "MsYsghDmaWEO",
        "outputId": "02ca4f1f-b719-443b-cc2b-9525d124c4dd"
      },
      "source": [
        "#application of the encode_sentence method\n",
        "reviews['encoded'] = reviews['review'].apply(lambda x: np.array(encode_sentence(x,vocab2index )))\n",
        "reviews.head()"
      ],
      "execution_count": null,
      "outputs": [
        {
          "output_type": "stream",
          "text": [
            "/usr/local/lib/python3.7/dist-packages/ipykernel_launcher.py:2: VisibleDeprecationWarning: Creating an ndarray from ragged nested sequences (which is a list-or-tuple of lists-or-tuples-or ndarrays with different lengths or shapes) is deprecated. If you meant to do this, you must specify 'dtype=object' when creating the ndarray\n",
            "  \n",
            "/usr/local/lib/python3.7/dist-packages/ipykernel_launcher.py:2: SettingWithCopyWarning: \n",
            "A value is trying to be set on a copy of a slice from a DataFrame.\n",
            "Try using .loc[row_indexer,col_indexer] = value instead\n",
            "\n",
            "See the caveats in the documentation: https://pandas.pydata.org/pandas-docs/stable/user_guide/indexing.html#returning-a-view-versus-a-copy\n",
            "  \n"
          ],
          "name": "stderr"
        },
        {
          "output_type": "execute_result",
          "data": {
            "text/html": [
              "<div>\n",
              "<style scoped>\n",
              "    .dataframe tbody tr th:only-of-type {\n",
              "        vertical-align: middle;\n",
              "    }\n",
              "\n",
              "    .dataframe tbody tr th {\n",
              "        vertical-align: top;\n",
              "    }\n",
              "\n",
              "    .dataframe thead th {\n",
              "        text-align: right;\n",
              "    }\n",
              "</style>\n",
              "<table border=\"1\" class=\"dataframe\">\n",
              "  <thead>\n",
              "    <tr style=\"text-align: right;\">\n",
              "      <th></th>\n",
              "      <th>review</th>\n",
              "      <th>rating</th>\n",
              "      <th>review_length</th>\n",
              "      <th>encoded</th>\n",
              "    </tr>\n",
              "  </thead>\n",
              "  <tbody>\n",
              "    <tr>\n",
              "      <th>1</th>\n",
              "      <td>today news whats good news 😂</td>\n",
              "      <td>0</td>\n",
              "      <td>6</td>\n",
              "      <td>[[2, 3, 4, 5, 6, 3, 7, 0, 0, 0, 0, 0, 0, 0, 0,...</td>\n",
              "    </tr>\n",
              "    <tr>\n",
              "      <th>4</th>\n",
              "      <td>really get married  get married. parents happy...</td>\n",
              "      <td>0</td>\n",
              "      <td>10</td>\n",
              "      <td>[[8, 9, 10, 11, 9, 10, 12, 13, 14, 14, 12, 15,...</td>\n",
              "    </tr>\n",
              "    <tr>\n",
              "      <th>17</th>\n",
              "      <td>street cat named bob meow... ;-) 😂</td>\n",
              "      <td>0</td>\n",
              "      <td>7</td>\n",
              "      <td>[[17, 18, 19, 20, 21, 22, 23, 7, 0, 0, 0, 0, 0...</td>\n",
              "    </tr>\n",
              "    <tr>\n",
              "      <th>18</th>\n",
              "      <td>u r sweetest &lt;3 thanks sweet ☺ 😘😘😘</td>\n",
              "      <td>0</td>\n",
              "      <td>8</td>\n",
              "      <td>[[24, 25, 26, 27, 28, 29, 30, 31, 31, 31, 0, 0...</td>\n",
              "    </tr>\n",
              "    <tr>\n",
              "      <th>30</th>\n",
              "      <td>dragon ball z dragon ball gt super</td>\n",
              "      <td>0</td>\n",
              "      <td>7</td>\n",
              "      <td>[[32, 33, 34, 32, 33, 35, 36, 0, 0, 0, 0, 0, 0...</td>\n",
              "    </tr>\n",
              "  </tbody>\n",
              "</table>\n",
              "</div>"
            ],
            "text/plain": [
              "                                               review  ...                                            encoded\n",
              "1                        today news whats good news 😂  ...  [[2, 3, 4, 5, 6, 3, 7, 0, 0, 0, 0, 0, 0, 0, 0,...\n",
              "4   really get married  get married. parents happy...  ...  [[8, 9, 10, 11, 9, 10, 12, 13, 14, 14, 12, 15,...\n",
              "17                 street cat named bob meow... ;-) 😂  ...  [[17, 18, 19, 20, 21, 22, 23, 7, 0, 0, 0, 0, 0...\n",
              "18                 u r sweetest <3 thanks sweet ☺ 😘😘😘  ...  [[24, 25, 26, 27, 28, 29, 30, 31, 31, 31, 0, 0...\n",
              "30                 dragon ball z dragon ball gt super  ...  [[32, 33, 34, 32, 33, 35, 36, 0, 0, 0, 0, 0, 0...\n",
              "\n",
              "[5 rows x 4 columns]"
            ]
          },
          "metadata": {
            "tags": []
          },
          "execution_count": 21
        }
      ]
    },
    {
      "cell_type": "code",
      "metadata": {
        "colab": {
          "base_uri": "https://localhost:8080/"
        },
        "id": "e9xrjmt9aWEP",
        "outputId": "71a402fb-c340-487b-d749-1d4122525170"
      },
      "source": [
        "#Checking the data distribution for each class\n",
        "Counter(reviews['rating'])"
      ],
      "execution_count": null,
      "outputs": [
        {
          "output_type": "execute_result",
          "data": {
            "text/plain": [
              "Counter({0: 4243, 1: 5463, 2: 5506, 3: 4984})"
            ]
          },
          "metadata": {
            "tags": []
          },
          "execution_count": 22
        }
      ]
    },
    {
      "cell_type": "code",
      "metadata": {
        "id": "O4cWVJftaWEP"
      },
      "source": [
        "#Splitting the Train and Validation Set to be used during processing\n",
        "#Validation Set will consist of 20% of the data, and 80% for the Train Set\n",
        "X = list(reviews['encoded'])\n",
        "y = list(reviews['rating'])\n",
        "from sklearn.model_selection import train_test_split\n",
        "X_train, X_valid, y_train, y_valid = train_test_split(X, y, test_size=0.2)"
      ],
      "execution_count": null,
      "outputs": []
    },
    {
      "cell_type": "markdown",
      "metadata": {
        "id": "KnhqBGU9aWEQ"
      },
      "source": [
        "# ***Pytorch Dataset***"
      ]
    },
    {
      "cell_type": "code",
      "metadata": {
        "id": "iMnB9fqj9K5w"
      },
      "source": [
        "#Checking whether GPU exists, if it does, use GPU instead of default CPU\n",
        "#for LSTM model processing\n",
        "device = torch.device('cuda' if torch.cuda.is_available() else 'cpu')"
      ],
      "execution_count": null,
      "outputs": []
    },
    {
      "cell_type": "code",
      "metadata": {
        "id": "Do-x54TkaWEQ"
      },
      "source": [
        "#Convertion of the Pandas Dataframe into a Pytorch Dataset\n",
        "class ReviewsDataset(Dataset):\n",
        "    def __init__(self, X, Y):\n",
        "        self.X = X\n",
        "        self.y = Y\n",
        "    \n",
        "    def __len__(self):\n",
        "        return len(self.y)\n",
        "    \n",
        "    def __getitem__(self, idx):\n",
        "        return torch.from_numpy(self.X[idx][0].astype(np.int32)).to(device), self.y[idx], self.X[idx][1]"
      ],
      "execution_count": null,
      "outputs": []
    },
    {
      "cell_type": "code",
      "metadata": {
        "id": "6eqIWSgvaWER"
      },
      "source": [
        "#Application of the Pytorch Dataset on the Pandas DataFrame format\n",
        "train_ds = ReviewsDataset(X_train, y_train)\n",
        "valid_ds = ReviewsDataset(X_valid, y_valid)"
      ],
      "execution_count": null,
      "outputs": []
    },
    {
      "cell_type": "code",
      "metadata": {
        "id": "yalPTcdEaWES"
      },
      "source": [
        "#Creating 64 batches of the train and validation dataset\n",
        "#using the DataLoader library\n",
        "batch_size = 64\n",
        "vocab_size = len(words)\n",
        "train_dl = DataLoader(train_ds, batch_size=batch_size)\n",
        "val_dl = DataLoader(valid_ds, batch_size=batch_size)"
      ],
      "execution_count": null,
      "outputs": []
    },
    {
      "cell_type": "markdown",
      "metadata": {
        "id": "xAlv9Y7WaWEc"
      },
      "source": [
        "# ***LSTM with pretrained GloVe word embedding training***\n"
      ]
    },
    {
      "cell_type": "code",
      "metadata": {
        "id": "dHS5PrUDaWER"
      },
      "source": [
        "def train_model(model, epochs, lr,saving_path):\n",
        "    parameters = filter(lambda p: p.requires_grad, model.parameters())\n",
        "    #Utilization of Stochastic Gradient Descent for optimization\n",
        "    #with corresponding Learning Rate\n",
        "    best_valid_loss = float('inf')\n",
        "    optimizer = torch.optim.SGD(parameters, lr=lr)\n",
        "    best_epoch=0\n",
        "    for i in range(epochs):\n",
        "        sum_loss = 0.0\n",
        "        total = 0\n",
        "        correct=0.0\n",
        "        for x, y, l in train_dl:\n",
        "            # x is the data\n",
        "            # y is the target variable (true label)\n",
        "            # l is the label\n",
        "\n",
        "            x = x.long()\n",
        "            y = y.long().to(device)\n",
        "\n",
        "            #prediction of the model using the given data\n",
        "            y_pred = model(x, l)\n",
        "            pred = torch.max(y_pred, 1)[1]\n",
        "\n",
        "            #resetting gradients for each iteration\n",
        "            optimizer.zero_grad()\n",
        "            #using Cross Entropy for Loss calculation\n",
        "            loss = F.cross_entropy(y_pred, y).to(device)\n",
        "            #backward propagation\n",
        "            loss.backward()\n",
        "            #gradient step\n",
        "            optimizer.step()\n",
        "            #calculation of total loss value\n",
        "            sum_loss += loss.item()*y.shape[0]\n",
        "            total += y.shape[0]\n",
        "            correct += (pred == y).float().sum()\n",
        "        #return values from the validation metrics    \n",
        "        val_loss, val_acc, val_rmse = validation_metrics(model, val_dl)\n",
        "\n",
        "        #gathering the data for train loss, validation loss, accuracy\n",
        "        #for each epoch\n",
        "        train_loss.append(sum_loss/total)\n",
        "        validation_loss.append(val_loss)\n",
        "        accuracy_val.append(val_acc)\n",
        "\n",
        "        print(\"Epoch \"+str(i+1)+\": train loss %.3f, val loss %.3f, train accuracy %.3f, val accuracy %.3f, and val rmse %.3f\" % \n",
        "              (sum_loss/total, val_loss, correct/total, val_acc, val_rmse))\n",
        "        \n",
        "        if val_loss < best_valid_loss:\n",
        "          best_valid_loss = val_loss\n",
        "          best_val_acc=val_acc\n",
        "          best_epoch=i\n",
        "          torch.save({'epoch': i,\n",
        "            'model_state_dict': model.state_dict(),\n",
        "            'optimizer_state_dict': optimizer.state_dict(),\n",
        "            'val_loss': val_loss,\n",
        "            'train_loss': sum_loss/total,\n",
        "            'train_acc': correct/total,\n",
        "            'val_acc':val_acc}\n",
        "            , saving_path)\n",
        "          \n",
        "\n",
        "        if abs((sum_loss/total)-val_loss) >= 0.2:\n",
        "          return best_epoch\n",
        "    return best_epoch\n",
        "\n",
        "def validation_metrics (model, valid_dl):\n",
        "    correct = 0\n",
        "    total = 0\n",
        "    sum_loss = 0.0\n",
        "    sum_rmse = 0.0\n",
        "    for x, y, l in valid_dl:\n",
        "      # x is the data\n",
        "      # y is the target variable (true label)\n",
        "      # l is the label\n",
        "      x = x.long()\n",
        "      y = y.long().to(device)\n",
        "\n",
        "      #prediction of the model using the given data\n",
        "      y_hat = model(x, l)\n",
        "\n",
        "      #using Cross Entropy for Loss calculation\n",
        "      loss = F.cross_entropy(y_hat, y).to(device)\n",
        "      pred = torch.max(y_hat, 1)[1]\n",
        "\n",
        "      #collecting the prediction data for y_pred use in classification report\n",
        "      prediction.append(pred)\n",
        "\n",
        "      #calculation of total loss value and RMSE\n",
        "      correct += (pred == y).float().sum()\n",
        "      total += y.shape[0]\n",
        "      sum_loss += loss.item()*y.shape[0]\n",
        "      sum_rmse += np.sqrt(mean_squared_error(pred.cpu(), y.cpu().unsqueeze(-1)))*y.shape[0]\n",
        "    return sum_loss/total, correct/total, sum_rmse/total"
      ],
      "execution_count": null,
      "outputs": []
    },
    {
      "cell_type": "code",
      "metadata": {
        "id": "lOy3gTt_aWEc"
      },
      "source": [
        "#Loading the 50-dimension GloVe Word Embedding file\n",
        "def load_glove_vectors(glove_file):\n",
        "    \"\"\"Load the glove word vectors\"\"\"\n",
        "    word_vectors = {}\n",
        "    with open(glove_file) as f:\n",
        "        for line in f:\n",
        "            split = line.split()\n",
        "            word_vectors[split[0]] = np.array([float(x) for x in split[1:]])\n",
        "    return word_vectors"
      ],
      "execution_count": null,
      "outputs": []
    },
    {
      "cell_type": "code",
      "metadata": {
        "id": "o0CDhwi2aWEc"
      },
      "source": [
        "#Creating a GloVe Word Embedding Matrix utilizing the vocab2index variable \n",
        "def get_emb_matrix(pretrained, word_counts,emb_size):\n",
        "    \"\"\" Creates embedding matrix from word vectors\"\"\"\n",
        "    vocab_size = len(word_counts) + 2\n",
        "    vocab_to_idx = {}\n",
        "    vocab = [\"\", \"UNK\"]\n",
        "    W = np.zeros((vocab_size, emb_size), dtype=\"float32\")\n",
        "    W[0] = np.zeros(emb_size, dtype='float32') # adding a vector for padding\n",
        "    W[1] = np.random.uniform(-0.25, 0.25, emb_size) # adding a vector for unknown words \n",
        "    vocab_to_idx[\"UNK\"] = 1\n",
        "    i = 2\n",
        "    for word in word_counts:\n",
        "        if word in word_vecs:\n",
        "            W[i] = word_vecs[word]\n",
        "        else:\n",
        "            W[i] = np.random.uniform(-0.25,0.25, emb_size)\n",
        "        vocab_to_idx[word] = i\n",
        "        vocab.append(word)\n",
        "        i += 1   \n",
        "    return W, np.array(vocab), vocab_to_idx"
      ],
      "execution_count": null,
      "outputs": []
    },
    {
      "cell_type": "markdown",
      "metadata": {
        "id": "Rp8_oI_A91pO"
      },
      "source": [
        "# ***SELECT EMBEDDING DIMENSION. GloVe Dimension must match embed_size variable parameter***"
      ]
    },
    {
      "cell_type": "code",
      "metadata": {
        "id": "WXZTVOBI9-GD"
      },
      "source": [
        "# embed options: 50, 100, 200, 300\n",
        "path=\"/content/drive/MyDrive/GloVe/glove.6B.300d.txt\"\n",
        "embed_size=300"
      ],
      "execution_count": null,
      "outputs": []
    },
    {
      "cell_type": "code",
      "metadata": {
        "id": "C8xt9HGKaWEd"
      },
      "source": [
        "#GloVe Embedding Process\n",
        "word_vecs = load_glove_vectors(path)\n",
        "pretrained_weights, vocab, vocab2index = get_emb_matrix(word_vecs, counts,embed_size)"
      ],
      "execution_count": null,
      "outputs": []
    },
    {
      "cell_type": "code",
      "metadata": {
        "id": "j3uNkRr0aWEd"
      },
      "source": [
        "class LSTM_glove_vecs(torch.nn.Module) :\n",
        "    def __init__(self, vocab_size, embedding_dim,num_layers, hidden_dim, dropout, glove_weights,bidirectional) :\n",
        "        super().__init__()\n",
        "        self.embeddings = nn.Embedding(vocab_size, embedding_dim, padding_idx=0)\n",
        "        #copying GloVe word embedding to model\n",
        "        self.embeddings.weight.data.copy_(torch.from_numpy(glove_weights).to(device)) \n",
        "        self.embeddings.weight.requires_grad = False ## freeze embeddings\n",
        "        #LSTM module\n",
        "        self.lstm = nn.LSTM(embedding_dim, hidden_dim,num_layers, batch_first=True, bidirectional=bidirectional)\n",
        "        #Linear module for the final prediction \n",
        "        #of which emotion class is the processed text\n",
        "        self.linear = nn.Linear(hidden_dim, 4)\n",
        "        #Dropout Regularization for LSTM\n",
        "        self.dropout = nn.Dropout(dropout)\n",
        "        \n",
        "    def forward(self, x, l):\n",
        "        x = self.embeddings(x)\n",
        "        x = self.dropout(x)\n",
        "        lstm_out, (ht, ct) = self.lstm(x)\n",
        "        return self.linear(ht[-1])"
      ],
      "execution_count": null,
      "outputs": []
    },
    {
      "cell_type": "markdown",
      "metadata": {
        "id": "yE8BBQCTzSNj"
      },
      "source": [
        "# ***Experiment***"
      ]
    },
    {
      "cell_type": "code",
      "metadata": {
        "colab": {
          "base_uri": "https://localhost:8080/"
        },
        "id": "614P0cTUaWEe",
        "outputId": "ab136b97-9dbc-448c-813a-810125f93799"
      },
      "source": [
        "#lists for collecting the loss, accuracy and y_pred\n",
        "train_loss=list()\n",
        "validation_loss=list()\n",
        "accuracy_val=list()\n",
        "prediction=list()\n",
        "\n",
        "#h-params here\n",
        "embedding=300\n",
        "hidden_layers=300\n",
        "num_layers=3\n",
        "epoch=1000\n",
        "dropout=0.1\n",
        "bidirectional=True\n",
        "\n",
        "#Loading the model with the GloVe Word Embedding and given parameters\n",
        "model = LSTM_glove_vecs(vocab_size, \n",
        "                        embedding, \n",
        "                        num_layers, \n",
        "                        hidden_layers,\n",
        "                        dropout, \n",
        "                        pretrained_weights,\n",
        "                        bidirectional)\n",
        "#Utilizing the GPU for the model\n",
        "model.to(device)\n",
        "#training the model \n",
        "stop_epoch=train_model(model, epochs=epoch, lr=0.001, saving_path='/content/drive/MyDrive/GloVe/raw_300d_lstm_d1.pt')"
      ],
      "execution_count": null,
      "outputs": [
        {
          "output_type": "stream",
          "text": [
            "Epoch 1: train loss 1.386, val loss 1.386, train accuracy 0.248, val accuracy 0.242, and val rmse 1.801\n",
            "Epoch 2: train loss 1.385, val loss 1.385, train accuracy 0.248, val accuracy 0.242, and val rmse 1.801\n",
            "Epoch 3: train loss 1.384, val loss 1.384, train accuracy 0.248, val accuracy 0.244, and val rmse 1.795\n",
            "Epoch 4: train loss 1.384, val loss 1.383, train accuracy 0.255, val accuracy 0.261, and val rmse 1.676\n",
            "Epoch 5: train loss 1.383, val loss 1.383, train accuracy 0.279, val accuracy 0.280, and val rmse 1.367\n",
            "Epoch 6: train loss 1.383, val loss 1.383, train accuracy 0.277, val accuracy 0.270, and val rmse 1.225\n",
            "Epoch 7: train loss 1.382, val loss 1.382, train accuracy 0.273, val accuracy 0.264, and val rmse 1.213\n",
            "Epoch 8: train loss 1.382, val loss 1.382, train accuracy 0.268, val accuracy 0.272, and val rmse 1.201\n",
            "Epoch 9: train loss 1.382, val loss 1.382, train accuracy 0.273, val accuracy 0.273, and val rmse 1.207\n",
            "Epoch 10: train loss 1.382, val loss 1.381, train accuracy 0.278, val accuracy 0.267, and val rmse 1.205\n",
            "Epoch 11: train loss 1.381, val loss 1.381, train accuracy 0.275, val accuracy 0.264, and val rmse 1.197\n",
            "Epoch 12: train loss 1.381, val loss 1.381, train accuracy 0.274, val accuracy 0.267, and val rmse 1.201\n",
            "Epoch 13: train loss 1.381, val loss 1.381, train accuracy 0.274, val accuracy 0.269, and val rmse 1.197\n",
            "Epoch 14: train loss 1.381, val loss 1.381, train accuracy 0.279, val accuracy 0.271, and val rmse 1.193\n",
            "Epoch 15: train loss 1.381, val loss 1.381, train accuracy 0.275, val accuracy 0.272, and val rmse 1.190\n",
            "Epoch 16: train loss 1.381, val loss 1.381, train accuracy 0.277, val accuracy 0.274, and val rmse 1.191\n",
            "Epoch 17: train loss 1.381, val loss 1.381, train accuracy 0.279, val accuracy 0.273, and val rmse 1.193\n",
            "Epoch 18: train loss 1.381, val loss 1.381, train accuracy 0.278, val accuracy 0.273, and val rmse 1.191\n",
            "Epoch 19: train loss 1.381, val loss 1.380, train accuracy 0.275, val accuracy 0.275, and val rmse 1.186\n",
            "Epoch 20: train loss 1.381, val loss 1.380, train accuracy 0.279, val accuracy 0.275, and val rmse 1.188\n",
            "Epoch 21: train loss 1.381, val loss 1.380, train accuracy 0.277, val accuracy 0.272, and val rmse 1.189\n",
            "Epoch 22: train loss 1.381, val loss 1.380, train accuracy 0.278, val accuracy 0.273, and val rmse 1.186\n",
            "Epoch 23: train loss 1.381, val loss 1.380, train accuracy 0.282, val accuracy 0.273, and val rmse 1.196\n",
            "Epoch 24: train loss 1.381, val loss 1.380, train accuracy 0.281, val accuracy 0.277, and val rmse 1.181\n",
            "Epoch 25: train loss 1.380, val loss 1.380, train accuracy 0.281, val accuracy 0.275, and val rmse 1.187\n",
            "Epoch 26: train loss 1.380, val loss 1.380, train accuracy 0.278, val accuracy 0.277, and val rmse 1.184\n",
            "Epoch 27: train loss 1.380, val loss 1.380, train accuracy 0.281, val accuracy 0.276, and val rmse 1.183\n",
            "Epoch 28: train loss 1.380, val loss 1.380, train accuracy 0.284, val accuracy 0.278, and val rmse 1.185\n",
            "Epoch 29: train loss 1.380, val loss 1.380, train accuracy 0.282, val accuracy 0.275, and val rmse 1.180\n",
            "Epoch 30: train loss 1.380, val loss 1.380, train accuracy 0.280, val accuracy 0.274, and val rmse 1.190\n",
            "Epoch 31: train loss 1.380, val loss 1.380, train accuracy 0.283, val accuracy 0.277, and val rmse 1.178\n",
            "Epoch 32: train loss 1.380, val loss 1.380, train accuracy 0.284, val accuracy 0.276, and val rmse 1.181\n",
            "Epoch 33: train loss 1.380, val loss 1.380, train accuracy 0.284, val accuracy 0.279, and val rmse 1.180\n",
            "Epoch 34: train loss 1.380, val loss 1.380, train accuracy 0.286, val accuracy 0.277, and val rmse 1.186\n",
            "Epoch 35: train loss 1.380, val loss 1.380, train accuracy 0.283, val accuracy 0.278, and val rmse 1.182\n",
            "Epoch 36: train loss 1.380, val loss 1.380, train accuracy 0.285, val accuracy 0.272, and val rmse 1.187\n",
            "Epoch 37: train loss 1.380, val loss 1.380, train accuracy 0.286, val accuracy 0.274, and val rmse 1.182\n",
            "Epoch 38: train loss 1.380, val loss 1.380, train accuracy 0.287, val accuracy 0.281, and val rmse 1.180\n",
            "Epoch 39: train loss 1.380, val loss 1.380, train accuracy 0.284, val accuracy 0.280, and val rmse 1.178\n",
            "Epoch 40: train loss 1.380, val loss 1.380, train accuracy 0.283, val accuracy 0.277, and val rmse 1.178\n",
            "Epoch 41: train loss 1.380, val loss 1.380, train accuracy 0.283, val accuracy 0.283, and val rmse 1.180\n",
            "Epoch 42: train loss 1.380, val loss 1.380, train accuracy 0.285, val accuracy 0.281, and val rmse 1.177\n",
            "Epoch 43: train loss 1.380, val loss 1.380, train accuracy 0.286, val accuracy 0.279, and val rmse 1.181\n",
            "Epoch 44: train loss 1.380, val loss 1.380, train accuracy 0.288, val accuracy 0.282, and val rmse 1.177\n",
            "Epoch 45: train loss 1.380, val loss 1.380, train accuracy 0.286, val accuracy 0.279, and val rmse 1.183\n",
            "Epoch 46: train loss 1.380, val loss 1.380, train accuracy 0.289, val accuracy 0.282, and val rmse 1.181\n",
            "Epoch 47: train loss 1.380, val loss 1.380, train accuracy 0.286, val accuracy 0.278, and val rmse 1.185\n",
            "Epoch 48: train loss 1.380, val loss 1.380, train accuracy 0.287, val accuracy 0.282, and val rmse 1.185\n",
            "Epoch 49: train loss 1.380, val loss 1.380, train accuracy 0.284, val accuracy 0.285, and val rmse 1.179\n",
            "Epoch 50: train loss 1.380, val loss 1.380, train accuracy 0.289, val accuracy 0.280, and val rmse 1.183\n",
            "Epoch 51: train loss 1.380, val loss 1.380, train accuracy 0.290, val accuracy 0.284, and val rmse 1.179\n",
            "Epoch 52: train loss 1.380, val loss 1.380, train accuracy 0.287, val accuracy 0.282, and val rmse 1.184\n",
            "Epoch 53: train loss 1.380, val loss 1.380, train accuracy 0.289, val accuracy 0.289, and val rmse 1.178\n",
            "Epoch 54: train loss 1.380, val loss 1.380, train accuracy 0.288, val accuracy 0.284, and val rmse 1.182\n",
            "Epoch 55: train loss 1.380, val loss 1.380, train accuracy 0.290, val accuracy 0.282, and val rmse 1.179\n",
            "Epoch 56: train loss 1.380, val loss 1.380, train accuracy 0.292, val accuracy 0.282, and val rmse 1.182\n",
            "Epoch 57: train loss 1.380, val loss 1.380, train accuracy 0.291, val accuracy 0.285, and val rmse 1.176\n",
            "Epoch 58: train loss 1.380, val loss 1.380, train accuracy 0.291, val accuracy 0.283, and val rmse 1.182\n",
            "Epoch 59: train loss 1.380, val loss 1.380, train accuracy 0.292, val accuracy 0.283, and val rmse 1.185\n",
            "Epoch 60: train loss 1.380, val loss 1.380, train accuracy 0.292, val accuracy 0.281, and val rmse 1.176\n",
            "Epoch 61: train loss 1.380, val loss 1.380, train accuracy 0.292, val accuracy 0.286, and val rmse 1.183\n",
            "Epoch 62: train loss 1.380, val loss 1.380, train accuracy 0.295, val accuracy 0.284, and val rmse 1.176\n",
            "Epoch 63: train loss 1.380, val loss 1.380, train accuracy 0.293, val accuracy 0.285, and val rmse 1.179\n",
            "Epoch 64: train loss 1.380, val loss 1.380, train accuracy 0.294, val accuracy 0.285, and val rmse 1.180\n",
            "Epoch 65: train loss 1.380, val loss 1.379, train accuracy 0.294, val accuracy 0.281, and val rmse 1.179\n",
            "Epoch 66: train loss 1.380, val loss 1.379, train accuracy 0.294, val accuracy 0.287, and val rmse 1.186\n",
            "Epoch 67: train loss 1.380, val loss 1.380, train accuracy 0.295, val accuracy 0.280, and val rmse 1.181\n",
            "Epoch 68: train loss 1.380, val loss 1.380, train accuracy 0.293, val accuracy 0.282, and val rmse 1.183\n",
            "Epoch 69: train loss 1.380, val loss 1.379, train accuracy 0.296, val accuracy 0.289, and val rmse 1.173\n",
            "Epoch 70: train loss 1.380, val loss 1.379, train accuracy 0.296, val accuracy 0.288, and val rmse 1.178\n",
            "Epoch 71: train loss 1.380, val loss 1.379, train accuracy 0.294, val accuracy 0.292, and val rmse 1.176\n",
            "Epoch 72: train loss 1.380, val loss 1.379, train accuracy 0.297, val accuracy 0.292, and val rmse 1.177\n",
            "Epoch 73: train loss 1.380, val loss 1.379, train accuracy 0.295, val accuracy 0.287, and val rmse 1.179\n",
            "Epoch 74: train loss 1.380, val loss 1.379, train accuracy 0.296, val accuracy 0.287, and val rmse 1.183\n",
            "Epoch 75: train loss 1.380, val loss 1.379, train accuracy 0.296, val accuracy 0.288, and val rmse 1.183\n",
            "Epoch 76: train loss 1.380, val loss 1.379, train accuracy 0.295, val accuracy 0.289, and val rmse 1.181\n",
            "Epoch 77: train loss 1.380, val loss 1.379, train accuracy 0.299, val accuracy 0.292, and val rmse 1.181\n",
            "Epoch 78: train loss 1.380, val loss 1.379, train accuracy 0.298, val accuracy 0.289, and val rmse 1.175\n",
            "Epoch 79: train loss 1.380, val loss 1.379, train accuracy 0.300, val accuracy 0.293, and val rmse 1.177\n",
            "Epoch 80: train loss 1.380, val loss 1.379, train accuracy 0.297, val accuracy 0.289, and val rmse 1.175\n",
            "Epoch 81: train loss 1.380, val loss 1.379, train accuracy 0.296, val accuracy 0.290, and val rmse 1.175\n",
            "Epoch 82: train loss 1.380, val loss 1.379, train accuracy 0.299, val accuracy 0.288, and val rmse 1.176\n",
            "Epoch 83: train loss 1.379, val loss 1.379, train accuracy 0.301, val accuracy 0.290, and val rmse 1.179\n",
            "Epoch 84: train loss 1.379, val loss 1.379, train accuracy 0.299, val accuracy 0.297, and val rmse 1.173\n",
            "Epoch 85: train loss 1.379, val loss 1.379, train accuracy 0.298, val accuracy 0.295, and val rmse 1.176\n",
            "Epoch 86: train loss 1.379, val loss 1.379, train accuracy 0.301, val accuracy 0.294, and val rmse 1.173\n",
            "Epoch 87: train loss 1.379, val loss 1.379, train accuracy 0.301, val accuracy 0.293, and val rmse 1.180\n",
            "Epoch 88: train loss 1.379, val loss 1.379, train accuracy 0.299, val accuracy 0.292, and val rmse 1.176\n",
            "Epoch 89: train loss 1.379, val loss 1.379, train accuracy 0.299, val accuracy 0.298, and val rmse 1.178\n",
            "Epoch 90: train loss 1.379, val loss 1.379, train accuracy 0.302, val accuracy 0.291, and val rmse 1.171\n",
            "Epoch 91: train loss 1.379, val loss 1.379, train accuracy 0.302, val accuracy 0.296, and val rmse 1.176\n",
            "Epoch 92: train loss 1.379, val loss 1.379, train accuracy 0.301, val accuracy 0.294, and val rmse 1.174\n",
            "Epoch 93: train loss 1.379, val loss 1.379, train accuracy 0.301, val accuracy 0.298, and val rmse 1.172\n",
            "Epoch 94: train loss 1.379, val loss 1.379, train accuracy 0.301, val accuracy 0.297, and val rmse 1.174\n",
            "Epoch 95: train loss 1.379, val loss 1.379, train accuracy 0.304, val accuracy 0.291, and val rmse 1.178\n",
            "Epoch 96: train loss 1.379, val loss 1.379, train accuracy 0.302, val accuracy 0.297, and val rmse 1.174\n",
            "Epoch 97: train loss 1.379, val loss 1.379, train accuracy 0.304, val accuracy 0.294, and val rmse 1.178\n",
            "Epoch 98: train loss 1.379, val loss 1.379, train accuracy 0.304, val accuracy 0.295, and val rmse 1.175\n",
            "Epoch 99: train loss 1.379, val loss 1.379, train accuracy 0.305, val accuracy 0.298, and val rmse 1.178\n",
            "Epoch 100: train loss 1.379, val loss 1.379, train accuracy 0.306, val accuracy 0.298, and val rmse 1.176\n",
            "Epoch 101: train loss 1.379, val loss 1.379, train accuracy 0.305, val accuracy 0.296, and val rmse 1.174\n",
            "Epoch 102: train loss 1.379, val loss 1.379, train accuracy 0.304, val accuracy 0.300, and val rmse 1.168\n",
            "Epoch 103: train loss 1.379, val loss 1.379, train accuracy 0.305, val accuracy 0.298, and val rmse 1.172\n",
            "Epoch 104: train loss 1.379, val loss 1.379, train accuracy 0.305, val accuracy 0.290, and val rmse 1.180\n",
            "Epoch 105: train loss 1.379, val loss 1.379, train accuracy 0.306, val accuracy 0.299, and val rmse 1.178\n",
            "Epoch 106: train loss 1.379, val loss 1.379, train accuracy 0.306, val accuracy 0.298, and val rmse 1.176\n",
            "Epoch 107: train loss 1.379, val loss 1.379, train accuracy 0.307, val accuracy 0.303, and val rmse 1.173\n",
            "Epoch 108: train loss 1.379, val loss 1.379, train accuracy 0.307, val accuracy 0.298, and val rmse 1.169\n",
            "Epoch 109: train loss 1.379, val loss 1.379, train accuracy 0.305, val accuracy 0.301, and val rmse 1.171\n",
            "Epoch 110: train loss 1.379, val loss 1.379, train accuracy 0.309, val accuracy 0.298, and val rmse 1.178\n",
            "Epoch 111: train loss 1.379, val loss 1.379, train accuracy 0.306, val accuracy 0.299, and val rmse 1.181\n",
            "Epoch 112: train loss 1.379, val loss 1.379, train accuracy 0.309, val accuracy 0.297, and val rmse 1.172\n",
            "Epoch 113: train loss 1.379, val loss 1.379, train accuracy 0.309, val accuracy 0.301, and val rmse 1.176\n",
            "Epoch 114: train loss 1.379, val loss 1.379, train accuracy 0.307, val accuracy 0.300, and val rmse 1.176\n",
            "Epoch 115: train loss 1.379, val loss 1.379, train accuracy 0.306, val accuracy 0.301, and val rmse 1.174\n",
            "Epoch 116: train loss 1.379, val loss 1.379, train accuracy 0.307, val accuracy 0.300, and val rmse 1.171\n",
            "Epoch 117: train loss 1.379, val loss 1.379, train accuracy 0.308, val accuracy 0.305, and val rmse 1.171\n",
            "Epoch 118: train loss 1.379, val loss 1.379, train accuracy 0.310, val accuracy 0.301, and val rmse 1.171\n",
            "Epoch 119: train loss 1.379, val loss 1.379, train accuracy 0.308, val accuracy 0.305, and val rmse 1.170\n",
            "Epoch 120: train loss 1.379, val loss 1.379, train accuracy 0.312, val accuracy 0.306, and val rmse 1.170\n",
            "Epoch 121: train loss 1.379, val loss 1.379, train accuracy 0.309, val accuracy 0.306, and val rmse 1.172\n",
            "Epoch 122: train loss 1.379, val loss 1.378, train accuracy 0.312, val accuracy 0.307, and val rmse 1.173\n",
            "Epoch 123: train loss 1.379, val loss 1.378, train accuracy 0.310, val accuracy 0.302, and val rmse 1.176\n",
            "Epoch 124: train loss 1.379, val loss 1.378, train accuracy 0.312, val accuracy 0.303, and val rmse 1.171\n",
            "Epoch 125: train loss 1.379, val loss 1.378, train accuracy 0.311, val accuracy 0.303, and val rmse 1.171\n",
            "Epoch 126: train loss 1.379, val loss 1.378, train accuracy 0.313, val accuracy 0.304, and val rmse 1.172\n",
            "Epoch 127: train loss 1.379, val loss 1.378, train accuracy 0.313, val accuracy 0.299, and val rmse 1.178\n",
            "Epoch 128: train loss 1.379, val loss 1.378, train accuracy 0.314, val accuracy 0.304, and val rmse 1.173\n",
            "Epoch 129: train loss 1.379, val loss 1.378, train accuracy 0.311, val accuracy 0.308, and val rmse 1.171\n",
            "Epoch 130: train loss 1.379, val loss 1.378, train accuracy 0.311, val accuracy 0.303, and val rmse 1.176\n",
            "Epoch 131: train loss 1.379, val loss 1.378, train accuracy 0.311, val accuracy 0.306, and val rmse 1.173\n",
            "Epoch 132: train loss 1.379, val loss 1.378, train accuracy 0.314, val accuracy 0.308, and val rmse 1.173\n",
            "Epoch 133: train loss 1.378, val loss 1.378, train accuracy 0.313, val accuracy 0.304, and val rmse 1.180\n",
            "Epoch 134: train loss 1.379, val loss 1.378, train accuracy 0.311, val accuracy 0.310, and val rmse 1.172\n",
            "Epoch 135: train loss 1.378, val loss 1.378, train accuracy 0.315, val accuracy 0.306, and val rmse 1.171\n",
            "Epoch 136: train loss 1.378, val loss 1.378, train accuracy 0.315, val accuracy 0.313, and val rmse 1.172\n",
            "Epoch 137: train loss 1.378, val loss 1.378, train accuracy 0.317, val accuracy 0.308, and val rmse 1.171\n",
            "Epoch 138: train loss 1.378, val loss 1.378, train accuracy 0.316, val accuracy 0.311, and val rmse 1.164\n",
            "Epoch 139: train loss 1.378, val loss 1.378, train accuracy 0.314, val accuracy 0.308, and val rmse 1.169\n",
            "Epoch 140: train loss 1.378, val loss 1.378, train accuracy 0.316, val accuracy 0.310, and val rmse 1.171\n",
            "Epoch 141: train loss 1.378, val loss 1.378, train accuracy 0.312, val accuracy 0.310, and val rmse 1.168\n",
            "Epoch 142: train loss 1.378, val loss 1.378, train accuracy 0.317, val accuracy 0.312, and val rmse 1.167\n",
            "Epoch 143: train loss 1.378, val loss 1.378, train accuracy 0.315, val accuracy 0.307, and val rmse 1.172\n",
            "Epoch 144: train loss 1.378, val loss 1.378, train accuracy 0.315, val accuracy 0.307, and val rmse 1.170\n",
            "Epoch 145: train loss 1.378, val loss 1.378, train accuracy 0.316, val accuracy 0.304, and val rmse 1.172\n",
            "Epoch 146: train loss 1.378, val loss 1.378, train accuracy 0.316, val accuracy 0.309, and val rmse 1.173\n",
            "Epoch 147: train loss 1.378, val loss 1.378, train accuracy 0.315, val accuracy 0.307, and val rmse 1.169\n",
            "Epoch 148: train loss 1.378, val loss 1.378, train accuracy 0.317, val accuracy 0.313, and val rmse 1.176\n",
            "Epoch 149: train loss 1.378, val loss 1.378, train accuracy 0.316, val accuracy 0.308, and val rmse 1.172\n",
            "Epoch 150: train loss 1.378, val loss 1.378, train accuracy 0.317, val accuracy 0.311, and val rmse 1.170\n",
            "Epoch 151: train loss 1.378, val loss 1.378, train accuracy 0.319, val accuracy 0.315, and val rmse 1.170\n",
            "Epoch 152: train loss 1.378, val loss 1.378, train accuracy 0.320, val accuracy 0.313, and val rmse 1.169\n",
            "Epoch 153: train loss 1.378, val loss 1.378, train accuracy 0.317, val accuracy 0.307, and val rmse 1.172\n",
            "Epoch 154: train loss 1.378, val loss 1.378, train accuracy 0.318, val accuracy 0.310, and val rmse 1.168\n",
            "Epoch 155: train loss 1.378, val loss 1.378, train accuracy 0.320, val accuracy 0.313, and val rmse 1.174\n",
            "Epoch 156: train loss 1.378, val loss 1.378, train accuracy 0.314, val accuracy 0.314, and val rmse 1.173\n",
            "Epoch 157: train loss 1.378, val loss 1.378, train accuracy 0.320, val accuracy 0.310, and val rmse 1.168\n",
            "Epoch 158: train loss 1.378, val loss 1.378, train accuracy 0.321, val accuracy 0.317, and val rmse 1.166\n",
            "Epoch 159: train loss 1.378, val loss 1.378, train accuracy 0.322, val accuracy 0.317, and val rmse 1.164\n",
            "Epoch 160: train loss 1.378, val loss 1.378, train accuracy 0.320, val accuracy 0.313, and val rmse 1.170\n",
            "Epoch 161: train loss 1.378, val loss 1.378, train accuracy 0.320, val accuracy 0.315, and val rmse 1.166\n",
            "Epoch 162: train loss 1.378, val loss 1.378, train accuracy 0.321, val accuracy 0.316, and val rmse 1.169\n",
            "Epoch 163: train loss 1.378, val loss 1.378, train accuracy 0.322, val accuracy 0.318, and val rmse 1.166\n",
            "Epoch 164: train loss 1.378, val loss 1.377, train accuracy 0.322, val accuracy 0.319, and val rmse 1.165\n",
            "Epoch 165: train loss 1.378, val loss 1.377, train accuracy 0.322, val accuracy 0.316, and val rmse 1.170\n",
            "Epoch 166: train loss 1.378, val loss 1.377, train accuracy 0.322, val accuracy 0.316, and val rmse 1.164\n",
            "Epoch 167: train loss 1.378, val loss 1.377, train accuracy 0.322, val accuracy 0.324, and val rmse 1.170\n",
            "Epoch 168: train loss 1.378, val loss 1.377, train accuracy 0.325, val accuracy 0.319, and val rmse 1.169\n",
            "Epoch 169: train loss 1.378, val loss 1.377, train accuracy 0.323, val accuracy 0.315, and val rmse 1.171\n",
            "Epoch 170: train loss 1.378, val loss 1.377, train accuracy 0.321, val accuracy 0.324, and val rmse 1.168\n",
            "Epoch 171: train loss 1.378, val loss 1.377, train accuracy 0.322, val accuracy 0.317, and val rmse 1.162\n",
            "Epoch 172: train loss 1.378, val loss 1.377, train accuracy 0.322, val accuracy 0.323, and val rmse 1.167\n",
            "Epoch 173: train loss 1.378, val loss 1.377, train accuracy 0.323, val accuracy 0.314, and val rmse 1.169\n",
            "Epoch 174: train loss 1.377, val loss 1.377, train accuracy 0.327, val accuracy 0.319, and val rmse 1.165\n",
            "Epoch 175: train loss 1.378, val loss 1.377, train accuracy 0.323, val accuracy 0.318, and val rmse 1.164\n",
            "Epoch 176: train loss 1.377, val loss 1.377, train accuracy 0.325, val accuracy 0.322, and val rmse 1.170\n",
            "Epoch 177: train loss 1.377, val loss 1.377, train accuracy 0.325, val accuracy 0.322, and val rmse 1.167\n",
            "Epoch 178: train loss 1.377, val loss 1.377, train accuracy 0.324, val accuracy 0.320, and val rmse 1.172\n",
            "Epoch 179: train loss 1.377, val loss 1.377, train accuracy 0.324, val accuracy 0.316, and val rmse 1.172\n",
            "Epoch 180: train loss 1.377, val loss 1.377, train accuracy 0.325, val accuracy 0.321, and val rmse 1.163\n",
            "Epoch 181: train loss 1.377, val loss 1.377, train accuracy 0.327, val accuracy 0.320, and val rmse 1.169\n",
            "Epoch 182: train loss 1.377, val loss 1.377, train accuracy 0.325, val accuracy 0.317, and val rmse 1.168\n",
            "Epoch 183: train loss 1.377, val loss 1.377, train accuracy 0.326, val accuracy 0.324, and val rmse 1.166\n",
            "Epoch 184: train loss 1.377, val loss 1.377, train accuracy 0.326, val accuracy 0.324, and val rmse 1.166\n",
            "Epoch 185: train loss 1.377, val loss 1.377, train accuracy 0.326, val accuracy 0.323, and val rmse 1.169\n",
            "Epoch 186: train loss 1.377, val loss 1.377, train accuracy 0.326, val accuracy 0.317, and val rmse 1.165\n",
            "Epoch 187: train loss 1.377, val loss 1.377, train accuracy 0.328, val accuracy 0.324, and val rmse 1.165\n",
            "Epoch 188: train loss 1.377, val loss 1.377, train accuracy 0.328, val accuracy 0.320, and val rmse 1.166\n",
            "Epoch 189: train loss 1.377, val loss 1.377, train accuracy 0.328, val accuracy 0.323, and val rmse 1.163\n",
            "Epoch 190: train loss 1.377, val loss 1.377, train accuracy 0.328, val accuracy 0.322, and val rmse 1.170\n",
            "Epoch 191: train loss 1.377, val loss 1.377, train accuracy 0.328, val accuracy 0.324, and val rmse 1.171\n",
            "Epoch 192: train loss 1.377, val loss 1.377, train accuracy 0.330, val accuracy 0.323, and val rmse 1.167\n",
            "Epoch 193: train loss 1.377, val loss 1.377, train accuracy 0.330, val accuracy 0.321, and val rmse 1.166\n",
            "Epoch 194: train loss 1.377, val loss 1.377, train accuracy 0.330, val accuracy 0.320, and val rmse 1.170\n",
            "Epoch 195: train loss 1.377, val loss 1.377, train accuracy 0.328, val accuracy 0.328, and val rmse 1.166\n",
            "Epoch 196: train loss 1.377, val loss 1.376, train accuracy 0.330, val accuracy 0.327, and val rmse 1.169\n",
            "Epoch 197: train loss 1.377, val loss 1.377, train accuracy 0.329, val accuracy 0.320, and val rmse 1.171\n",
            "Epoch 198: train loss 1.377, val loss 1.376, train accuracy 0.328, val accuracy 0.328, and val rmse 1.163\n",
            "Epoch 199: train loss 1.377, val loss 1.376, train accuracy 0.333, val accuracy 0.329, and val rmse 1.163\n",
            "Epoch 200: train loss 1.377, val loss 1.376, train accuracy 0.330, val accuracy 0.330, and val rmse 1.174\n",
            "Epoch 201: train loss 1.377, val loss 1.376, train accuracy 0.330, val accuracy 0.320, and val rmse 1.168\n",
            "Epoch 202: train loss 1.377, val loss 1.376, train accuracy 0.330, val accuracy 0.327, and val rmse 1.164\n",
            "Epoch 203: train loss 1.377, val loss 1.376, train accuracy 0.331, val accuracy 0.327, and val rmse 1.170\n",
            "Epoch 204: train loss 1.376, val loss 1.376, train accuracy 0.331, val accuracy 0.323, and val rmse 1.164\n",
            "Epoch 205: train loss 1.376, val loss 1.376, train accuracy 0.335, val accuracy 0.326, and val rmse 1.165\n",
            "Epoch 206: train loss 1.376, val loss 1.376, train accuracy 0.332, val accuracy 0.328, and val rmse 1.165\n",
            "Epoch 207: train loss 1.376, val loss 1.376, train accuracy 0.331, val accuracy 0.329, and val rmse 1.169\n",
            "Epoch 208: train loss 1.376, val loss 1.376, train accuracy 0.334, val accuracy 0.329, and val rmse 1.168\n",
            "Epoch 209: train loss 1.376, val loss 1.376, train accuracy 0.330, val accuracy 0.326, and val rmse 1.167\n",
            "Epoch 210: train loss 1.376, val loss 1.376, train accuracy 0.334, val accuracy 0.330, and val rmse 1.165\n",
            "Epoch 211: train loss 1.376, val loss 1.376, train accuracy 0.335, val accuracy 0.333, and val rmse 1.167\n",
            "Epoch 212: train loss 1.376, val loss 1.376, train accuracy 0.332, val accuracy 0.333, and val rmse 1.164\n",
            "Epoch 213: train loss 1.376, val loss 1.376, train accuracy 0.332, val accuracy 0.332, and val rmse 1.159\n",
            "Epoch 214: train loss 1.376, val loss 1.376, train accuracy 0.336, val accuracy 0.332, and val rmse 1.161\n",
            "Epoch 215: train loss 1.376, val loss 1.376, train accuracy 0.335, val accuracy 0.335, and val rmse 1.164\n",
            "Epoch 216: train loss 1.376, val loss 1.376, train accuracy 0.334, val accuracy 0.330, and val rmse 1.164\n",
            "Epoch 217: train loss 1.376, val loss 1.376, train accuracy 0.334, val accuracy 0.328, and val rmse 1.167\n",
            "Epoch 218: train loss 1.376, val loss 1.376, train accuracy 0.336, val accuracy 0.329, and val rmse 1.168\n",
            "Epoch 219: train loss 1.376, val loss 1.376, train accuracy 0.335, val accuracy 0.331, and val rmse 1.161\n",
            "Epoch 220: train loss 1.376, val loss 1.376, train accuracy 0.338, val accuracy 0.331, and val rmse 1.165\n",
            "Epoch 221: train loss 1.376, val loss 1.375, train accuracy 0.336, val accuracy 0.331, and val rmse 1.166\n",
            "Epoch 222: train loss 1.376, val loss 1.376, train accuracy 0.336, val accuracy 0.326, and val rmse 1.164\n",
            "Epoch 223: train loss 1.376, val loss 1.376, train accuracy 0.337, val accuracy 0.331, and val rmse 1.165\n",
            "Epoch 224: train loss 1.376, val loss 1.375, train accuracy 0.338, val accuracy 0.334, and val rmse 1.161\n",
            "Epoch 225: train loss 1.376, val loss 1.375, train accuracy 0.336, val accuracy 0.332, and val rmse 1.167\n",
            "Epoch 226: train loss 1.376, val loss 1.375, train accuracy 0.336, val accuracy 0.330, and val rmse 1.159\n",
            "Epoch 227: train loss 1.376, val loss 1.375, train accuracy 0.338, val accuracy 0.336, and val rmse 1.163\n",
            "Epoch 228: train loss 1.376, val loss 1.375, train accuracy 0.338, val accuracy 0.327, and val rmse 1.163\n",
            "Epoch 229: train loss 1.375, val loss 1.375, train accuracy 0.335, val accuracy 0.334, and val rmse 1.170\n",
            "Epoch 230: train loss 1.375, val loss 1.375, train accuracy 0.337, val accuracy 0.328, and val rmse 1.168\n",
            "Epoch 231: train loss 1.375, val loss 1.375, train accuracy 0.337, val accuracy 0.330, and val rmse 1.166\n",
            "Epoch 232: train loss 1.375, val loss 1.375, train accuracy 0.339, val accuracy 0.335, and val rmse 1.166\n",
            "Epoch 233: train loss 1.375, val loss 1.375, train accuracy 0.340, val accuracy 0.335, and val rmse 1.163\n",
            "Epoch 234: train loss 1.375, val loss 1.375, train accuracy 0.341, val accuracy 0.336, and val rmse 1.161\n",
            "Epoch 235: train loss 1.375, val loss 1.375, train accuracy 0.340, val accuracy 0.331, and val rmse 1.168\n",
            "Epoch 236: train loss 1.375, val loss 1.375, train accuracy 0.342, val accuracy 0.331, and val rmse 1.167\n",
            "Epoch 237: train loss 1.375, val loss 1.375, train accuracy 0.338, val accuracy 0.334, and val rmse 1.162\n",
            "Epoch 238: train loss 1.375, val loss 1.375, train accuracy 0.341, val accuracy 0.332, and val rmse 1.161\n",
            "Epoch 239: train loss 1.375, val loss 1.375, train accuracy 0.343, val accuracy 0.338, and val rmse 1.167\n",
            "Epoch 240: train loss 1.375, val loss 1.375, train accuracy 0.342, val accuracy 0.336, and val rmse 1.163\n",
            "Epoch 241: train loss 1.375, val loss 1.375, train accuracy 0.341, val accuracy 0.338, and val rmse 1.164\n",
            "Epoch 242: train loss 1.375, val loss 1.375, train accuracy 0.342, val accuracy 0.336, and val rmse 1.163\n",
            "Epoch 243: train loss 1.375, val loss 1.375, train accuracy 0.340, val accuracy 0.335, and val rmse 1.171\n",
            "Epoch 244: train loss 1.375, val loss 1.375, train accuracy 0.342, val accuracy 0.337, and val rmse 1.160\n",
            "Epoch 245: train loss 1.375, val loss 1.374, train accuracy 0.341, val accuracy 0.339, and val rmse 1.159\n",
            "Epoch 246: train loss 1.375, val loss 1.374, train accuracy 0.342, val accuracy 0.334, and val rmse 1.167\n",
            "Epoch 247: train loss 1.375, val loss 1.374, train accuracy 0.344, val accuracy 0.335, and val rmse 1.163\n",
            "Epoch 248: train loss 1.375, val loss 1.374, train accuracy 0.342, val accuracy 0.338, and val rmse 1.157\n",
            "Epoch 249: train loss 1.374, val loss 1.374, train accuracy 0.343, val accuracy 0.337, and val rmse 1.160\n",
            "Epoch 250: train loss 1.374, val loss 1.374, train accuracy 0.343, val accuracy 0.335, and val rmse 1.167\n",
            "Epoch 251: train loss 1.374, val loss 1.374, train accuracy 0.343, val accuracy 0.345, and val rmse 1.158\n",
            "Epoch 252: train loss 1.374, val loss 1.374, train accuracy 0.343, val accuracy 0.335, and val rmse 1.156\n",
            "Epoch 253: train loss 1.374, val loss 1.374, train accuracy 0.345, val accuracy 0.339, and val rmse 1.160\n",
            "Epoch 254: train loss 1.374, val loss 1.374, train accuracy 0.344, val accuracy 0.341, and val rmse 1.158\n",
            "Epoch 255: train loss 1.374, val loss 1.374, train accuracy 0.343, val accuracy 0.340, and val rmse 1.155\n",
            "Epoch 256: train loss 1.374, val loss 1.374, train accuracy 0.345, val accuracy 0.338, and val rmse 1.164\n",
            "Epoch 257: train loss 1.374, val loss 1.374, train accuracy 0.342, val accuracy 0.342, and val rmse 1.162\n",
            "Epoch 258: train loss 1.374, val loss 1.374, train accuracy 0.346, val accuracy 0.341, and val rmse 1.160\n",
            "Epoch 259: train loss 1.374, val loss 1.374, train accuracy 0.345, val accuracy 0.338, and val rmse 1.165\n",
            "Epoch 260: train loss 1.374, val loss 1.374, train accuracy 0.345, val accuracy 0.339, and val rmse 1.160\n",
            "Epoch 261: train loss 1.374, val loss 1.373, train accuracy 0.346, val accuracy 0.344, and val rmse 1.159\n",
            "Epoch 262: train loss 1.374, val loss 1.373, train accuracy 0.346, val accuracy 0.341, and val rmse 1.155\n",
            "Epoch 263: train loss 1.374, val loss 1.373, train accuracy 0.344, val accuracy 0.342, and val rmse 1.161\n",
            "Epoch 264: train loss 1.373, val loss 1.373, train accuracy 0.346, val accuracy 0.340, and val rmse 1.162\n",
            "Epoch 265: train loss 1.373, val loss 1.373, train accuracy 0.347, val accuracy 0.341, and val rmse 1.169\n",
            "Epoch 266: train loss 1.373, val loss 1.373, train accuracy 0.345, val accuracy 0.342, and val rmse 1.162\n",
            "Epoch 267: train loss 1.373, val loss 1.373, train accuracy 0.349, val accuracy 0.340, and val rmse 1.163\n",
            "Epoch 268: train loss 1.373, val loss 1.373, train accuracy 0.346, val accuracy 0.344, and val rmse 1.160\n",
            "Epoch 269: train loss 1.373, val loss 1.373, train accuracy 0.348, val accuracy 0.336, and val rmse 1.164\n",
            "Epoch 270: train loss 1.373, val loss 1.373, train accuracy 0.349, val accuracy 0.343, and val rmse 1.159\n",
            "Epoch 271: train loss 1.373, val loss 1.373, train accuracy 0.346, val accuracy 0.343, and val rmse 1.159\n",
            "Epoch 272: train loss 1.373, val loss 1.373, train accuracy 0.345, val accuracy 0.342, and val rmse 1.166\n",
            "Epoch 273: train loss 1.373, val loss 1.373, train accuracy 0.348, val accuracy 0.348, and val rmse 1.155\n",
            "Epoch 274: train loss 1.373, val loss 1.373, train accuracy 0.348, val accuracy 0.348, and val rmse 1.159\n",
            "Epoch 275: train loss 1.373, val loss 1.372, train accuracy 0.347, val accuracy 0.350, and val rmse 1.164\n",
            "Epoch 276: train loss 1.373, val loss 1.372, train accuracy 0.349, val accuracy 0.345, and val rmse 1.159\n",
            "Epoch 277: train loss 1.373, val loss 1.372, train accuracy 0.347, val accuracy 0.344, and val rmse 1.162\n",
            "Epoch 278: train loss 1.373, val loss 1.372, train accuracy 0.351, val accuracy 0.346, and val rmse 1.156\n",
            "Epoch 279: train loss 1.372, val loss 1.372, train accuracy 0.350, val accuracy 0.348, and val rmse 1.162\n",
            "Epoch 280: train loss 1.372, val loss 1.372, train accuracy 0.349, val accuracy 0.342, and val rmse 1.165\n",
            "Epoch 281: train loss 1.372, val loss 1.372, train accuracy 0.349, val accuracy 0.343, and val rmse 1.159\n",
            "Epoch 282: train loss 1.372, val loss 1.372, train accuracy 0.348, val accuracy 0.345, and val rmse 1.164\n",
            "Epoch 283: train loss 1.372, val loss 1.372, train accuracy 0.350, val accuracy 0.344, and val rmse 1.161\n",
            "Epoch 284: train loss 1.372, val loss 1.372, train accuracy 0.349, val accuracy 0.348, and val rmse 1.157\n",
            "Epoch 285: train loss 1.372, val loss 1.372, train accuracy 0.351, val accuracy 0.346, and val rmse 1.161\n",
            "Epoch 286: train loss 1.372, val loss 1.371, train accuracy 0.351, val accuracy 0.353, and val rmse 1.161\n",
            "Epoch 287: train loss 1.372, val loss 1.371, train accuracy 0.350, val accuracy 0.346, and val rmse 1.160\n",
            "Epoch 288: train loss 1.372, val loss 1.371, train accuracy 0.351, val accuracy 0.353, and val rmse 1.161\n",
            "Epoch 289: train loss 1.372, val loss 1.371, train accuracy 0.352, val accuracy 0.351, and val rmse 1.159\n",
            "Epoch 290: train loss 1.371, val loss 1.371, train accuracy 0.351, val accuracy 0.342, and val rmse 1.160\n",
            "Epoch 291: train loss 1.371, val loss 1.371, train accuracy 0.351, val accuracy 0.345, and val rmse 1.161\n",
            "Epoch 292: train loss 1.371, val loss 1.371, train accuracy 0.353, val accuracy 0.351, and val rmse 1.159\n",
            "Epoch 293: train loss 1.371, val loss 1.371, train accuracy 0.351, val accuracy 0.348, and val rmse 1.164\n",
            "Epoch 294: train loss 1.371, val loss 1.371, train accuracy 0.352, val accuracy 0.349, and val rmse 1.164\n",
            "Epoch 295: train loss 1.371, val loss 1.371, train accuracy 0.356, val accuracy 0.351, and val rmse 1.160\n",
            "Epoch 296: train loss 1.371, val loss 1.371, train accuracy 0.354, val accuracy 0.346, and val rmse 1.163\n",
            "Epoch 297: train loss 1.371, val loss 1.370, train accuracy 0.352, val accuracy 0.354, and val rmse 1.160\n",
            "Epoch 298: train loss 1.371, val loss 1.370, train accuracy 0.354, val accuracy 0.354, and val rmse 1.160\n",
            "Epoch 299: train loss 1.370, val loss 1.370, train accuracy 0.353, val accuracy 0.350, and val rmse 1.156\n",
            "Epoch 300: train loss 1.370, val loss 1.370, train accuracy 0.354, val accuracy 0.348, and val rmse 1.157\n",
            "Epoch 301: train loss 1.370, val loss 1.370, train accuracy 0.355, val accuracy 0.349, and val rmse 1.162\n",
            "Epoch 302: train loss 1.370, val loss 1.370, train accuracy 0.354, val accuracy 0.355, and val rmse 1.160\n",
            "Epoch 303: train loss 1.370, val loss 1.370, train accuracy 0.356, val accuracy 0.355, and val rmse 1.163\n",
            "Epoch 304: train loss 1.370, val loss 1.370, train accuracy 0.357, val accuracy 0.355, and val rmse 1.157\n",
            "Epoch 305: train loss 1.370, val loss 1.369, train accuracy 0.356, val accuracy 0.350, and val rmse 1.166\n",
            "Epoch 306: train loss 1.370, val loss 1.369, train accuracy 0.358, val accuracy 0.355, and val rmse 1.160\n",
            "Epoch 307: train loss 1.369, val loss 1.369, train accuracy 0.358, val accuracy 0.351, and val rmse 1.163\n",
            "Epoch 308: train loss 1.369, val loss 1.369, train accuracy 0.360, val accuracy 0.358, and val rmse 1.164\n",
            "Epoch 309: train loss 1.369, val loss 1.369, train accuracy 0.359, val accuracy 0.356, and val rmse 1.162\n",
            "Epoch 310: train loss 1.369, val loss 1.369, train accuracy 0.357, val accuracy 0.354, and val rmse 1.161\n",
            "Epoch 311: train loss 1.369, val loss 1.369, train accuracy 0.358, val accuracy 0.355, and val rmse 1.172\n",
            "Epoch 312: train loss 1.369, val loss 1.369, train accuracy 0.360, val accuracy 0.353, and val rmse 1.163\n",
            "Epoch 313: train loss 1.369, val loss 1.369, train accuracy 0.359, val accuracy 0.354, and val rmse 1.165\n",
            "Epoch 314: train loss 1.369, val loss 1.368, train accuracy 0.358, val accuracy 0.353, and val rmse 1.168\n",
            "Epoch 315: train loss 1.368, val loss 1.368, train accuracy 0.359, val accuracy 0.362, and val rmse 1.160\n",
            "Epoch 316: train loss 1.368, val loss 1.368, train accuracy 0.362, val accuracy 0.355, and val rmse 1.165\n",
            "Epoch 317: train loss 1.368, val loss 1.368, train accuracy 0.361, val accuracy 0.361, and val rmse 1.159\n",
            "Epoch 318: train loss 1.368, val loss 1.368, train accuracy 0.363, val accuracy 0.358, and val rmse 1.168\n",
            "Epoch 319: train loss 1.368, val loss 1.368, train accuracy 0.363, val accuracy 0.360, and val rmse 1.172\n",
            "Epoch 320: train loss 1.368, val loss 1.367, train accuracy 0.363, val accuracy 0.360, and val rmse 1.168\n",
            "Epoch 321: train loss 1.368, val loss 1.367, train accuracy 0.360, val accuracy 0.364, and val rmse 1.168\n",
            "Epoch 322: train loss 1.367, val loss 1.367, train accuracy 0.369, val accuracy 0.355, and val rmse 1.172\n",
            "Epoch 323: train loss 1.367, val loss 1.367, train accuracy 0.363, val accuracy 0.362, and val rmse 1.164\n",
            "Epoch 324: train loss 1.367, val loss 1.367, train accuracy 0.365, val accuracy 0.364, and val rmse 1.173\n",
            "Epoch 325: train loss 1.367, val loss 1.366, train accuracy 0.368, val accuracy 0.362, and val rmse 1.171\n",
            "Epoch 326: train loss 1.367, val loss 1.367, train accuracy 0.364, val accuracy 0.361, and val rmse 1.175\n",
            "Epoch 327: train loss 1.366, val loss 1.366, train accuracy 0.367, val accuracy 0.368, and val rmse 1.176\n",
            "Epoch 328: train loss 1.366, val loss 1.366, train accuracy 0.368, val accuracy 0.370, and val rmse 1.172\n",
            "Epoch 329: train loss 1.366, val loss 1.366, train accuracy 0.368, val accuracy 0.370, and val rmse 1.176\n",
            "Epoch 330: train loss 1.366, val loss 1.366, train accuracy 0.369, val accuracy 0.367, and val rmse 1.176\n",
            "Epoch 331: train loss 1.366, val loss 1.366, train accuracy 0.368, val accuracy 0.369, and val rmse 1.183\n",
            "Epoch 332: train loss 1.366, val loss 1.365, train accuracy 0.370, val accuracy 0.377, and val rmse 1.175\n",
            "Epoch 333: train loss 1.365, val loss 1.365, train accuracy 0.370, val accuracy 0.370, and val rmse 1.182\n",
            "Epoch 334: train loss 1.365, val loss 1.365, train accuracy 0.371, val accuracy 0.376, and val rmse 1.181\n",
            "Epoch 335: train loss 1.365, val loss 1.365, train accuracy 0.370, val accuracy 0.372, and val rmse 1.191\n",
            "Epoch 336: train loss 1.365, val loss 1.364, train accuracy 0.371, val accuracy 0.379, and val rmse 1.180\n",
            "Epoch 337: train loss 1.365, val loss 1.364, train accuracy 0.377, val accuracy 0.373, and val rmse 1.189\n",
            "Epoch 338: train loss 1.364, val loss 1.364, train accuracy 0.370, val accuracy 0.375, and val rmse 1.192\n",
            "Epoch 339: train loss 1.364, val loss 1.363, train accuracy 0.374, val accuracy 0.375, and val rmse 1.191\n",
            "Epoch 340: train loss 1.364, val loss 1.364, train accuracy 0.373, val accuracy 0.374, and val rmse 1.199\n",
            "Epoch 341: train loss 1.364, val loss 1.364, train accuracy 0.375, val accuracy 0.376, and val rmse 1.196\n",
            "Epoch 342: train loss 1.364, val loss 1.363, train accuracy 0.375, val accuracy 0.379, and val rmse 1.196\n",
            "Epoch 343: train loss 1.363, val loss 1.362, train accuracy 0.377, val accuracy 0.380, and val rmse 1.200\n",
            "Epoch 344: train loss 1.363, val loss 1.363, train accuracy 0.379, val accuracy 0.382, and val rmse 1.203\n",
            "Epoch 345: train loss 1.363, val loss 1.363, train accuracy 0.378, val accuracy 0.381, and val rmse 1.202\n",
            "Epoch 346: train loss 1.362, val loss 1.362, train accuracy 0.376, val accuracy 0.376, and val rmse 1.210\n",
            "Epoch 347: train loss 1.362, val loss 1.362, train accuracy 0.378, val accuracy 0.382, and val rmse 1.200\n",
            "Epoch 348: train loss 1.362, val loss 1.362, train accuracy 0.382, val accuracy 0.383, and val rmse 1.206\n",
            "Epoch 349: train loss 1.362, val loss 1.361, train accuracy 0.381, val accuracy 0.380, and val rmse 1.215\n",
            "Epoch 350: train loss 1.361, val loss 1.361, train accuracy 0.382, val accuracy 0.380, and val rmse 1.224\n",
            "Epoch 351: train loss 1.361, val loss 1.361, train accuracy 0.381, val accuracy 0.386, and val rmse 1.219\n",
            "Epoch 352: train loss 1.361, val loss 1.361, train accuracy 0.383, val accuracy 0.383, and val rmse 1.221\n",
            "Epoch 353: train loss 1.360, val loss 1.360, train accuracy 0.385, val accuracy 0.387, and val rmse 1.217\n",
            "Epoch 354: train loss 1.360, val loss 1.360, train accuracy 0.383, val accuracy 0.387, and val rmse 1.233\n",
            "Epoch 355: train loss 1.360, val loss 1.360, train accuracy 0.385, val accuracy 0.389, and val rmse 1.237\n",
            "Epoch 356: train loss 1.359, val loss 1.359, train accuracy 0.383, val accuracy 0.388, and val rmse 1.236\n",
            "Epoch 357: train loss 1.359, val loss 1.359, train accuracy 0.388, val accuracy 0.391, and val rmse 1.241\n",
            "Epoch 358: train loss 1.359, val loss 1.358, train accuracy 0.385, val accuracy 0.395, and val rmse 1.236\n",
            "Epoch 359: train loss 1.358, val loss 1.358, train accuracy 0.386, val accuracy 0.395, and val rmse 1.239\n",
            "Epoch 360: train loss 1.358, val loss 1.358, train accuracy 0.387, val accuracy 0.388, and val rmse 1.249\n",
            "Epoch 361: train loss 1.358, val loss 1.357, train accuracy 0.388, val accuracy 0.394, and val rmse 1.245\n",
            "Epoch 362: train loss 1.357, val loss 1.357, train accuracy 0.388, val accuracy 0.389, and val rmse 1.262\n",
            "Epoch 363: train loss 1.357, val loss 1.356, train accuracy 0.391, val accuracy 0.394, and val rmse 1.258\n",
            "Epoch 364: train loss 1.356, val loss 1.356, train accuracy 0.390, val accuracy 0.390, and val rmse 1.266\n",
            "Epoch 365: train loss 1.356, val loss 1.355, train accuracy 0.389, val accuracy 0.398, and val rmse 1.261\n",
            "Epoch 366: train loss 1.356, val loss 1.355, train accuracy 0.393, val accuracy 0.396, and val rmse 1.276\n",
            "Epoch 367: train loss 1.355, val loss 1.355, train accuracy 0.393, val accuracy 0.397, and val rmse 1.279\n",
            "Epoch 368: train loss 1.355, val loss 1.354, train accuracy 0.389, val accuracy 0.396, and val rmse 1.283\n",
            "Epoch 369: train loss 1.354, val loss 1.353, train accuracy 0.390, val accuracy 0.395, and val rmse 1.293\n",
            "Epoch 370: train loss 1.354, val loss 1.353, train accuracy 0.395, val accuracy 0.399, and val rmse 1.288\n",
            "Epoch 371: train loss 1.353, val loss 1.352, train accuracy 0.394, val accuracy 0.398, and val rmse 1.299\n",
            "Epoch 372: train loss 1.352, val loss 1.352, train accuracy 0.395, val accuracy 0.392, and val rmse 1.282\n",
            "Epoch 373: train loss 1.352, val loss 1.351, train accuracy 0.395, val accuracy 0.400, and val rmse 1.297\n",
            "Epoch 374: train loss 1.351, val loss 1.351, train accuracy 0.396, val accuracy 0.405, and val rmse 1.302\n",
            "Epoch 375: train loss 1.351, val loss 1.351, train accuracy 0.395, val accuracy 0.401, and val rmse 1.309\n",
            "Epoch 376: train loss 1.350, val loss 1.350, train accuracy 0.395, val accuracy 0.398, and val rmse 1.301\n",
            "Epoch 377: train loss 1.350, val loss 1.350, train accuracy 0.399, val accuracy 0.398, and val rmse 1.317\n",
            "Epoch 378: train loss 1.349, val loss 1.348, train accuracy 0.399, val accuracy 0.406, and val rmse 1.314\n",
            "Epoch 379: train loss 1.348, val loss 1.348, train accuracy 0.403, val accuracy 0.406, and val rmse 1.316\n",
            "Epoch 380: train loss 1.348, val loss 1.347, train accuracy 0.399, val accuracy 0.407, and val rmse 1.317\n",
            "Epoch 381: train loss 1.347, val loss 1.346, train accuracy 0.402, val accuracy 0.411, and val rmse 1.323\n",
            "Epoch 382: train loss 1.346, val loss 1.346, train accuracy 0.401, val accuracy 0.404, and val rmse 1.318\n",
            "Epoch 383: train loss 1.345, val loss 1.345, train accuracy 0.399, val accuracy 0.407, and val rmse 1.325\n",
            "Epoch 384: train loss 1.344, val loss 1.344, train accuracy 0.399, val accuracy 0.407, and val rmse 1.325\n",
            "Epoch 385: train loss 1.344, val loss 1.343, train accuracy 0.401, val accuracy 0.407, and val rmse 1.336\n",
            "Epoch 386: train loss 1.343, val loss 1.343, train accuracy 0.403, val accuracy 0.406, and val rmse 1.338\n",
            "Epoch 387: train loss 1.342, val loss 1.341, train accuracy 0.402, val accuracy 0.413, and val rmse 1.346\n",
            "Epoch 388: train loss 1.341, val loss 1.341, train accuracy 0.409, val accuracy 0.410, and val rmse 1.339\n",
            "Epoch 389: train loss 1.340, val loss 1.339, train accuracy 0.410, val accuracy 0.411, and val rmse 1.349\n",
            "Epoch 390: train loss 1.339, val loss 1.338, train accuracy 0.408, val accuracy 0.411, and val rmse 1.344\n",
            "Epoch 391: train loss 1.338, val loss 1.338, train accuracy 0.409, val accuracy 0.413, and val rmse 1.350\n",
            "Epoch 392: train loss 1.336, val loss 1.336, train accuracy 0.414, val accuracy 0.421, and val rmse 1.340\n",
            "Epoch 393: train loss 1.336, val loss 1.335, train accuracy 0.413, val accuracy 0.415, and val rmse 1.359\n",
            "Epoch 394: train loss 1.334, val loss 1.334, train accuracy 0.412, val accuracy 0.417, and val rmse 1.358\n",
            "Epoch 395: train loss 1.333, val loss 1.333, train accuracy 0.414, val accuracy 0.414, and val rmse 1.360\n",
            "Epoch 396: train loss 1.332, val loss 1.331, train accuracy 0.416, val accuracy 0.422, and val rmse 1.344\n",
            "Epoch 397: train loss 1.330, val loss 1.330, train accuracy 0.421, val accuracy 0.422, and val rmse 1.344\n",
            "Epoch 398: train loss 1.329, val loss 1.327, train accuracy 0.422, val accuracy 0.419, and val rmse 1.365\n",
            "Epoch 399: train loss 1.328, val loss 1.328, train accuracy 0.417, val accuracy 0.420, and val rmse 1.360\n",
            "Epoch 400: train loss 1.326, val loss 1.325, train accuracy 0.424, val accuracy 0.425, and val rmse 1.359\n",
            "Epoch 401: train loss 1.324, val loss 1.324, train accuracy 0.421, val accuracy 0.429, and val rmse 1.357\n",
            "Epoch 402: train loss 1.322, val loss 1.322, train accuracy 0.425, val accuracy 0.429, and val rmse 1.361\n",
            "Epoch 403: train loss 1.320, val loss 1.319, train accuracy 0.430, val accuracy 0.428, and val rmse 1.374\n",
            "Epoch 404: train loss 1.318, val loss 1.317, train accuracy 0.426, val accuracy 0.425, and val rmse 1.379\n",
            "Epoch 405: train loss 1.317, val loss 1.316, train accuracy 0.428, val accuracy 0.427, and val rmse 1.373\n",
            "Epoch 406: train loss 1.315, val loss 1.314, train accuracy 0.426, val accuracy 0.424, and val rmse 1.383\n",
            "Epoch 407: train loss 1.312, val loss 1.312, train accuracy 0.433, val accuracy 0.434, and val rmse 1.361\n",
            "Epoch 408: train loss 1.311, val loss 1.309, train accuracy 0.429, val accuracy 0.433, and val rmse 1.364\n",
            "Epoch 409: train loss 1.309, val loss 1.309, train accuracy 0.430, val accuracy 0.440, and val rmse 1.346\n",
            "Epoch 410: train loss 1.306, val loss 1.304, train accuracy 0.434, val accuracy 0.439, and val rmse 1.365\n",
            "Epoch 411: train loss 1.303, val loss 1.302, train accuracy 0.436, val accuracy 0.442, and val rmse 1.350\n",
            "Epoch 412: train loss 1.301, val loss 1.300, train accuracy 0.435, val accuracy 0.437, and val rmse 1.372\n",
            "Epoch 413: train loss 1.298, val loss 1.298, train accuracy 0.439, val accuracy 0.430, and val rmse 1.368\n",
            "Epoch 414: train loss 1.296, val loss 1.295, train accuracy 0.436, val accuracy 0.436, and val rmse 1.376\n",
            "Epoch 415: train loss 1.293, val loss 1.293, train accuracy 0.444, val accuracy 0.428, and val rmse 1.382\n",
            "Epoch 416: train loss 1.291, val loss 1.290, train accuracy 0.440, val accuracy 0.438, and val rmse 1.373\n",
            "Epoch 417: train loss 1.287, val loss 1.287, train accuracy 0.441, val accuracy 0.443, and val rmse 1.372\n",
            "Epoch 418: train loss 1.284, val loss 1.284, train accuracy 0.442, val accuracy 0.445, and val rmse 1.349\n",
            "Epoch 419: train loss 1.281, val loss 1.280, train accuracy 0.442, val accuracy 0.450, and val rmse 1.372\n",
            "Epoch 420: train loss 1.277, val loss 1.278, train accuracy 0.450, val accuracy 0.439, and val rmse 1.375\n",
            "Epoch 421: train loss 1.275, val loss 1.273, train accuracy 0.447, val accuracy 0.440, and val rmse 1.390\n",
            "Epoch 422: train loss 1.273, val loss 1.272, train accuracy 0.444, val accuracy 0.443, and val rmse 1.371\n",
            "Epoch 423: train loss 1.269, val loss 1.271, train accuracy 0.448, val accuracy 0.450, and val rmse 1.371\n",
            "Epoch 424: train loss 1.268, val loss 1.268, train accuracy 0.448, val accuracy 0.446, and val rmse 1.377\n",
            "Epoch 425: train loss 1.263, val loss 1.264, train accuracy 0.449, val accuracy 0.441, and val rmse 1.368\n",
            "Epoch 426: train loss 1.261, val loss 1.258, train accuracy 0.447, val accuracy 0.462, and val rmse 1.353\n",
            "Epoch 427: train loss 1.258, val loss 1.259, train accuracy 0.456, val accuracy 0.449, and val rmse 1.370\n",
            "Epoch 428: train loss 1.254, val loss 1.255, train accuracy 0.452, val accuracy 0.449, and val rmse 1.371\n",
            "Epoch 429: train loss 1.252, val loss 1.254, train accuracy 0.456, val accuracy 0.447, and val rmse 1.383\n",
            "Epoch 430: train loss 1.249, val loss 1.253, train accuracy 0.456, val accuracy 0.456, and val rmse 1.351\n",
            "Epoch 431: train loss 1.247, val loss 1.250, train accuracy 0.455, val accuracy 0.449, and val rmse 1.376\n",
            "Epoch 432: train loss 1.243, val loss 1.252, train accuracy 0.457, val accuracy 0.455, and val rmse 1.367\n",
            "Epoch 433: train loss 1.243, val loss 1.242, train accuracy 0.456, val accuracy 0.458, and val rmse 1.352\n",
            "Epoch 434: train loss 1.239, val loss 1.245, train accuracy 0.458, val accuracy 0.469, and val rmse 1.330\n",
            "Epoch 435: train loss 1.235, val loss 1.240, train accuracy 0.464, val accuracy 0.452, and val rmse 1.374\n",
            "Epoch 436: train loss 1.234, val loss 1.236, train accuracy 0.464, val accuracy 0.457, and val rmse 1.356\n",
            "Epoch 437: train loss 1.232, val loss 1.239, train accuracy 0.463, val accuracy 0.456, and val rmse 1.370\n",
            "Epoch 438: train loss 1.231, val loss 1.232, train accuracy 0.464, val accuracy 0.462, and val rmse 1.354\n",
            "Epoch 439: train loss 1.227, val loss 1.232, train accuracy 0.465, val accuracy 0.457, and val rmse 1.370\n",
            "Epoch 440: train loss 1.225, val loss 1.231, train accuracy 0.467, val accuracy 0.457, and val rmse 1.351\n",
            "Epoch 441: train loss 1.223, val loss 1.230, train accuracy 0.469, val accuracy 0.471, and val rmse 1.352\n",
            "Epoch 442: train loss 1.223, val loss 1.230, train accuracy 0.466, val accuracy 0.465, and val rmse 1.365\n",
            "Epoch 443: train loss 1.220, val loss 1.224, train accuracy 0.475, val accuracy 0.465, and val rmse 1.350\n",
            "Epoch 444: train loss 1.216, val loss 1.220, train accuracy 0.475, val accuracy 0.473, and val rmse 1.344\n",
            "Epoch 445: train loss 1.215, val loss 1.226, train accuracy 0.476, val accuracy 0.466, and val rmse 1.353\n",
            "Epoch 446: train loss 1.213, val loss 1.219, train accuracy 0.476, val accuracy 0.469, and val rmse 1.355\n",
            "Epoch 447: train loss 1.212, val loss 1.221, train accuracy 0.478, val accuracy 0.469, and val rmse 1.346\n",
            "Epoch 448: train loss 1.210, val loss 1.215, train accuracy 0.473, val accuracy 0.477, and val rmse 1.344\n",
            "Epoch 449: train loss 1.207, val loss 1.214, train accuracy 0.480, val accuracy 0.476, and val rmse 1.336\n",
            "Epoch 450: train loss 1.207, val loss 1.209, train accuracy 0.477, val accuracy 0.483, and val rmse 1.324\n",
            "Epoch 451: train loss 1.206, val loss 1.209, train accuracy 0.484, val accuracy 0.476, and val rmse 1.332\n",
            "Epoch 452: train loss 1.200, val loss 1.208, train accuracy 0.482, val accuracy 0.475, and val rmse 1.345\n",
            "Epoch 453: train loss 1.199, val loss 1.209, train accuracy 0.488, val accuracy 0.475, and val rmse 1.349\n",
            "Epoch 454: train loss 1.196, val loss 1.203, train accuracy 0.486, val accuracy 0.483, and val rmse 1.343\n",
            "Epoch 455: train loss 1.197, val loss 1.200, train accuracy 0.485, val accuracy 0.482, and val rmse 1.349\n",
            "Epoch 456: train loss 1.192, val loss 1.201, train accuracy 0.492, val accuracy 0.488, and val rmse 1.335\n",
            "Epoch 457: train loss 1.191, val loss 1.198, train accuracy 0.493, val accuracy 0.479, and val rmse 1.349\n",
            "Epoch 458: train loss 1.188, val loss 1.196, train accuracy 0.488, val accuracy 0.488, and val rmse 1.335\n",
            "Epoch 459: train loss 1.185, val loss 1.196, train accuracy 0.493, val accuracy 0.488, and val rmse 1.322\n",
            "Epoch 460: train loss 1.182, val loss 1.193, train accuracy 0.497, val accuracy 0.490, and val rmse 1.315\n",
            "Epoch 461: train loss 1.181, val loss 1.190, train accuracy 0.493, val accuracy 0.500, and val rmse 1.325\n",
            "Epoch 462: train loss 1.178, val loss 1.185, train accuracy 0.500, val accuracy 0.498, and val rmse 1.311\n",
            "Epoch 463: train loss 1.177, val loss 1.189, train accuracy 0.496, val accuracy 0.486, and val rmse 1.334\n",
            "Epoch 464: train loss 1.175, val loss 1.189, train accuracy 0.504, val accuracy 0.495, and val rmse 1.312\n",
            "Epoch 465: train loss 1.172, val loss 1.180, train accuracy 0.498, val accuracy 0.496, and val rmse 1.326\n",
            "Epoch 466: train loss 1.170, val loss 1.176, train accuracy 0.501, val accuracy 0.493, and val rmse 1.343\n",
            "Epoch 467: train loss 1.170, val loss 1.176, train accuracy 0.506, val accuracy 0.505, and val rmse 1.322\n",
            "Epoch 468: train loss 1.162, val loss 1.174, train accuracy 0.505, val accuracy 0.505, and val rmse 1.313\n",
            "Epoch 469: train loss 1.162, val loss 1.171, train accuracy 0.507, val accuracy 0.506, and val rmse 1.327\n",
            "Epoch 470: train loss 1.161, val loss 1.172, train accuracy 0.508, val accuracy 0.502, and val rmse 1.307\n",
            "Epoch 471: train loss 1.157, val loss 1.165, train accuracy 0.509, val accuracy 0.508, and val rmse 1.334\n",
            "Epoch 472: train loss 1.156, val loss 1.166, train accuracy 0.508, val accuracy 0.506, and val rmse 1.323\n",
            "Epoch 473: train loss 1.152, val loss 1.161, train accuracy 0.516, val accuracy 0.511, and val rmse 1.312\n",
            "Epoch 474: train loss 1.147, val loss 1.164, train accuracy 0.520, val accuracy 0.506, and val rmse 1.318\n",
            "Epoch 475: train loss 1.147, val loss 1.163, train accuracy 0.515, val accuracy 0.507, and val rmse 1.304\n",
            "Epoch 476: train loss 1.146, val loss 1.155, train accuracy 0.516, val accuracy 0.509, and val rmse 1.321\n",
            "Epoch 477: train loss 1.141, val loss 1.151, train accuracy 0.520, val accuracy 0.519, and val rmse 1.314\n",
            "Epoch 478: train loss 1.141, val loss 1.148, train accuracy 0.520, val accuracy 0.526, and val rmse 1.299\n",
            "Epoch 479: train loss 1.133, val loss 1.142, train accuracy 0.523, val accuracy 0.516, and val rmse 1.307\n",
            "Epoch 480: train loss 1.132, val loss 1.140, train accuracy 0.528, val accuracy 0.529, and val rmse 1.293\n",
            "Epoch 481: train loss 1.126, val loss 1.137, train accuracy 0.532, val accuracy 0.517, and val rmse 1.305\n",
            "Epoch 482: train loss 1.125, val loss 1.132, train accuracy 0.529, val accuracy 0.524, and val rmse 1.312\n",
            "Epoch 483: train loss 1.119, val loss 1.128, train accuracy 0.530, val accuracy 0.532, and val rmse 1.278\n",
            "Epoch 484: train loss 1.118, val loss 1.125, train accuracy 0.533, val accuracy 0.524, and val rmse 1.300\n",
            "Epoch 485: train loss 1.110, val loss 1.122, train accuracy 0.538, val accuracy 0.532, and val rmse 1.285\n",
            "Epoch 486: train loss 1.110, val loss 1.119, train accuracy 0.540, val accuracy 0.527, and val rmse 1.303\n",
            "Epoch 487: train loss 1.107, val loss 1.120, train accuracy 0.540, val accuracy 0.530, and val rmse 1.259\n",
            "Epoch 488: train loss 1.103, val loss 1.112, train accuracy 0.541, val accuracy 0.538, and val rmse 1.285\n",
            "Epoch 489: train loss 1.100, val loss 1.109, train accuracy 0.538, val accuracy 0.542, and val rmse 1.280\n",
            "Epoch 490: train loss 1.095, val loss 1.105, train accuracy 0.546, val accuracy 0.536, and val rmse 1.292\n",
            "Epoch 491: train loss 1.093, val loss 1.108, train accuracy 0.540, val accuracy 0.537, and val rmse 1.276\n",
            "Epoch 492: train loss 1.086, val loss 1.098, train accuracy 0.548, val accuracy 0.547, and val rmse 1.258\n",
            "Epoch 493: train loss 1.085, val loss 1.098, train accuracy 0.552, val accuracy 0.544, and val rmse 1.273\n",
            "Epoch 494: train loss 1.082, val loss 1.089, train accuracy 0.553, val accuracy 0.553, and val rmse 1.247\n",
            "Epoch 495: train loss 1.078, val loss 1.088, train accuracy 0.551, val accuracy 0.552, and val rmse 1.248\n",
            "Epoch 496: train loss 1.074, val loss 1.082, train accuracy 0.552, val accuracy 0.554, and val rmse 1.256\n",
            "Epoch 497: train loss 1.072, val loss 1.080, train accuracy 0.553, val accuracy 0.543, and val rmse 1.281\n",
            "Epoch 498: train loss 1.070, val loss 1.080, train accuracy 0.556, val accuracy 0.558, and val rmse 1.269\n",
            "Epoch 499: train loss 1.062, val loss 1.084, train accuracy 0.561, val accuracy 0.553, and val rmse 1.284\n",
            "Epoch 500: train loss 1.060, val loss 1.072, train accuracy 0.562, val accuracy 0.552, and val rmse 1.252\n",
            "Epoch 501: train loss 1.057, val loss 1.064, train accuracy 0.562, val accuracy 0.558, and val rmse 1.250\n",
            "Epoch 502: train loss 1.055, val loss 1.066, train accuracy 0.565, val accuracy 0.559, and val rmse 1.243\n",
            "Epoch 503: train loss 1.048, val loss 1.062, train accuracy 0.568, val accuracy 0.560, and val rmse 1.243\n",
            "Epoch 504: train loss 1.045, val loss 1.064, train accuracy 0.565, val accuracy 0.564, and val rmse 1.265\n",
            "Epoch 505: train loss 1.043, val loss 1.057, train accuracy 0.568, val accuracy 0.563, and val rmse 1.250\n",
            "Epoch 506: train loss 1.041, val loss 1.056, train accuracy 0.569, val accuracy 0.563, and val rmse 1.263\n",
            "Epoch 507: train loss 1.036, val loss 1.053, train accuracy 0.575, val accuracy 0.567, and val rmse 1.243\n",
            "Epoch 508: train loss 1.033, val loss 1.050, train accuracy 0.571, val accuracy 0.562, and val rmse 1.258\n",
            "Epoch 509: train loss 1.031, val loss 1.057, train accuracy 0.571, val accuracy 0.567, and val rmse 1.243\n",
            "Epoch 510: train loss 1.028, val loss 1.057, train accuracy 0.577, val accuracy 0.563, and val rmse 1.229\n",
            "Epoch 511: train loss 1.028, val loss 1.041, train accuracy 0.574, val accuracy 0.576, and val rmse 1.235\n",
            "Epoch 512: train loss 1.025, val loss 1.036, train accuracy 0.580, val accuracy 0.574, and val rmse 1.254\n",
            "Epoch 513: train loss 1.023, val loss 1.038, train accuracy 0.578, val accuracy 0.578, and val rmse 1.215\n",
            "Epoch 514: train loss 1.017, val loss 1.033, train accuracy 0.581, val accuracy 0.575, and val rmse 1.225\n",
            "Epoch 515: train loss 1.018, val loss 1.034, train accuracy 0.583, val accuracy 0.580, and val rmse 1.233\n",
            "Epoch 516: train loss 1.016, val loss 1.029, train accuracy 0.585, val accuracy 0.577, and val rmse 1.230\n",
            "Epoch 517: train loss 1.015, val loss 1.024, train accuracy 0.584, val accuracy 0.575, and val rmse 1.250\n",
            "Epoch 518: train loss 1.010, val loss 1.017, train accuracy 0.588, val accuracy 0.587, and val rmse 1.214\n",
            "Epoch 519: train loss 1.010, val loss 1.025, train accuracy 0.583, val accuracy 0.582, and val rmse 1.225\n",
            "Epoch 520: train loss 1.004, val loss 1.031, train accuracy 0.589, val accuracy 0.579, and val rmse 1.257\n",
            "Epoch 521: train loss 1.003, val loss 1.034, train accuracy 0.591, val accuracy 0.580, and val rmse 1.223\n",
            "Epoch 522: train loss 1.001, val loss 1.022, train accuracy 0.591, val accuracy 0.581, and val rmse 1.224\n",
            "Epoch 523: train loss 0.999, val loss 1.011, train accuracy 0.595, val accuracy 0.597, and val rmse 1.206\n",
            "Epoch 524: train loss 0.996, val loss 1.014, train accuracy 0.594, val accuracy 0.585, and val rmse 1.211\n",
            "Epoch 525: train loss 0.993, val loss 1.018, train accuracy 0.598, val accuracy 0.589, and val rmse 1.241\n",
            "Epoch 526: train loss 0.993, val loss 1.023, train accuracy 0.597, val accuracy 0.577, and val rmse 1.210\n",
            "Epoch 527: train loss 0.991, val loss 1.013, train accuracy 0.598, val accuracy 0.588, and val rmse 1.216\n",
            "Epoch 528: train loss 0.988, val loss 1.006, train accuracy 0.599, val accuracy 0.592, and val rmse 1.208\n",
            "Epoch 529: train loss 0.985, val loss 1.012, train accuracy 0.601, val accuracy 0.587, and val rmse 1.242\n",
            "Epoch 530: train loss 0.986, val loss 1.006, train accuracy 0.600, val accuracy 0.593, and val rmse 1.206\n",
            "Epoch 531: train loss 0.984, val loss 1.002, train accuracy 0.599, val accuracy 0.592, and val rmse 1.209\n",
            "Epoch 532: train loss 0.983, val loss 0.995, train accuracy 0.596, val accuracy 0.597, and val rmse 1.218\n",
            "Epoch 533: train loss 0.979, val loss 1.012, train accuracy 0.603, val accuracy 0.588, and val rmse 1.242\n",
            "Epoch 534: train loss 0.978, val loss 0.996, train accuracy 0.606, val accuracy 0.597, and val rmse 1.223\n",
            "Epoch 535: train loss 0.974, val loss 0.999, train accuracy 0.607, val accuracy 0.597, and val rmse 1.214\n",
            "Epoch 536: train loss 0.975, val loss 0.997, train accuracy 0.606, val accuracy 0.601, and val rmse 1.179\n",
            "Epoch 537: train loss 0.971, val loss 0.995, train accuracy 0.607, val accuracy 0.598, and val rmse 1.195\n",
            "Epoch 538: train loss 0.971, val loss 0.993, train accuracy 0.605, val accuracy 0.601, and val rmse 1.187\n",
            "Epoch 539: train loss 0.968, val loss 0.999, train accuracy 0.610, val accuracy 0.597, and val rmse 1.187\n",
            "Epoch 540: train loss 0.967, val loss 1.000, train accuracy 0.609, val accuracy 0.592, and val rmse 1.204\n",
            "Epoch 541: train loss 0.965, val loss 0.987, train accuracy 0.608, val accuracy 0.611, and val rmse 1.190\n",
            "Epoch 542: train loss 0.965, val loss 0.985, train accuracy 0.614, val accuracy 0.604, and val rmse 1.187\n",
            "Epoch 543: train loss 0.965, val loss 0.990, train accuracy 0.612, val accuracy 0.600, and val rmse 1.179\n",
            "Epoch 544: train loss 0.962, val loss 0.989, train accuracy 0.614, val accuracy 0.602, and val rmse 1.207\n",
            "Epoch 545: train loss 0.961, val loss 0.992, train accuracy 0.614, val accuracy 0.598, and val rmse 1.190\n",
            "Epoch 546: train loss 0.955, val loss 0.983, train accuracy 0.620, val accuracy 0.605, and val rmse 1.195\n",
            "Epoch 547: train loss 0.959, val loss 0.977, train accuracy 0.616, val accuracy 0.611, and val rmse 1.158\n",
            "Epoch 548: train loss 0.953, val loss 0.981, train accuracy 0.618, val accuracy 0.609, and val rmse 1.198\n",
            "Epoch 549: train loss 0.957, val loss 0.972, train accuracy 0.621, val accuracy 0.614, and val rmse 1.180\n",
            "Epoch 550: train loss 0.956, val loss 0.982, train accuracy 0.614, val accuracy 0.607, and val rmse 1.163\n",
            "Epoch 551: train loss 0.949, val loss 0.980, train accuracy 0.623, val accuracy 0.602, and val rmse 1.213\n",
            "Epoch 552: train loss 0.945, val loss 0.973, train accuracy 0.619, val accuracy 0.608, and val rmse 1.197\n",
            "Epoch 553: train loss 0.945, val loss 0.974, train accuracy 0.622, val accuracy 0.608, and val rmse 1.179\n",
            "Epoch 554: train loss 0.939, val loss 0.975, train accuracy 0.623, val accuracy 0.611, and val rmse 1.198\n",
            "Epoch 555: train loss 0.942, val loss 0.966, train accuracy 0.623, val accuracy 0.613, and val rmse 1.188\n",
            "Epoch 556: train loss 0.942, val loss 0.975, train accuracy 0.625, val accuracy 0.605, and val rmse 1.186\n",
            "Epoch 557: train loss 0.938, val loss 0.970, train accuracy 0.627, val accuracy 0.611, and val rmse 1.171\n",
            "Epoch 558: train loss 0.936, val loss 0.961, train accuracy 0.622, val accuracy 0.616, and val rmse 1.166\n",
            "Epoch 559: train loss 0.934, val loss 0.956, train accuracy 0.629, val accuracy 0.617, and val rmse 1.178\n",
            "Epoch 560: train loss 0.936, val loss 0.959, train accuracy 0.628, val accuracy 0.616, and val rmse 1.170\n",
            "Epoch 561: train loss 0.933, val loss 0.954, train accuracy 0.626, val accuracy 0.623, and val rmse 1.157\n",
            "Epoch 562: train loss 0.929, val loss 0.958, train accuracy 0.630, val accuracy 0.617, and val rmse 1.156\n",
            "Epoch 563: train loss 0.928, val loss 0.955, train accuracy 0.632, val accuracy 0.617, and val rmse 1.175\n",
            "Epoch 564: train loss 0.927, val loss 0.956, train accuracy 0.634, val accuracy 0.627, and val rmse 1.143\n",
            "Epoch 565: train loss 0.925, val loss 0.956, train accuracy 0.630, val accuracy 0.617, and val rmse 1.149\n",
            "Epoch 566: train loss 0.923, val loss 0.948, train accuracy 0.636, val accuracy 0.625, and val rmse 1.152\n",
            "Epoch 567: train loss 0.923, val loss 0.960, train accuracy 0.632, val accuracy 0.619, and val rmse 1.160\n",
            "Epoch 568: train loss 0.923, val loss 0.952, train accuracy 0.631, val accuracy 0.626, and val rmse 1.177\n",
            "Epoch 569: train loss 0.919, val loss 0.949, train accuracy 0.638, val accuracy 0.624, and val rmse 1.157\n",
            "Epoch 570: train loss 0.916, val loss 0.951, train accuracy 0.641, val accuracy 0.623, and val rmse 1.141\n",
            "Epoch 571: train loss 0.918, val loss 0.955, train accuracy 0.637, val accuracy 0.623, and val rmse 1.149\n",
            "Epoch 572: train loss 0.916, val loss 0.945, train accuracy 0.638, val accuracy 0.624, and val rmse 1.153\n",
            "Epoch 573: train loss 0.913, val loss 0.950, train accuracy 0.640, val accuracy 0.624, and val rmse 1.148\n",
            "Epoch 574: train loss 0.906, val loss 0.948, train accuracy 0.640, val accuracy 0.616, and val rmse 1.166\n",
            "Epoch 575: train loss 0.907, val loss 0.944, train accuracy 0.642, val accuracy 0.634, and val rmse 1.145\n",
            "Epoch 576: train loss 0.909, val loss 0.937, train accuracy 0.642, val accuracy 0.629, and val rmse 1.139\n",
            "Epoch 577: train loss 0.907, val loss 0.937, train accuracy 0.643, val accuracy 0.627, and val rmse 1.143\n",
            "Epoch 578: train loss 0.906, val loss 0.939, train accuracy 0.640, val accuracy 0.625, and val rmse 1.152\n",
            "Epoch 579: train loss 0.901, val loss 0.947, train accuracy 0.644, val accuracy 0.625, and val rmse 1.126\n",
            "Epoch 580: train loss 0.902, val loss 0.938, train accuracy 0.645, val accuracy 0.629, and val rmse 1.131\n",
            "Epoch 581: train loss 0.900, val loss 0.924, train accuracy 0.644, val accuracy 0.633, and val rmse 1.141\n",
            "Epoch 582: train loss 0.897, val loss 0.925, train accuracy 0.645, val accuracy 0.639, and val rmse 1.142\n",
            "Epoch 583: train loss 0.896, val loss 0.931, train accuracy 0.648, val accuracy 0.636, and val rmse 1.110\n",
            "Epoch 584: train loss 0.894, val loss 0.940, train accuracy 0.647, val accuracy 0.622, and val rmse 1.133\n",
            "Epoch 585: train loss 0.893, val loss 0.930, train accuracy 0.648, val accuracy 0.635, and val rmse 1.156\n",
            "Epoch 586: train loss 0.894, val loss 0.921, train accuracy 0.648, val accuracy 0.633, and val rmse 1.138\n",
            "Epoch 587: train loss 0.894, val loss 0.942, train accuracy 0.648, val accuracy 0.626, and val rmse 1.165\n",
            "Epoch 588: train loss 0.891, val loss 0.917, train accuracy 0.648, val accuracy 0.637, and val rmse 1.133\n",
            "Epoch 589: train loss 0.889, val loss 0.922, train accuracy 0.647, val accuracy 0.640, and val rmse 1.120\n",
            "Epoch 590: train loss 0.885, val loss 0.914, train accuracy 0.654, val accuracy 0.637, and val rmse 1.141\n",
            "Epoch 591: train loss 0.887, val loss 0.919, train accuracy 0.650, val accuracy 0.641, and val rmse 1.112\n",
            "Epoch 592: train loss 0.889, val loss 0.911, train accuracy 0.649, val accuracy 0.641, and val rmse 1.130\n",
            "Epoch 593: train loss 0.885, val loss 0.918, train accuracy 0.652, val accuracy 0.640, and val rmse 1.134\n",
            "Epoch 594: train loss 0.883, val loss 0.909, train accuracy 0.654, val accuracy 0.644, and val rmse 1.139\n",
            "Epoch 595: train loss 0.877, val loss 0.917, train accuracy 0.656, val accuracy 0.637, and val rmse 1.141\n",
            "Epoch 596: train loss 0.882, val loss 0.915, train accuracy 0.652, val accuracy 0.642, and val rmse 1.128\n",
            "Epoch 597: train loss 0.876, val loss 0.910, train accuracy 0.658, val accuracy 0.644, and val rmse 1.119\n",
            "Epoch 598: train loss 0.875, val loss 0.913, train accuracy 0.654, val accuracy 0.641, and val rmse 1.135\n",
            "Epoch 599: train loss 0.872, val loss 0.907, train accuracy 0.657, val accuracy 0.647, and val rmse 1.124\n",
            "Epoch 600: train loss 0.871, val loss 0.910, train accuracy 0.659, val accuracy 0.644, and val rmse 1.113\n",
            "Epoch 601: train loss 0.869, val loss 0.907, train accuracy 0.660, val accuracy 0.647, and val rmse 1.125\n",
            "Epoch 602: train loss 0.874, val loss 0.898, train accuracy 0.657, val accuracy 0.647, and val rmse 1.113\n",
            "Epoch 603: train loss 0.869, val loss 0.899, train accuracy 0.660, val accuracy 0.648, and val rmse 1.119\n",
            "Epoch 604: train loss 0.866, val loss 0.910, train accuracy 0.663, val accuracy 0.642, and val rmse 1.133\n",
            "Epoch 605: train loss 0.868, val loss 0.910, train accuracy 0.662, val accuracy 0.638, and val rmse 1.127\n",
            "Epoch 606: train loss 0.867, val loss 0.898, train accuracy 0.661, val accuracy 0.650, and val rmse 1.108\n",
            "Epoch 607: train loss 0.866, val loss 0.895, train accuracy 0.657, val accuracy 0.652, and val rmse 1.117\n",
            "Epoch 608: train loss 0.867, val loss 0.893, train accuracy 0.661, val accuracy 0.647, and val rmse 1.125\n",
            "Epoch 609: train loss 0.862, val loss 0.887, train accuracy 0.665, val accuracy 0.656, and val rmse 1.114\n",
            "Epoch 610: train loss 0.863, val loss 0.898, train accuracy 0.661, val accuracy 0.644, and val rmse 1.128\n",
            "Epoch 611: train loss 0.860, val loss 0.890, train accuracy 0.664, val accuracy 0.653, and val rmse 1.127\n",
            "Epoch 612: train loss 0.856, val loss 0.878, train accuracy 0.668, val accuracy 0.660, and val rmse 1.106\n",
            "Epoch 613: train loss 0.862, val loss 0.887, train accuracy 0.662, val accuracy 0.651, and val rmse 1.115\n",
            "Epoch 614: train loss 0.858, val loss 0.896, train accuracy 0.664, val accuracy 0.646, and val rmse 1.111\n",
            "Epoch 615: train loss 0.855, val loss 0.899, train accuracy 0.667, val accuracy 0.654, and val rmse 1.126\n",
            "Epoch 616: train loss 0.852, val loss 0.892, train accuracy 0.668, val accuracy 0.650, and val rmse 1.116\n",
            "Epoch 617: train loss 0.852, val loss 0.883, train accuracy 0.666, val accuracy 0.655, and val rmse 1.116\n",
            "Epoch 618: train loss 0.854, val loss 0.887, train accuracy 0.667, val accuracy 0.652, and val rmse 1.105\n",
            "Epoch 619: train loss 0.852, val loss 0.887, train accuracy 0.669, val accuracy 0.656, and val rmse 1.099\n",
            "Epoch 620: train loss 0.850, val loss 0.886, train accuracy 0.669, val accuracy 0.651, and val rmse 1.107\n",
            "Epoch 621: train loss 0.848, val loss 0.894, train accuracy 0.671, val accuracy 0.646, and val rmse 1.123\n",
            "Epoch 622: train loss 0.852, val loss 0.876, train accuracy 0.668, val accuracy 0.655, and val rmse 1.117\n",
            "Epoch 623: train loss 0.841, val loss 0.885, train accuracy 0.672, val accuracy 0.657, and val rmse 1.094\n",
            "Epoch 624: train loss 0.844, val loss 0.886, train accuracy 0.671, val accuracy 0.653, and val rmse 1.131\n",
            "Epoch 625: train loss 0.843, val loss 0.875, train accuracy 0.669, val accuracy 0.667, and val rmse 1.086\n",
            "Epoch 626: train loss 0.841, val loss 0.870, train accuracy 0.674, val accuracy 0.661, and val rmse 1.097\n",
            "Epoch 627: train loss 0.843, val loss 0.873, train accuracy 0.669, val accuracy 0.660, and val rmse 1.094\n",
            "Epoch 628: train loss 0.845, val loss 0.878, train accuracy 0.673, val accuracy 0.656, and val rmse 1.101\n",
            "Epoch 629: train loss 0.844, val loss 0.875, train accuracy 0.671, val accuracy 0.656, and val rmse 1.097\n",
            "Epoch 630: train loss 0.838, val loss 0.886, train accuracy 0.676, val accuracy 0.653, and val rmse 1.096\n",
            "Epoch 631: train loss 0.844, val loss 0.875, train accuracy 0.674, val accuracy 0.658, and val rmse 1.109\n",
            "Epoch 632: train loss 0.838, val loss 0.878, train accuracy 0.675, val accuracy 0.650, and val rmse 1.110\n",
            "Epoch 633: train loss 0.835, val loss 0.877, train accuracy 0.675, val accuracy 0.657, and val rmse 1.090\n",
            "Epoch 634: train loss 0.837, val loss 0.867, train accuracy 0.674, val accuracy 0.656, and val rmse 1.109\n",
            "Epoch 635: train loss 0.834, val loss 0.871, train accuracy 0.676, val accuracy 0.655, and val rmse 1.105\n",
            "Epoch 636: train loss 0.836, val loss 0.873, train accuracy 0.674, val accuracy 0.660, and val rmse 1.105\n",
            "Epoch 637: train loss 0.833, val loss 0.875, train accuracy 0.677, val accuracy 0.658, and val rmse 1.096\n",
            "Epoch 638: train loss 0.831, val loss 0.860, train accuracy 0.677, val accuracy 0.668, and val rmse 1.087\n",
            "Epoch 639: train loss 0.829, val loss 0.865, train accuracy 0.679, val accuracy 0.664, and val rmse 1.089\n",
            "Epoch 640: train loss 0.832, val loss 0.868, train accuracy 0.679, val accuracy 0.663, and val rmse 1.093\n",
            "Epoch 641: train loss 0.829, val loss 0.859, train accuracy 0.681, val accuracy 0.662, and val rmse 1.098\n",
            "Epoch 642: train loss 0.827, val loss 0.871, train accuracy 0.679, val accuracy 0.666, and val rmse 1.096\n",
            "Epoch 643: train loss 0.827, val loss 0.863, train accuracy 0.679, val accuracy 0.662, and val rmse 1.097\n",
            "Epoch 644: train loss 0.827, val loss 0.870, train accuracy 0.679, val accuracy 0.660, and val rmse 1.094\n",
            "Epoch 645: train loss 0.826, val loss 0.859, train accuracy 0.681, val accuracy 0.664, and val rmse 1.079\n",
            "Epoch 646: train loss 0.824, val loss 0.861, train accuracy 0.682, val accuracy 0.667, and val rmse 1.083\n",
            "Epoch 647: train loss 0.825, val loss 0.870, train accuracy 0.679, val accuracy 0.657, and val rmse 1.092\n",
            "Epoch 648: train loss 0.823, val loss 0.863, train accuracy 0.680, val accuracy 0.665, and val rmse 1.072\n",
            "Epoch 649: train loss 0.824, val loss 0.861, train accuracy 0.678, val accuracy 0.666, and val rmse 1.082\n",
            "Epoch 650: train loss 0.820, val loss 0.870, train accuracy 0.683, val accuracy 0.666, and val rmse 1.089\n",
            "Epoch 651: train loss 0.817, val loss 0.864, train accuracy 0.684, val accuracy 0.664, and val rmse 1.100\n",
            "Epoch 652: train loss 0.820, val loss 0.868, train accuracy 0.683, val accuracy 0.667, and val rmse 1.065\n",
            "Epoch 653: train loss 0.821, val loss 0.844, train accuracy 0.681, val accuracy 0.675, and val rmse 1.089\n",
            "Epoch 654: train loss 0.819, val loss 0.849, train accuracy 0.681, val accuracy 0.672, and val rmse 1.083\n",
            "Epoch 655: train loss 0.811, val loss 0.862, train accuracy 0.685, val accuracy 0.663, and val rmse 1.086\n",
            "Epoch 656: train loss 0.819, val loss 0.841, train accuracy 0.680, val accuracy 0.675, and val rmse 1.070\n",
            "Epoch 657: train loss 0.816, val loss 0.852, train accuracy 0.686, val accuracy 0.672, and val rmse 1.080\n",
            "Epoch 658: train loss 0.813, val loss 0.850, train accuracy 0.685, val accuracy 0.668, and val rmse 1.076\n",
            "Epoch 659: train loss 0.814, val loss 0.844, train accuracy 0.687, val accuracy 0.676, and val rmse 1.085\n",
            "Epoch 660: train loss 0.813, val loss 0.856, train accuracy 0.685, val accuracy 0.667, and val rmse 1.099\n",
            "Epoch 661: train loss 0.811, val loss 0.851, train accuracy 0.688, val accuracy 0.670, and val rmse 1.062\n",
            "Epoch 662: train loss 0.811, val loss 0.840, train accuracy 0.684, val accuracy 0.670, and val rmse 1.090\n",
            "Epoch 663: train loss 0.807, val loss 0.843, train accuracy 0.688, val accuracy 0.678, and val rmse 1.074\n",
            "Epoch 664: train loss 0.811, val loss 0.836, train accuracy 0.685, val accuracy 0.676, and val rmse 1.080\n",
            "Epoch 665: train loss 0.807, val loss 0.851, train accuracy 0.686, val accuracy 0.662, and val rmse 1.092\n",
            "Epoch 666: train loss 0.806, val loss 0.848, train accuracy 0.691, val accuracy 0.670, and val rmse 1.084\n",
            "Epoch 667: train loss 0.803, val loss 0.840, train accuracy 0.695, val accuracy 0.682, and val rmse 1.060\n",
            "Epoch 668: train loss 0.809, val loss 0.862, train accuracy 0.688, val accuracy 0.669, and val rmse 1.060\n",
            "Epoch 669: train loss 0.802, val loss 0.837, train accuracy 0.690, val accuracy 0.672, and val rmse 1.063\n",
            "Epoch 670: train loss 0.804, val loss 0.825, train accuracy 0.690, val accuracy 0.679, and val rmse 1.084\n",
            "Epoch 671: train loss 0.798, val loss 0.827, train accuracy 0.693, val accuracy 0.681, and val rmse 1.070\n",
            "Epoch 672: train loss 0.800, val loss 0.846, train accuracy 0.691, val accuracy 0.669, and val rmse 1.078\n",
            "Epoch 673: train loss 0.798, val loss 0.829, train accuracy 0.693, val accuracy 0.683, and val rmse 1.068\n",
            "Epoch 674: train loss 0.801, val loss 0.828, train accuracy 0.689, val accuracy 0.680, and val rmse 1.075\n",
            "Epoch 675: train loss 0.802, val loss 0.839, train accuracy 0.691, val accuracy 0.688, and val rmse 1.048\n",
            "Epoch 676: train loss 0.799, val loss 0.828, train accuracy 0.694, val accuracy 0.681, and val rmse 1.082\n",
            "Epoch 677: train loss 0.795, val loss 0.831, train accuracy 0.692, val accuracy 0.684, and val rmse 1.039\n",
            "Epoch 678: train loss 0.801, val loss 0.832, train accuracy 0.689, val accuracy 0.678, and val rmse 1.056\n",
            "Epoch 679: train loss 0.797, val loss 0.831, train accuracy 0.694, val accuracy 0.686, and val rmse 1.061\n",
            "Epoch 680: train loss 0.793, val loss 0.831, train accuracy 0.697, val accuracy 0.678, and val rmse 1.077\n",
            "Epoch 681: train loss 0.792, val loss 0.835, train accuracy 0.697, val accuracy 0.671, and val rmse 1.086\n",
            "Epoch 682: train loss 0.790, val loss 0.838, train accuracy 0.696, val accuracy 0.675, and val rmse 1.064\n",
            "Epoch 683: train loss 0.789, val loss 0.834, train accuracy 0.695, val accuracy 0.679, and val rmse 1.067\n",
            "Epoch 684: train loss 0.789, val loss 0.827, train accuracy 0.700, val accuracy 0.684, and val rmse 1.065\n",
            "Epoch 685: train loss 0.793, val loss 0.836, train accuracy 0.694, val accuracy 0.675, and val rmse 1.057\n",
            "Epoch 686: train loss 0.790, val loss 0.824, train accuracy 0.695, val accuracy 0.691, and val rmse 1.059\n",
            "Epoch 687: train loss 0.790, val loss 0.824, train accuracy 0.698, val accuracy 0.675, and val rmse 1.076\n",
            "Epoch 688: train loss 0.788, val loss 0.842, train accuracy 0.697, val accuracy 0.674, and val rmse 1.090\n",
            "Epoch 689: train loss 0.788, val loss 0.821, train accuracy 0.694, val accuracy 0.683, and val rmse 1.049\n",
            "Epoch 690: train loss 0.789, val loss 0.815, train accuracy 0.698, val accuracy 0.687, and val rmse 1.059\n",
            "Epoch 691: train loss 0.783, val loss 0.830, train accuracy 0.697, val accuracy 0.675, and val rmse 1.078\n",
            "Epoch 692: train loss 0.787, val loss 0.827, train accuracy 0.694, val accuracy 0.679, and val rmse 1.045\n",
            "Epoch 693: train loss 0.784, val loss 0.834, train accuracy 0.698, val accuracy 0.678, and val rmse 1.042\n",
            "Epoch 694: train loss 0.780, val loss 0.826, train accuracy 0.698, val accuracy 0.676, and val rmse 1.083\n",
            "Epoch 695: train loss 0.780, val loss 0.828, train accuracy 0.700, val accuracy 0.684, and val rmse 1.038\n",
            "Epoch 696: train loss 0.780, val loss 0.819, train accuracy 0.699, val accuracy 0.688, and val rmse 1.059\n",
            "Epoch 697: train loss 0.781, val loss 0.810, train accuracy 0.699, val accuracy 0.698, and val rmse 1.029\n",
            "Epoch 698: train loss 0.782, val loss 0.819, train accuracy 0.699, val accuracy 0.692, and val rmse 1.036\n",
            "Epoch 699: train loss 0.778, val loss 0.820, train accuracy 0.700, val accuracy 0.685, and val rmse 1.034\n",
            "Epoch 700: train loss 0.775, val loss 0.826, train accuracy 0.705, val accuracy 0.686, and val rmse 1.029\n",
            "Epoch 701: train loss 0.780, val loss 0.819, train accuracy 0.698, val accuracy 0.692, and val rmse 1.054\n",
            "Epoch 702: train loss 0.779, val loss 0.820, train accuracy 0.700, val accuracy 0.687, and val rmse 1.070\n",
            "Epoch 703: train loss 0.775, val loss 0.825, train accuracy 0.702, val accuracy 0.683, and val rmse 1.055\n",
            "Epoch 704: train loss 0.776, val loss 0.802, train accuracy 0.701, val accuracy 0.687, and val rmse 1.057\n",
            "Epoch 705: train loss 0.773, val loss 0.835, train accuracy 0.704, val accuracy 0.678, and val rmse 1.054\n",
            "Epoch 706: train loss 0.775, val loss 0.820, train accuracy 0.699, val accuracy 0.683, and val rmse 1.054\n",
            "Epoch 707: train loss 0.778, val loss 0.812, train accuracy 0.704, val accuracy 0.685, and val rmse 1.072\n",
            "Epoch 708: train loss 0.776, val loss 0.816, train accuracy 0.704, val accuracy 0.685, and val rmse 1.065\n",
            "Epoch 709: train loss 0.773, val loss 0.815, train accuracy 0.704, val accuracy 0.688, and val rmse 1.055\n",
            "Epoch 710: train loss 0.771, val loss 0.814, train accuracy 0.704, val accuracy 0.690, and val rmse 1.049\n",
            "Epoch 711: train loss 0.766, val loss 0.805, train accuracy 0.705, val accuracy 0.692, and val rmse 1.058\n",
            "Epoch 712: train loss 0.770, val loss 0.818, train accuracy 0.705, val accuracy 0.685, and val rmse 1.051\n",
            "Epoch 713: train loss 0.769, val loss 0.820, train accuracy 0.708, val accuracy 0.680, and val rmse 1.045\n",
            "Epoch 714: train loss 0.766, val loss 0.810, train accuracy 0.705, val accuracy 0.691, and val rmse 1.044\n",
            "Epoch 715: train loss 0.767, val loss 0.807, train accuracy 0.707, val accuracy 0.689, and val rmse 1.047\n",
            "Epoch 716: train loss 0.766, val loss 0.807, train accuracy 0.707, val accuracy 0.690, and val rmse 1.052\n",
            "Epoch 717: train loss 0.771, val loss 0.828, train accuracy 0.706, val accuracy 0.679, and val rmse 1.046\n",
            "Epoch 718: train loss 0.764, val loss 0.806, train accuracy 0.708, val accuracy 0.695, and val rmse 1.051\n",
            "Epoch 719: train loss 0.765, val loss 0.808, train accuracy 0.707, val accuracy 0.695, and val rmse 1.048\n",
            "Epoch 720: train loss 0.765, val loss 0.822, train accuracy 0.709, val accuracy 0.685, and val rmse 1.025\n",
            "Epoch 721: train loss 0.767, val loss 0.809, train accuracy 0.707, val accuracy 0.682, and val rmse 1.060\n",
            "Epoch 722: train loss 0.762, val loss 0.811, train accuracy 0.709, val accuracy 0.687, and val rmse 1.040\n",
            "Epoch 723: train loss 0.764, val loss 0.809, train accuracy 0.707, val accuracy 0.690, and val rmse 1.040\n",
            "Epoch 724: train loss 0.762, val loss 0.799, train accuracy 0.708, val accuracy 0.693, and val rmse 1.050\n",
            "Epoch 725: train loss 0.763, val loss 0.799, train accuracy 0.706, val accuracy 0.687, and val rmse 1.063\n",
            "Epoch 726: train loss 0.763, val loss 0.799, train accuracy 0.710, val accuracy 0.687, and val rmse 1.060\n",
            "Epoch 727: train loss 0.761, val loss 0.809, train accuracy 0.708, val accuracy 0.688, and val rmse 1.037\n",
            "Epoch 728: train loss 0.761, val loss 0.809, train accuracy 0.705, val accuracy 0.690, and val rmse 1.039\n",
            "Epoch 729: train loss 0.757, val loss 0.798, train accuracy 0.711, val accuracy 0.700, and val rmse 1.028\n",
            "Epoch 730: train loss 0.763, val loss 0.818, train accuracy 0.706, val accuracy 0.686, and val rmse 1.042\n",
            "Epoch 731: train loss 0.757, val loss 0.796, train accuracy 0.708, val accuracy 0.699, and val rmse 1.035\n",
            "Epoch 732: train loss 0.760, val loss 0.806, train accuracy 0.709, val accuracy 0.689, and val rmse 1.060\n",
            "Epoch 733: train loss 0.757, val loss 0.804, train accuracy 0.709, val accuracy 0.697, and val rmse 1.033\n",
            "Epoch 734: train loss 0.759, val loss 0.809, train accuracy 0.711, val accuracy 0.692, and val rmse 1.049\n",
            "Epoch 735: train loss 0.755, val loss 0.793, train accuracy 0.711, val accuracy 0.697, and val rmse 1.038\n",
            "Epoch 736: train loss 0.754, val loss 0.806, train accuracy 0.710, val accuracy 0.696, and val rmse 1.036\n",
            "Epoch 737: train loss 0.756, val loss 0.805, train accuracy 0.708, val accuracy 0.692, and val rmse 1.036\n",
            "Epoch 738: train loss 0.746, val loss 0.789, train accuracy 0.714, val accuracy 0.695, and val rmse 1.067\n",
            "Epoch 739: train loss 0.755, val loss 0.795, train accuracy 0.709, val accuracy 0.697, and val rmse 1.019\n",
            "Epoch 740: train loss 0.751, val loss 0.794, train accuracy 0.713, val accuracy 0.695, and val rmse 1.054\n",
            "Epoch 741: train loss 0.751, val loss 0.790, train accuracy 0.710, val accuracy 0.705, and val rmse 1.037\n",
            "Epoch 742: train loss 0.752, val loss 0.793, train accuracy 0.714, val accuracy 0.697, and val rmse 1.043\n",
            "Epoch 743: train loss 0.751, val loss 0.807, train accuracy 0.714, val accuracy 0.693, and val rmse 1.039\n",
            "Epoch 744: train loss 0.753, val loss 0.795, train accuracy 0.713, val accuracy 0.696, and val rmse 1.036\n",
            "Epoch 745: train loss 0.747, val loss 0.783, train accuracy 0.716, val accuracy 0.702, and val rmse 1.037\n",
            "Epoch 746: train loss 0.749, val loss 0.789, train accuracy 0.710, val accuracy 0.697, and val rmse 1.043\n",
            "Epoch 747: train loss 0.749, val loss 0.784, train accuracy 0.711, val accuracy 0.706, and val rmse 1.048\n",
            "Epoch 748: train loss 0.747, val loss 0.797, train accuracy 0.714, val accuracy 0.696, and val rmse 1.033\n",
            "Epoch 749: train loss 0.740, val loss 0.780, train accuracy 0.720, val accuracy 0.703, and val rmse 1.059\n",
            "Epoch 750: train loss 0.746, val loss 0.794, train accuracy 0.711, val accuracy 0.699, and val rmse 1.034\n",
            "Epoch 751: train loss 0.745, val loss 0.790, train accuracy 0.717, val accuracy 0.699, and val rmse 1.045\n",
            "Epoch 752: train loss 0.745, val loss 0.795, train accuracy 0.714, val accuracy 0.693, and val rmse 1.037\n",
            "Epoch 753: train loss 0.747, val loss 0.787, train accuracy 0.713, val accuracy 0.699, and val rmse 1.038\n",
            "Epoch 754: train loss 0.741, val loss 0.776, train accuracy 0.719, val accuracy 0.699, and val rmse 1.045\n",
            "Epoch 755: train loss 0.741, val loss 0.791, train accuracy 0.721, val accuracy 0.699, and val rmse 1.040\n",
            "Epoch 756: train loss 0.741, val loss 0.786, train accuracy 0.714, val accuracy 0.699, and val rmse 1.038\n",
            "Epoch 757: train loss 0.739, val loss 0.797, train accuracy 0.719, val accuracy 0.696, and val rmse 1.024\n",
            "Epoch 758: train loss 0.744, val loss 0.798, train accuracy 0.715, val accuracy 0.693, and val rmse 1.039\n",
            "Epoch 759: train loss 0.741, val loss 0.799, train accuracy 0.719, val accuracy 0.693, and val rmse 1.026\n",
            "Epoch 760: train loss 0.735, val loss 0.774, train accuracy 0.718, val accuracy 0.707, and val rmse 1.036\n",
            "Epoch 761: train loss 0.738, val loss 0.786, train accuracy 0.718, val accuracy 0.699, and val rmse 1.037\n",
            "Epoch 762: train loss 0.739, val loss 0.777, train accuracy 0.717, val accuracy 0.712, and val rmse 1.016\n",
            "Epoch 763: train loss 0.739, val loss 0.785, train accuracy 0.717, val accuracy 0.700, and val rmse 1.026\n",
            "Epoch 764: train loss 0.733, val loss 0.786, train accuracy 0.717, val accuracy 0.697, and val rmse 1.055\n",
            "Epoch 765: train loss 0.738, val loss 0.788, train accuracy 0.716, val accuracy 0.702, and val rmse 1.026\n",
            "Epoch 766: train loss 0.734, val loss 0.777, train accuracy 0.720, val accuracy 0.713, and val rmse 1.023\n",
            "Epoch 767: train loss 0.738, val loss 0.781, train accuracy 0.719, val accuracy 0.705, and val rmse 1.045\n",
            "Epoch 768: train loss 0.735, val loss 0.781, train accuracy 0.716, val accuracy 0.707, and val rmse 1.027\n",
            "Epoch 769: train loss 0.732, val loss 0.772, train accuracy 0.722, val accuracy 0.703, and val rmse 1.041\n",
            "Epoch 770: train loss 0.735, val loss 0.785, train accuracy 0.720, val accuracy 0.705, and val rmse 1.022\n",
            "Epoch 771: train loss 0.734, val loss 0.774, train accuracy 0.720, val accuracy 0.707, and val rmse 1.035\n",
            "Epoch 772: train loss 0.731, val loss 0.765, train accuracy 0.721, val accuracy 0.712, and val rmse 1.008\n",
            "Epoch 773: train loss 0.728, val loss 0.797, train accuracy 0.722, val accuracy 0.703, and val rmse 1.003\n",
            "Epoch 774: train loss 0.737, val loss 0.787, train accuracy 0.719, val accuracy 0.704, and val rmse 1.030\n",
            "Epoch 775: train loss 0.732, val loss 0.770, train accuracy 0.722, val accuracy 0.708, and val rmse 1.015\n",
            "Epoch 776: train loss 0.728, val loss 0.775, train accuracy 0.723, val accuracy 0.713, and val rmse 1.015\n",
            "Epoch 777: train loss 0.725, val loss 0.781, train accuracy 0.723, val accuracy 0.704, and val rmse 1.028\n",
            "Epoch 778: train loss 0.727, val loss 0.770, train accuracy 0.721, val accuracy 0.716, and val rmse 1.002\n",
            "Epoch 779: train loss 0.728, val loss 0.784, train accuracy 0.725, val accuracy 0.707, and val rmse 1.032\n",
            "Epoch 780: train loss 0.728, val loss 0.778, train accuracy 0.721, val accuracy 0.712, and val rmse 1.024\n",
            "Epoch 781: train loss 0.728, val loss 0.790, train accuracy 0.720, val accuracy 0.696, and val rmse 1.037\n",
            "Epoch 782: train loss 0.727, val loss 0.769, train accuracy 0.723, val accuracy 0.709, and val rmse 1.030\n",
            "Epoch 783: train loss 0.723, val loss 0.772, train accuracy 0.728, val accuracy 0.707, and val rmse 1.023\n",
            "Epoch 784: train loss 0.723, val loss 0.773, train accuracy 0.724, val accuracy 0.707, and val rmse 1.046\n",
            "Epoch 785: train loss 0.723, val loss 0.768, train accuracy 0.725, val accuracy 0.710, and val rmse 1.003\n",
            "Epoch 786: train loss 0.723, val loss 0.757, train accuracy 0.726, val accuracy 0.714, and val rmse 1.020\n",
            "Epoch 787: train loss 0.723, val loss 0.766, train accuracy 0.725, val accuracy 0.713, and val rmse 1.019\n",
            "Epoch 788: train loss 0.724, val loss 0.772, train accuracy 0.725, val accuracy 0.710, and val rmse 1.015\n",
            "Epoch 789: train loss 0.721, val loss 0.798, train accuracy 0.727, val accuracy 0.700, and val rmse 1.030\n",
            "Epoch 790: train loss 0.718, val loss 0.766, train accuracy 0.729, val accuracy 0.710, and val rmse 1.025\n",
            "Epoch 791: train loss 0.721, val loss 0.752, train accuracy 0.727, val accuracy 0.721, and val rmse 0.999\n",
            "Epoch 792: train loss 0.721, val loss 0.760, train accuracy 0.724, val accuracy 0.708, and val rmse 1.043\n",
            "Epoch 793: train loss 0.722, val loss 0.759, train accuracy 0.725, val accuracy 0.712, and val rmse 1.026\n",
            "Epoch 794: train loss 0.721, val loss 0.757, train accuracy 0.724, val accuracy 0.714, and val rmse 1.028\n",
            "Epoch 795: train loss 0.718, val loss 0.758, train accuracy 0.729, val accuracy 0.716, and val rmse 1.018\n",
            "Epoch 796: train loss 0.719, val loss 0.765, train accuracy 0.729, val accuracy 0.715, and val rmse 1.005\n",
            "Epoch 797: train loss 0.718, val loss 0.768, train accuracy 0.728, val accuracy 0.716, and val rmse 1.006\n",
            "Epoch 798: train loss 0.717, val loss 0.778, train accuracy 0.729, val accuracy 0.711, and val rmse 1.015\n",
            "Epoch 799: train loss 0.719, val loss 0.796, train accuracy 0.725, val accuracy 0.700, and val rmse 1.004\n",
            "Epoch 800: train loss 0.716, val loss 0.760, train accuracy 0.731, val accuracy 0.712, and val rmse 1.035\n",
            "Epoch 801: train loss 0.718, val loss 0.760, train accuracy 0.729, val accuracy 0.711, and val rmse 1.028\n",
            "Epoch 802: train loss 0.715, val loss 0.763, train accuracy 0.726, val accuracy 0.716, and val rmse 1.010\n",
            "Epoch 803: train loss 0.712, val loss 0.764, train accuracy 0.728, val accuracy 0.718, and val rmse 1.012\n",
            "Epoch 804: train loss 0.714, val loss 0.771, train accuracy 0.730, val accuracy 0.705, and val rmse 1.029\n",
            "Epoch 805: train loss 0.711, val loss 0.759, train accuracy 0.731, val accuracy 0.717, and val rmse 1.010\n",
            "Epoch 806: train loss 0.712, val loss 0.769, train accuracy 0.728, val accuracy 0.717, and val rmse 0.995\n",
            "Epoch 807: train loss 0.713, val loss 0.771, train accuracy 0.728, val accuracy 0.713, and val rmse 1.011\n",
            "Epoch 808: train loss 0.708, val loss 0.790, train accuracy 0.729, val accuracy 0.699, and val rmse 1.012\n",
            "Epoch 809: train loss 0.711, val loss 0.759, train accuracy 0.729, val accuracy 0.716, and val rmse 1.015\n",
            "Epoch 810: train loss 0.712, val loss 0.777, train accuracy 0.728, val accuracy 0.710, and val rmse 1.005\n",
            "Epoch 811: train loss 0.715, val loss 0.758, train accuracy 0.727, val accuracy 0.720, and val rmse 1.003\n",
            "Epoch 812: train loss 0.713, val loss 0.767, train accuracy 0.733, val accuracy 0.705, and val rmse 1.033\n",
            "Epoch 813: train loss 0.707, val loss 0.757, train accuracy 0.730, val accuracy 0.715, and val rmse 1.020\n",
            "Epoch 814: train loss 0.709, val loss 0.761, train accuracy 0.730, val accuracy 0.720, and val rmse 0.997\n",
            "Epoch 815: train loss 0.710, val loss 0.771, train accuracy 0.730, val accuracy 0.713, and val rmse 1.016\n",
            "Epoch 816: train loss 0.708, val loss 0.769, train accuracy 0.735, val accuracy 0.712, and val rmse 1.015\n",
            "Epoch 817: train loss 0.706, val loss 0.757, train accuracy 0.734, val accuracy 0.714, and val rmse 1.023\n",
            "Epoch 818: train loss 0.707, val loss 0.762, train accuracy 0.732, val accuracy 0.719, and val rmse 1.009\n",
            "Epoch 819: train loss 0.708, val loss 0.779, train accuracy 0.732, val accuracy 0.700, and val rmse 1.007\n",
            "Epoch 820: train loss 0.707, val loss 0.747, train accuracy 0.734, val accuracy 0.718, and val rmse 1.025\n",
            "Epoch 821: train loss 0.709, val loss 0.748, train accuracy 0.733, val accuracy 0.720, and val rmse 1.013\n",
            "Epoch 822: train loss 0.704, val loss 0.768, train accuracy 0.733, val accuracy 0.716, and val rmse 1.019\n",
            "Epoch 823: train loss 0.703, val loss 0.752, train accuracy 0.733, val accuracy 0.718, and val rmse 1.021\n",
            "Epoch 824: train loss 0.706, val loss 0.792, train accuracy 0.734, val accuracy 0.701, and val rmse 1.023\n",
            "Epoch 825: train loss 0.703, val loss 0.758, train accuracy 0.735, val accuracy 0.716, and val rmse 1.020\n",
            "Epoch 826: train loss 0.705, val loss 0.758, train accuracy 0.733, val accuracy 0.715, and val rmse 1.013\n",
            "Epoch 827: train loss 0.704, val loss 0.758, train accuracy 0.735, val accuracy 0.712, and val rmse 1.023\n",
            "Epoch 828: train loss 0.703, val loss 0.747, train accuracy 0.734, val accuracy 0.724, and val rmse 1.012\n",
            "Epoch 829: train loss 0.702, val loss 0.744, train accuracy 0.734, val accuracy 0.715, and val rmse 1.022\n",
            "Epoch 830: train loss 0.705, val loss 0.768, train accuracy 0.732, val accuracy 0.714, and val rmse 1.014\n",
            "Epoch 831: train loss 0.702, val loss 0.764, train accuracy 0.733, val accuracy 0.713, and val rmse 1.006\n",
            "Epoch 832: train loss 0.701, val loss 0.765, train accuracy 0.734, val accuracy 0.710, and val rmse 1.011\n",
            "Epoch 833: train loss 0.700, val loss 0.753, train accuracy 0.736, val accuracy 0.716, and val rmse 1.010\n",
            "Epoch 834: train loss 0.695, val loss 0.758, train accuracy 0.737, val accuracy 0.715, and val rmse 1.014\n",
            "Epoch 835: train loss 0.696, val loss 0.767, train accuracy 0.740, val accuracy 0.713, and val rmse 1.016\n",
            "Epoch 836: train loss 0.697, val loss 0.747, train accuracy 0.740, val accuracy 0.721, and val rmse 1.009\n",
            "Epoch 837: train loss 0.695, val loss 0.752, train accuracy 0.738, val accuracy 0.716, and val rmse 1.024\n",
            "Epoch 838: train loss 0.697, val loss 0.749, train accuracy 0.734, val accuracy 0.719, and val rmse 1.002\n",
            "Epoch 839: train loss 0.697, val loss 0.765, train accuracy 0.737, val accuracy 0.712, and val rmse 1.020\n",
            "Epoch 840: train loss 0.696, val loss 0.770, train accuracy 0.736, val accuracy 0.712, and val rmse 0.980\n",
            "Epoch 841: train loss 0.694, val loss 0.756, train accuracy 0.740, val accuracy 0.713, and val rmse 1.002\n",
            "Epoch 842: train loss 0.698, val loss 0.760, train accuracy 0.736, val accuracy 0.712, and val rmse 1.015\n",
            "Epoch 843: train loss 0.694, val loss 0.752, train accuracy 0.739, val accuracy 0.721, and val rmse 1.007\n",
            "Epoch 844: train loss 0.696, val loss 0.745, train accuracy 0.735, val accuracy 0.715, and val rmse 1.033\n",
            "Epoch 845: train loss 0.695, val loss 0.736, train accuracy 0.738, val accuracy 0.726, and val rmse 1.008\n",
            "Epoch 846: train loss 0.694, val loss 0.773, train accuracy 0.737, val accuracy 0.711, and val rmse 1.025\n",
            "Epoch 847: train loss 0.693, val loss 0.754, train accuracy 0.737, val accuracy 0.722, and val rmse 1.008\n",
            "Epoch 848: train loss 0.693, val loss 0.777, train accuracy 0.736, val accuracy 0.707, and val rmse 0.993\n",
            "Epoch 849: train loss 0.694, val loss 0.744, train accuracy 0.736, val accuracy 0.723, and val rmse 1.002\n",
            "Epoch 850: train loss 0.693, val loss 0.745, train accuracy 0.739, val accuracy 0.724, and val rmse 1.001\n",
            "Epoch 851: train loss 0.692, val loss 0.753, train accuracy 0.739, val accuracy 0.713, and val rmse 1.023\n",
            "Epoch 852: train loss 0.690, val loss 0.734, train accuracy 0.740, val accuracy 0.718, and val rmse 1.025\n",
            "Epoch 853: train loss 0.694, val loss 0.742, train accuracy 0.738, val accuracy 0.720, and val rmse 1.013\n",
            "Epoch 854: train loss 0.685, val loss 0.732, train accuracy 0.743, val accuracy 0.727, and val rmse 1.012\n",
            "Epoch 855: train loss 0.688, val loss 0.778, train accuracy 0.742, val accuracy 0.711, and val rmse 0.992\n",
            "Epoch 856: train loss 0.688, val loss 0.738, train accuracy 0.741, val accuracy 0.722, and val rmse 1.017\n",
            "Epoch 857: train loss 0.689, val loss 0.745, train accuracy 0.740, val accuracy 0.719, and val rmse 1.008\n",
            "Epoch 858: train loss 0.686, val loss 0.748, train accuracy 0.741, val accuracy 0.722, and val rmse 1.025\n",
            "Epoch 859: train loss 0.687, val loss 0.744, train accuracy 0.742, val accuracy 0.728, and val rmse 0.990\n",
            "Epoch 860: train loss 0.685, val loss 0.755, train accuracy 0.744, val accuracy 0.720, and val rmse 0.994\n",
            "Epoch 861: train loss 0.685, val loss 0.739, train accuracy 0.742, val accuracy 0.726, and val rmse 0.996\n",
            "Epoch 862: train loss 0.689, val loss 0.741, train accuracy 0.740, val accuracy 0.720, and val rmse 1.014\n",
            "Epoch 863: train loss 0.688, val loss 0.747, train accuracy 0.741, val accuracy 0.720, and val rmse 1.001\n",
            "Epoch 864: train loss 0.683, val loss 0.734, train accuracy 0.743, val accuracy 0.727, and val rmse 0.996\n",
            "Epoch 865: train loss 0.683, val loss 0.757, train accuracy 0.746, val accuracy 0.710, and val rmse 1.023\n",
            "Epoch 866: train loss 0.680, val loss 0.726, train accuracy 0.743, val accuracy 0.730, and val rmse 0.987\n",
            "Epoch 867: train loss 0.680, val loss 0.734, train accuracy 0.744, val accuracy 0.731, and val rmse 0.982\n",
            "Epoch 868: train loss 0.683, val loss 0.740, train accuracy 0.744, val accuracy 0.722, and val rmse 1.006\n",
            "Epoch 869: train loss 0.682, val loss 0.755, train accuracy 0.745, val accuracy 0.717, and val rmse 1.003\n",
            "Epoch 870: train loss 0.684, val loss 0.728, train accuracy 0.743, val accuracy 0.731, and val rmse 1.003\n",
            "Epoch 871: train loss 0.681, val loss 0.726, train accuracy 0.741, val accuracy 0.728, and val rmse 0.999\n",
            "Epoch 872: train loss 0.682, val loss 0.737, train accuracy 0.746, val accuracy 0.728, and val rmse 1.000\n",
            "Epoch 873: train loss 0.684, val loss 0.763, train accuracy 0.743, val accuracy 0.709, and val rmse 1.002\n",
            "Epoch 874: train loss 0.681, val loss 0.739, train accuracy 0.744, val accuracy 0.724, and val rmse 0.994\n",
            "Epoch 875: train loss 0.681, val loss 0.745, train accuracy 0.744, val accuracy 0.725, and val rmse 1.015\n",
            "Epoch 876: train loss 0.678, val loss 0.732, train accuracy 0.744, val accuracy 0.732, and val rmse 0.987\n",
            "Epoch 877: train loss 0.676, val loss 0.735, train accuracy 0.746, val accuracy 0.723, and val rmse 1.002\n",
            "Epoch 878: train loss 0.679, val loss 0.744, train accuracy 0.744, val accuracy 0.723, and val rmse 0.993\n",
            "Epoch 879: train loss 0.675, val loss 0.782, train accuracy 0.745, val accuracy 0.705, and val rmse 1.003\n",
            "Epoch 880: train loss 0.677, val loss 0.753, train accuracy 0.746, val accuracy 0.720, and val rmse 1.013\n",
            "Epoch 881: train loss 0.673, val loss 0.734, train accuracy 0.749, val accuracy 0.723, and val rmse 1.020\n",
            "Epoch 882: train loss 0.680, val loss 0.721, train accuracy 0.746, val accuracy 0.728, and val rmse 1.000\n",
            "Epoch 883: train loss 0.678, val loss 0.736, train accuracy 0.744, val accuracy 0.729, and val rmse 1.002\n",
            "Epoch 884: train loss 0.677, val loss 0.746, train accuracy 0.744, val accuracy 0.725, and val rmse 0.991\n",
            "Epoch 885: train loss 0.675, val loss 0.722, train accuracy 0.748, val accuracy 0.727, and val rmse 1.004\n",
            "Epoch 886: train loss 0.671, val loss 0.771, train accuracy 0.750, val accuracy 0.711, and val rmse 1.001\n",
            "Epoch 887: train loss 0.671, val loss 0.733, train accuracy 0.748, val accuracy 0.729, and val rmse 1.000\n",
            "Epoch 888: train loss 0.674, val loss 0.745, train accuracy 0.750, val accuracy 0.720, and val rmse 1.012\n",
            "Epoch 889: train loss 0.677, val loss 0.742, train accuracy 0.745, val accuracy 0.723, and val rmse 0.992\n",
            "Epoch 890: train loss 0.673, val loss 0.744, train accuracy 0.750, val accuracy 0.718, and val rmse 0.988\n",
            "Epoch 891: train loss 0.670, val loss 0.732, train accuracy 0.749, val accuracy 0.729, and val rmse 0.980\n",
            "Epoch 892: train loss 0.671, val loss 0.756, train accuracy 0.747, val accuracy 0.714, and val rmse 0.997\n",
            "Epoch 893: train loss 0.667, val loss 0.780, train accuracy 0.750, val accuracy 0.699, and val rmse 1.016\n",
            "Epoch 894: train loss 0.669, val loss 0.721, train accuracy 0.751, val accuracy 0.733, and val rmse 0.983\n",
            "Epoch 895: train loss 0.673, val loss 0.723, train accuracy 0.747, val accuracy 0.727, and val rmse 0.984\n",
            "Epoch 896: train loss 0.669, val loss 0.720, train accuracy 0.749, val accuracy 0.728, and val rmse 0.976\n",
            "Epoch 897: train loss 0.669, val loss 0.740, train accuracy 0.749, val accuracy 0.719, and val rmse 1.028\n",
            "Epoch 898: train loss 0.676, val loss 0.720, train accuracy 0.748, val accuracy 0.721, and val rmse 1.007\n",
            "Epoch 899: train loss 0.668, val loss 0.741, train accuracy 0.752, val accuracy 0.723, and val rmse 0.986\n",
            "Epoch 900: train loss 0.667, val loss 0.744, train accuracy 0.753, val accuracy 0.718, and val rmse 1.005\n",
            "Epoch 901: train loss 0.662, val loss 0.725, train accuracy 0.754, val accuracy 0.729, and val rmse 1.005\n",
            "Epoch 902: train loss 0.670, val loss 0.729, train accuracy 0.747, val accuracy 0.724, and val rmse 1.018\n",
            "Epoch 903: train loss 0.669, val loss 0.715, train accuracy 0.746, val accuracy 0.738, and val rmse 0.982\n",
            "Epoch 904: train loss 0.663, val loss 0.721, train accuracy 0.752, val accuracy 0.733, and val rmse 0.999\n",
            "Epoch 905: train loss 0.666, val loss 0.721, train accuracy 0.750, val accuracy 0.732, and val rmse 1.002\n",
            "Epoch 906: train loss 0.666, val loss 0.737, train accuracy 0.756, val accuracy 0.724, and val rmse 1.014\n",
            "Epoch 907: train loss 0.669, val loss 0.724, train accuracy 0.750, val accuracy 0.729, and val rmse 0.982\n",
            "Epoch 908: train loss 0.665, val loss 0.721, train accuracy 0.753, val accuracy 0.729, and val rmse 1.014\n",
            "Epoch 909: train loss 0.663, val loss 0.717, train accuracy 0.750, val accuracy 0.731, and val rmse 0.986\n",
            "Epoch 910: train loss 0.664, val loss 0.717, train accuracy 0.751, val accuracy 0.739, and val rmse 0.968\n",
            "Epoch 911: train loss 0.662, val loss 0.731, train accuracy 0.751, val accuracy 0.729, and val rmse 0.976\n",
            "Epoch 912: train loss 0.662, val loss 0.768, train accuracy 0.752, val accuracy 0.709, and val rmse 1.003\n",
            "Epoch 913: train loss 0.667, val loss 0.727, train accuracy 0.751, val accuracy 0.730, and val rmse 0.973\n",
            "Epoch 914: train loss 0.665, val loss 0.722, train accuracy 0.747, val accuracy 0.735, and val rmse 0.983\n",
            "Epoch 915: train loss 0.657, val loss 0.728, train accuracy 0.756, val accuracy 0.729, and val rmse 0.984\n",
            "Epoch 916: train loss 0.660, val loss 0.720, train accuracy 0.752, val accuracy 0.735, and val rmse 1.002\n",
            "Epoch 917: train loss 0.659, val loss 0.726, train accuracy 0.755, val accuracy 0.730, and val rmse 0.988\n",
            "Epoch 918: train loss 0.659, val loss 0.713, train accuracy 0.757, val accuracy 0.734, and val rmse 0.978\n",
            "Epoch 919: train loss 0.661, val loss 0.729, train accuracy 0.754, val accuracy 0.727, and val rmse 0.997\n",
            "Epoch 920: train loss 0.661, val loss 0.725, train accuracy 0.752, val accuracy 0.725, and val rmse 1.007\n",
            "Epoch 921: train loss 0.662, val loss 0.716, train accuracy 0.753, val accuracy 0.730, and val rmse 0.992\n",
            "Epoch 922: train loss 0.658, val loss 0.730, train accuracy 0.754, val accuracy 0.725, and val rmse 1.004\n",
            "Epoch 923: train loss 0.657, val loss 0.736, train accuracy 0.756, val accuracy 0.721, and val rmse 1.000\n",
            "Epoch 924: train loss 0.662, val loss 0.724, train accuracy 0.751, val accuracy 0.728, and val rmse 0.994\n",
            "Epoch 925: train loss 0.657, val loss 0.711, train accuracy 0.754, val accuracy 0.730, and val rmse 1.004\n",
            "Epoch 926: train loss 0.657, val loss 0.726, train accuracy 0.756, val accuracy 0.731, and val rmse 0.986\n",
            "Epoch 927: train loss 0.656, val loss 0.724, train accuracy 0.751, val accuracy 0.728, and val rmse 1.018\n",
            "Epoch 928: train loss 0.652, val loss 0.731, train accuracy 0.754, val accuracy 0.731, and val rmse 1.018\n",
            "Epoch 929: train loss 0.655, val loss 0.750, train accuracy 0.757, val accuracy 0.724, and val rmse 0.977\n",
            "Epoch 930: train loss 0.659, val loss 0.734, train accuracy 0.751, val accuracy 0.724, and val rmse 0.980\n",
            "Epoch 931: train loss 0.655, val loss 0.715, train accuracy 0.757, val accuracy 0.737, and val rmse 0.990\n",
            "Epoch 932: train loss 0.656, val loss 0.759, train accuracy 0.753, val accuracy 0.713, and val rmse 1.022\n",
            "Epoch 933: train loss 0.655, val loss 0.717, train accuracy 0.756, val accuracy 0.737, and val rmse 0.964\n",
            "Epoch 934: train loss 0.657, val loss 0.716, train accuracy 0.754, val accuracy 0.733, and val rmse 0.995\n",
            "Epoch 935: train loss 0.652, val loss 0.740, train accuracy 0.757, val accuracy 0.731, and val rmse 0.993\n",
            "Epoch 936: train loss 0.650, val loss 0.716, train accuracy 0.756, val accuracy 0.728, and val rmse 0.995\n",
            "Epoch 937: train loss 0.658, val loss 0.735, train accuracy 0.755, val accuracy 0.728, and val rmse 0.981\n",
            "Epoch 938: train loss 0.661, val loss 0.744, train accuracy 0.753, val accuracy 0.725, and val rmse 0.983\n",
            "Epoch 939: train loss 0.653, val loss 0.744, train accuracy 0.757, val accuracy 0.723, and val rmse 0.975\n",
            "Epoch 940: train loss 0.663, val loss 0.710, train accuracy 0.752, val accuracy 0.740, and val rmse 0.973\n",
            "Epoch 941: train loss 0.648, val loss 0.757, train accuracy 0.760, val accuracy 0.715, and val rmse 0.997\n",
            "Epoch 942: train loss 0.655, val loss 0.708, train accuracy 0.757, val accuracy 0.734, and val rmse 0.996\n",
            "Epoch 943: train loss 0.648, val loss 0.724, train accuracy 0.758, val accuracy 0.724, and val rmse 1.014\n",
            "Epoch 944: train loss 0.651, val loss 0.724, train accuracy 0.756, val accuracy 0.731, and val rmse 0.984\n",
            "Epoch 945: train loss 0.650, val loss 0.749, train accuracy 0.758, val accuracy 0.721, and val rmse 0.985\n",
            "Epoch 946: train loss 0.649, val loss 0.710, train accuracy 0.760, val accuracy 0.734, and val rmse 0.987\n",
            "Epoch 947: train loss 0.651, val loss 0.717, train accuracy 0.758, val accuracy 0.728, and val rmse 1.004\n",
            "Epoch 948: train loss 0.654, val loss 0.716, train accuracy 0.754, val accuracy 0.738, and val rmse 0.983\n",
            "Epoch 949: train loss 0.647, val loss 0.707, train accuracy 0.758, val accuracy 0.741, and val rmse 0.973\n",
            "Epoch 950: train loss 0.651, val loss 0.723, train accuracy 0.759, val accuracy 0.731, and val rmse 0.995\n",
            "Epoch 951: train loss 0.650, val loss 0.715, train accuracy 0.756, val accuracy 0.731, and val rmse 1.003\n",
            "Epoch 952: train loss 0.648, val loss 0.708, train accuracy 0.757, val accuracy 0.736, and val rmse 0.991\n",
            "Epoch 953: train loss 0.642, val loss 0.707, train accuracy 0.762, val accuracy 0.735, and val rmse 0.982\n",
            "Epoch 954: train loss 0.647, val loss 0.744, train accuracy 0.761, val accuracy 0.718, and val rmse 0.973\n",
            "Epoch 955: train loss 0.641, val loss 0.710, train accuracy 0.763, val accuracy 0.734, and val rmse 0.980\n",
            "Epoch 956: train loss 0.644, val loss 0.712, train accuracy 0.758, val accuracy 0.731, and val rmse 1.005\n",
            "Epoch 957: train loss 0.643, val loss 0.725, train accuracy 0.757, val accuracy 0.730, and val rmse 0.976\n",
            "Epoch 958: train loss 0.648, val loss 0.738, train accuracy 0.759, val accuracy 0.719, and val rmse 0.960\n",
            "Epoch 959: train loss 0.646, val loss 0.716, train accuracy 0.760, val accuracy 0.738, and val rmse 0.968\n",
            "Epoch 960: train loss 0.641, val loss 0.701, train accuracy 0.762, val accuracy 0.743, and val rmse 0.963\n",
            "Epoch 961: train loss 0.641, val loss 0.716, train accuracy 0.764, val accuracy 0.734, and val rmse 0.987\n",
            "Epoch 962: train loss 0.642, val loss 0.722, train accuracy 0.761, val accuracy 0.724, and val rmse 1.007\n",
            "Epoch 963: train loss 0.644, val loss 0.726, train accuracy 0.761, val accuracy 0.739, and val rmse 0.952\n",
            "Epoch 964: train loss 0.645, val loss 0.723, train accuracy 0.760, val accuracy 0.722, and val rmse 1.009\n",
            "Epoch 965: train loss 0.637, val loss 0.714, train accuracy 0.764, val accuracy 0.736, and val rmse 0.977\n",
            "Epoch 966: train loss 0.643, val loss 0.716, train accuracy 0.761, val accuracy 0.735, and val rmse 0.985\n",
            "Epoch 967: train loss 0.640, val loss 0.711, train accuracy 0.763, val accuracy 0.735, and val rmse 0.982\n",
            "Epoch 968: train loss 0.638, val loss 0.720, train accuracy 0.763, val accuracy 0.733, and val rmse 0.989\n",
            "Epoch 969: train loss 0.643, val loss 0.694, train accuracy 0.761, val accuracy 0.743, and val rmse 0.962\n",
            "Epoch 970: train loss 0.640, val loss 0.772, train accuracy 0.763, val accuracy 0.700, and val rmse 0.991\n",
            "Epoch 971: train loss 0.643, val loss 0.699, train accuracy 0.760, val accuracy 0.744, and val rmse 0.969\n",
            "Epoch 972: train loss 0.643, val loss 0.691, train accuracy 0.762, val accuracy 0.745, and val rmse 0.963\n",
            "Epoch 973: train loss 0.638, val loss 0.705, train accuracy 0.763, val accuracy 0.738, and val rmse 0.985\n",
            "Epoch 974: train loss 0.641, val loss 0.704, train accuracy 0.761, val accuracy 0.744, and val rmse 0.968\n",
            "Epoch 975: train loss 0.638, val loss 0.705, train accuracy 0.762, val accuracy 0.733, and val rmse 0.975\n",
            "Epoch 976: train loss 0.639, val loss 0.700, train accuracy 0.763, val accuracy 0.736, and val rmse 0.980\n",
            "Epoch 977: train loss 0.634, val loss 0.716, train accuracy 0.764, val accuracy 0.736, and val rmse 0.961\n",
            "Epoch 978: train loss 0.639, val loss 0.695, train accuracy 0.764, val accuracy 0.743, and val rmse 0.963\n",
            "Epoch 979: train loss 0.641, val loss 0.703, train accuracy 0.759, val accuracy 0.739, and val rmse 0.972\n",
            "Epoch 980: train loss 0.638, val loss 0.703, train accuracy 0.762, val accuracy 0.743, and val rmse 0.980\n",
            "Epoch 981: train loss 0.636, val loss 0.712, train accuracy 0.764, val accuracy 0.732, and val rmse 0.979\n",
            "Epoch 982: train loss 0.637, val loss 0.709, train accuracy 0.761, val accuracy 0.735, and val rmse 0.983\n",
            "Epoch 983: train loss 0.631, val loss 0.724, train accuracy 0.764, val accuracy 0.724, and val rmse 1.001\n",
            "Epoch 984: train loss 0.637, val loss 0.711, train accuracy 0.761, val accuracy 0.734, and val rmse 0.988\n",
            "Epoch 985: train loss 0.633, val loss 0.697, train accuracy 0.764, val accuracy 0.743, and val rmse 0.971\n",
            "Epoch 986: train loss 0.635, val loss 0.710, train accuracy 0.764, val accuracy 0.734, and val rmse 0.992\n",
            "Epoch 987: train loss 0.633, val loss 0.684, train accuracy 0.761, val accuracy 0.746, and val rmse 0.952\n",
            "Epoch 988: train loss 0.631, val loss 0.692, train accuracy 0.764, val accuracy 0.744, and val rmse 0.962\n",
            "Epoch 989: train loss 0.637, val loss 0.713, train accuracy 0.765, val accuracy 0.735, and val rmse 0.985\n",
            "Epoch 990: train loss 0.639, val loss 0.717, train accuracy 0.765, val accuracy 0.738, and val rmse 0.954\n",
            "Epoch 991: train loss 0.631, val loss 0.695, train accuracy 0.763, val accuracy 0.741, and val rmse 0.979\n",
            "Epoch 992: train loss 0.630, val loss 0.725, train accuracy 0.766, val accuracy 0.737, and val rmse 0.971\n",
            "Epoch 993: train loss 0.629, val loss 0.706, train accuracy 0.768, val accuracy 0.739, and val rmse 0.972\n",
            "Epoch 994: train loss 0.634, val loss 0.714, train accuracy 0.761, val accuracy 0.729, and val rmse 0.994\n",
            "Epoch 995: train loss 0.626, val loss 0.700, train accuracy 0.769, val accuracy 0.740, and val rmse 0.984\n",
            "Epoch 996: train loss 0.632, val loss 0.699, train accuracy 0.766, val accuracy 0.740, and val rmse 0.982\n",
            "Epoch 997: train loss 0.629, val loss 0.701, train accuracy 0.765, val accuracy 0.741, and val rmse 0.975\n",
            "Epoch 998: train loss 0.629, val loss 0.710, train accuracy 0.763, val accuracy 0.738, and val rmse 0.970\n",
            "Epoch 999: train loss 0.640, val loss 0.687, train accuracy 0.761, val accuracy 0.745, and val rmse 0.981\n",
            "Epoch 1000: train loss 0.632, val loss 0.679, train accuracy 0.764, val accuracy 0.750, and val rmse 0.937\n"
          ],
          "name": "stdout"
        }
      ]
    },
    {
      "cell_type": "code",
      "metadata": {
        "colab": {
          "base_uri": "https://localhost:8080/"
        },
        "id": "PstOo0oC-RT4",
        "outputId": "9eddbdb7-7dbc-4c93-cb9b-2b584477d99c"
      },
      "source": [
        "print('Best model generated is at epoch: {0}'.format(stop_epoch+1))"
      ],
      "execution_count": null,
      "outputs": [
        {
          "output_type": "stream",
          "text": [
            "Best model generated is at epoch: 1000\n"
          ],
          "name": "stdout"
        }
      ]
    },
    {
      "cell_type": "markdown",
      "metadata": {
        "id": "Ta2IxeWJsTgl"
      },
      "source": [
        "# ***Confusion Matrix***"
      ]
    },
    {
      "cell_type": "code",
      "metadata": {
        "id": "sALS6DNvGvx-"
      },
      "source": [
        "#Getting the y values (label)\n",
        "targets=list()\n",
        "for x,y,l in val_dl:\n",
        "  for z in y:\n",
        "    targets.append(z)"
      ],
      "execution_count": null,
      "outputs": []
    },
    {
      "cell_type": "code",
      "metadata": {
        "id": "RTOwyHKVGxmy"
      },
      "source": [
        "preds=list()\n",
        "#Getting the last 48 records of the prediction list \n",
        "#as the last 48 records contains the total 20% validation data prediction \n",
        "#which represents the y_pred generated\n",
        "#by the prediction model\n",
        "temp=prediction[(stop_epoch*64):(stop_epoch*64)+64]\n",
        "for i in range (0,len(temp)):\n",
        "  for z in temp[i]:\n",
        "    preds.append(z.cpu().numpy())"
      ],
      "execution_count": null,
      "outputs": []
    },
    {
      "cell_type": "code",
      "metadata": {
        "colab": {
          "base_uri": "https://localhost:8080/"
        },
        "id": "11apwZxF9xk6",
        "outputId": "8e2b636f-7a78-4f22-a2c0-fb05c81d3d25"
      },
      "source": [
        "#Confusion Matrix\n",
        "from sklearn.metrics import classification_report\n",
        "from sklearn.metrics import confusion_matrix\n",
        "y_true = targets\n",
        "y_pred = preds\n",
        "print(confusion_matrix(y_true, y_pred))\n",
        "print(classification_report(y_true, y_pred))"
      ],
      "execution_count": null,
      "outputs": [
        {
          "output_type": "stream",
          "text": [
            "[[648  33  34 137]\n",
            " [ 34 793 109 161]\n",
            " [ 22  63 905 124]\n",
            " [ 85  74 133 685]]\n",
            "              precision    recall  f1-score   support\n",
            "\n",
            "           0       0.82      0.76      0.79       852\n",
            "           1       0.82      0.72      0.77      1097\n",
            "           2       0.77      0.81      0.79      1114\n",
            "           3       0.62      0.70      0.66       977\n",
            "\n",
            "    accuracy                           0.75      4040\n",
            "   macro avg       0.76      0.75      0.75      4040\n",
            "weighted avg       0.76      0.75      0.75      4040\n",
            "\n"
          ],
          "name": "stdout"
        }
      ]
    },
    {
      "cell_type": "markdown",
      "metadata": {
        "id": "rpD7Lw0vdmvL"
      },
      "source": [
        "# ***GRAPHS***"
      ]
    },
    {
      "cell_type": "code",
      "metadata": {
        "colab": {
          "base_uri": "https://localhost:8080/",
          "height": 295
        },
        "id": "ovg_lFpmPrHP",
        "outputId": "51253722-f39e-4161-e2a7-ceffdaa81b36"
      },
      "source": [
        "#Train-Val Loss Graph\n",
        "from matplotlib import pyplot as plt\n",
        "import numpy as np\n",
        "\n",
        "loss_train = train_loss\n",
        "loss_val = validation_loss\n",
        "epochs = range(1,len(train_loss)+1)\n",
        "plt.plot(epochs, loss_train, 'g', label='Training loss')\n",
        "plt.plot(epochs, loss_val, 'b', label='validation loss')\n",
        "plt.title('Training and Validation loss')\n",
        "plt.xlabel('Epochs')\n",
        "plt.ylabel('Loss')\n",
        "plt.legend()\n",
        "plt.show()"
      ],
      "execution_count": null,
      "outputs": [
        {
          "output_type": "display_data",
          "data": {
            "image/png": "[encoded data removed]",
            "text/plain": [
              "<Figure size 432x288 with 1 Axes>"
            ]
          },
          "metadata": {
            "tags": [],
            "needs_background": "light"
          }
        }
      ]
    },
    {
      "cell_type": "code",
      "metadata": {
        "colab": {
          "base_uri": "https://localhost:8080/",
          "height": 295
        },
        "id": "Ke8bU-oP8nH0",
        "outputId": "5df4aacc-c4f0-4ec5-d40c-53deafb4ecca"
      },
      "source": [
        "#Accuracy\n",
        "from matplotlib import pyplot as plt\n",
        "import numpy as np\n",
        "\n",
        "accuracy = accuracy_val\n",
        "epochs = range(1, len(accuracy)+1)\n",
        "plt.plot(epochs, accuracy, 'g', label='Accuracy')\n",
        "plt.yticks(np.arange(0, 1.1, step=0.1))\n",
        "plt.title('Accuracy')\n",
        "plt.xlabel('Epochs')\n",
        "plt.ylabel('Accuracy Value')\n",
        "plt.legend()\n",
        "plt.show()"
      ],
      "execution_count": null,
      "outputs": [
        {
          "output_type": "display_data",
          "data": {
            "image/png": "[encoded data removed]",
            "text/plain": [
              "<Figure size 432x288 with 1 Axes>"
            ]
          },
          "metadata": {
            "tags": [],
            "needs_background": "light"
          }
        }
      ]
    },
    {
      "cell_type": "markdown",
      "metadata": {
        "id": "9vIrwPiQxdds"
      },
      "source": [
        "# ***Testing***"
      ]
    }
  ]
}